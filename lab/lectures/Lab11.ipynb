{
 "cells": [
  {
   "cell_type": "code",
   "execution_count": 1,
   "metadata": {},
   "outputs": [],
   "source": [
    "import random"
   ]
  },
  {
   "cell_type": "code",
   "execution_count": 2,
   "metadata": {},
   "outputs": [],
   "source": [
    "class StatisticalTest:\n",
    "    def __init__(self,\n",
    "                 D_M, D_NM, H_M, H_NM\n",
    "                 ):\n",
    "        self.D_M = D_M\n",
    "        self.D_NM = D_NM\n",
    "        self.H_M = H_M\n",
    "        self.H_NM = H_NM\n",
    "\n",
    "        self.basic_stats()\n",
    "        self.get_expected()\n",
    "        self.chi2 = self.get_chi2(\n",
    "            self.D_M, self.D_NM, self.H_M, self.H_NM,\n",
    "            self.E_D_M, self.E_D_NM, self.E_H_M, self.E_H_NM\n",
    "        )\n",
    "\n",
    "    def basic_stats(self, ):\n",
    "        self.TOTAL = self.D_M + self.D_NM + self.H_M + self.H_NM\n",
    "        self.TOTAL_M = self.D_M + self.H_M\n",
    "        self.TOTAL_NM = self.D_NM + self.H_NM\n",
    "        self.TOTAL_D = self.D_M + self.D_NM\n",
    "        self.TOTAL_H = self.H_M + self.H_NM\n",
    "        self.p_M = (self.D_M + self.H_M) / self.TOTAL\n",
    "\n",
    "        self.have_mutation = [True] * self.TOTAL_M + [False] * self.TOTAL_NM\n",
    "        self.have_disease = [True] * self.TOTAL_D + [False] * self.TOTAL_H\n",
    "\n",
    "    def get_expected(self, ):\n",
    "        self.E_D_M = self.TOTAL_D * self.p_M\n",
    "        self.E_H_M = self.TOTAL_H * self.p_M\n",
    "        self.E_D_NM = self.TOTAL_D * (1 - self.p_M)\n",
    "        self.E_H_NM = self.TOTAL_H * (1 - self.p_M)\n",
    "\n",
    "    @staticmethod\n",
    "    def get_chi2(\n",
    "            O_1, O_2, O_3, O_4,\n",
    "            E_1, E_2, E_3, E_4,\n",
    "    ):\n",
    "        diff = (\n",
    "                (O_1 - E_1) ** 2 / E_1 +\n",
    "                (O_2 - E_2) ** 2 / E_2 +\n",
    "                (O_3 - E_3) ** 2 / E_3 +\n",
    "                (O_4 - E_4) ** 2 / E_4\n",
    "        )\n",
    "\n",
    "        return diff\n",
    "\n",
    "    def random_trial(self, ):\n",
    "        random.shuffle(self.have_disease)\n",
    "        random.shuffle(self.have_mutation)\n",
    "\n",
    "        R_D_M = sum(k and l for k, l in zip(self.have_disease, self.have_mutation))\n",
    "        R_D_NM = sum(k and not l for k, l in zip(self.have_disease, self.have_mutation))\n",
    "        R_H_M = sum(not k and l for k, l in zip(self.have_disease, self.have_mutation))\n",
    "        R_H_NM = sum(not k and not l for k, l in zip(self.have_disease, self.have_mutation))\n",
    "\n",
    "        chi2_random = self.get_chi2(\n",
    "            R_D_M, R_D_NM, R_H_M, R_H_NM,\n",
    "            self.E_D_M, self.E_D_NM, self.E_H_M, self.E_H_NM\n",
    "        )\n",
    "\n",
    "        return chi2_random >= self.chi2\n",
    "\n",
    "    def random_trials(self, N):\n",
    "        s = sum(self.random_trial() for _ in range(N))\n",
    "\n",
    "        return s / N"
   ]
  },
  {
   "cell_type": "markdown",
   "metadata": {},
   "source": [
    "\n",
    " D_M = Have Disease with Mutation\n",
    " \n",
    " D_NM = Have Disease without Mutation\n",
    "\n",
    " H_M = Healthy with Mutation\n",
    " \n",
    " H_NM = Healthy without Mutation\n",
    " \n",
    " \n",
    " Αν τρέξουμε το παρακάτω θα δούμε ότι αν μία μετάλλαξη δεν συσχετίζεται με μία ασθένεια τότε η πιθανότητα να δούμε τη κατανομή:\n",
    " \n",
    " D_M=40, D_NM=100, H_M=20, H_NM=100 είναι ~0.028\n",
    " \n",
    " \n",
    " Αφού το 0.028 < 0.05 λέμε ότι αυτή η κατανομή παραείναι σπάνια για να μην \"παίζει κάτι\" (δηλαδή μη τυχαίο) άρα καταρρίπτουμε την αρχική μας υπόθεση ότι η μετάλλαξη δεν συσχετίζεται με την ασθένεια. \n",
    " \n",
    " \n",
    " Πειραματιστείτε αλλάζοντας τις τιμές των D_M, D_NM, H_M, H_NM και δείτε πως αλλάζει το αποτέλεσμα.\n",
    " \n",
    " \n",
    " Μπορείτε να σκεφτείτε ότι:\n",
    " \n",
    " D_M = Φορές που δεν παίρνω ομπρέλα και βρέχει\n",
    " \n",
    " D_NM = Φορές που δεν παίρνω ομπρέλα κα δεν βρέχει\n",
    " \n",
    " H_M = Φορές που παίρνω ομπρέλα και βρέχει \n",
    " \n",
    " H_NM = φορές που παίρνω ομπρέλα και δεν βρέχει \n",
    " \n",
    " \n",
    " αν το αποτέλεσμα που βγάζει αυτή η ανάλυση < 0.05 τότε ο Θεός με μισεί!"
   ]
  },
  {
   "cell_type": "code",
   "execution_count": 3,
   "metadata": {},
   "outputs": [
    {
     "data": {
      "text/plain": "0.0278"
     },
     "execution_count": 3,
     "metadata": {},
     "output_type": "execute_result"
    }
   ],
   "source": [
    "s = StatisticalTest(D_M=40, D_NM=100, H_M=20, H_NM=100)\n",
    "s.random_trials(10_000)"
   ]
  },
  {
   "cell_type": "code",
   "execution_count": 3,
   "metadata": {},
   "outputs": [],
   "source": []
  }
 ],
 "metadata": {
  "kernelspec": {
   "name": "pycharm-6e9ebdfe",
   "language": "python",
   "display_name": "PyCharm (uni-work)"
  },
  "language_info": {
   "codemirror_mode": {
    "name": "ipython",
    "version": 3
   },
   "file_extension": ".py",
   "mimetype": "text/x-python",
   "name": "python",
   "nbconvert_exporter": "python",
   "pygments_lexer": "ipython3",
   "version": "3.8.5"
  }
 },
 "nbformat": 4,
 "nbformat_minor": 4
}