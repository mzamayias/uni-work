{
 "cells": [
  {
   "cell_type": "markdown",
   "metadata": {},
   "source": [
    "# Machine learning for Bioinformatics"
   ]
  },
  {
   "cell_type": "code",
   "execution_count": 1,
   "metadata": {},
   "outputs": [],
   "source": [
    "import numpy as np\n",
    "import pandas as pd"
   ]
  },
  {
   "cell_type": "code",
   "execution_count": 2,
   "metadata": {},
   "outputs": [],
   "source": [
    "samples = pd.read_csv(\"http://139.91.190.186/tei/bioinformatics/genes.txt\", sep = \"\\t\")"
   ]
  },
  {
   "cell_type": "code",
   "execution_count": 3,
   "metadata": {},
   "outputs": [
    {
     "data": {
      "text/plain": "               Gene  GastricCancer  GastricCancer.1  GastricCancer.2  \\\n0      ILMN_1343295           11.0             10.9             11.4   \n1      ILMN_1651210            5.2              5.5              5.2   \n2      ILMN_1651228           13.9             13.6             13.7   \n3      ILMN_1651229            7.5              8.0              7.8   \n4      ILMN_1651235            5.4              5.3              5.4   \n...             ...            ...              ...              ...   \n26253  ILMN_2415911            7.0              7.0              7.3   \n26254  ILMN_2415926            7.9              7.7              8.9   \n26255  ILMN_2415949            7.6              7.4              7.6   \n26256  ILMN_2415979           12.7             13.3             12.2   \n26257  ILMN_2416019            6.0              5.2              6.3   \n\n       GastricCancer.3  GastricCancer.4  GastricCancer.5  GastricCancer.6  \\\n0                 11.4             11.5             11.6             12.0   \n1                  5.3              5.2              5.3              5.3   \n2                 13.9             13.8             13.9             13.4   \n3                  7.4              7.3              7.6              6.8   \n4                  5.3              5.4              5.5              5.3   \n...                ...              ...              ...              ...   \n26253              7.3              7.2              7.2              7.2   \n26254              7.5              7.6              8.6              7.7   \n26255              7.0              7.3              8.3              8.2   \n26256             11.8             12.3             12.4             12.1   \n26257              8.0              5.5              6.5              5.4   \n\n       GastricCancer.7  GastricCancer.8  ...  Normal  Normal.1  Normal.2  \\\n0                 11.4             12.0  ...     9.1      11.2      11.1   \n1                  5.4              5.3  ...     5.3       5.4       5.2   \n2                 13.7             13.6  ...    13.3      13.8      14.2   \n3                  7.3              7.9  ...     8.2       6.9       7.1   \n4                  5.3              5.3  ...     5.5       5.4       5.4   \n...                ...              ...  ...     ...       ...       ...   \n26253              7.8              7.3  ...     6.6       6.8       7.0   \n26254              7.5              7.9  ...     6.5       7.3       7.4   \n26255              7.4              7.7  ...     7.5       7.5       7.3   \n26256             11.7             11.9  ...    13.9      12.4      12.9   \n26257              5.7              5.6  ...     7.2       6.3       5.8   \n\n       Normal.3  Normal.4  Normal.5  Normal.6  Normal.7  Normal.8  Normal.9  \n0          10.0       9.9      11.4      10.2      10.2      11.0      10.7  \n1           5.3       5.5       5.4       5.5       5.4       5.3       5.1  \n2          13.7      13.8      14.0      13.7      13.6      13.8      13.7  \n3           7.0       7.1       7.7       7.7       7.5       7.2       7.6  \n4           5.4       5.3       5.4       5.3       5.4       5.4       5.3  \n...         ...       ...       ...       ...       ...       ...       ...  \n26253       6.8       7.0       7.1       6.7       6.9       7.5       6.9  \n26254       7.0       7.0       7.1       6.8       7.6       7.6       7.3  \n26255       7.2       7.3       7.9       7.5       7.4       7.5       7.3  \n26256      13.0      12.6      11.2      13.4      11.8      10.2      12.6  \n26257       6.1       5.8       8.2       5.4       6.0       6.1       5.7  \n\n[26258 rows x 21 columns]",
      "text/html": "<div>\n<style scoped>\n    .dataframe tbody tr th:only-of-type {\n        vertical-align: middle;\n    }\n\n    .dataframe tbody tr th {\n        vertical-align: top;\n    }\n\n    .dataframe thead th {\n        text-align: right;\n    }\n</style>\n<table border=\"1\" class=\"dataframe\">\n  <thead>\n    <tr style=\"text-align: right;\">\n      <th></th>\n      <th>Gene</th>\n      <th>GastricCancer</th>\n      <th>GastricCancer.1</th>\n      <th>GastricCancer.2</th>\n      <th>GastricCancer.3</th>\n      <th>GastricCancer.4</th>\n      <th>GastricCancer.5</th>\n      <th>GastricCancer.6</th>\n      <th>GastricCancer.7</th>\n      <th>GastricCancer.8</th>\n      <th>...</th>\n      <th>Normal</th>\n      <th>Normal.1</th>\n      <th>Normal.2</th>\n      <th>Normal.3</th>\n      <th>Normal.4</th>\n      <th>Normal.5</th>\n      <th>Normal.6</th>\n      <th>Normal.7</th>\n      <th>Normal.8</th>\n      <th>Normal.9</th>\n    </tr>\n  </thead>\n  <tbody>\n    <tr>\n      <th>0</th>\n      <td>ILMN_1343295</td>\n      <td>11.0</td>\n      <td>10.9</td>\n      <td>11.4</td>\n      <td>11.4</td>\n      <td>11.5</td>\n      <td>11.6</td>\n      <td>12.0</td>\n      <td>11.4</td>\n      <td>12.0</td>\n      <td>...</td>\n      <td>9.1</td>\n      <td>11.2</td>\n      <td>11.1</td>\n      <td>10.0</td>\n      <td>9.9</td>\n      <td>11.4</td>\n      <td>10.2</td>\n      <td>10.2</td>\n      <td>11.0</td>\n      <td>10.7</td>\n    </tr>\n    <tr>\n      <th>1</th>\n      <td>ILMN_1651210</td>\n      <td>5.2</td>\n      <td>5.5</td>\n      <td>5.2</td>\n      <td>5.3</td>\n      <td>5.2</td>\n      <td>5.3</td>\n      <td>5.3</td>\n      <td>5.4</td>\n      <td>5.3</td>\n      <td>...</td>\n      <td>5.3</td>\n      <td>5.4</td>\n      <td>5.2</td>\n      <td>5.3</td>\n      <td>5.5</td>\n      <td>5.4</td>\n      <td>5.5</td>\n      <td>5.4</td>\n      <td>5.3</td>\n      <td>5.1</td>\n    </tr>\n    <tr>\n      <th>2</th>\n      <td>ILMN_1651228</td>\n      <td>13.9</td>\n      <td>13.6</td>\n      <td>13.7</td>\n      <td>13.9</td>\n      <td>13.8</td>\n      <td>13.9</td>\n      <td>13.4</td>\n      <td>13.7</td>\n      <td>13.6</td>\n      <td>...</td>\n      <td>13.3</td>\n      <td>13.8</td>\n      <td>14.2</td>\n      <td>13.7</td>\n      <td>13.8</td>\n      <td>14.0</td>\n      <td>13.7</td>\n      <td>13.6</td>\n      <td>13.8</td>\n      <td>13.7</td>\n    </tr>\n    <tr>\n      <th>3</th>\n      <td>ILMN_1651229</td>\n      <td>7.5</td>\n      <td>8.0</td>\n      <td>7.8</td>\n      <td>7.4</td>\n      <td>7.3</td>\n      <td>7.6</td>\n      <td>6.8</td>\n      <td>7.3</td>\n      <td>7.9</td>\n      <td>...</td>\n      <td>8.2</td>\n      <td>6.9</td>\n      <td>7.1</td>\n      <td>7.0</td>\n      <td>7.1</td>\n      <td>7.7</td>\n      <td>7.7</td>\n      <td>7.5</td>\n      <td>7.2</td>\n      <td>7.6</td>\n    </tr>\n    <tr>\n      <th>4</th>\n      <td>ILMN_1651235</td>\n      <td>5.4</td>\n      <td>5.3</td>\n      <td>5.4</td>\n      <td>5.3</td>\n      <td>5.4</td>\n      <td>5.5</td>\n      <td>5.3</td>\n      <td>5.3</td>\n      <td>5.3</td>\n      <td>...</td>\n      <td>5.5</td>\n      <td>5.4</td>\n      <td>5.4</td>\n      <td>5.4</td>\n      <td>5.3</td>\n      <td>5.4</td>\n      <td>5.3</td>\n      <td>5.4</td>\n      <td>5.4</td>\n      <td>5.3</td>\n    </tr>\n    <tr>\n      <th>...</th>\n      <td>...</td>\n      <td>...</td>\n      <td>...</td>\n      <td>...</td>\n      <td>...</td>\n      <td>...</td>\n      <td>...</td>\n      <td>...</td>\n      <td>...</td>\n      <td>...</td>\n      <td>...</td>\n      <td>...</td>\n      <td>...</td>\n      <td>...</td>\n      <td>...</td>\n      <td>...</td>\n      <td>...</td>\n      <td>...</td>\n      <td>...</td>\n      <td>...</td>\n      <td>...</td>\n    </tr>\n    <tr>\n      <th>26253</th>\n      <td>ILMN_2415911</td>\n      <td>7.0</td>\n      <td>7.0</td>\n      <td>7.3</td>\n      <td>7.3</td>\n      <td>7.2</td>\n      <td>7.2</td>\n      <td>7.2</td>\n      <td>7.8</td>\n      <td>7.3</td>\n      <td>...</td>\n      <td>6.6</td>\n      <td>6.8</td>\n      <td>7.0</td>\n      <td>6.8</td>\n      <td>7.0</td>\n      <td>7.1</td>\n      <td>6.7</td>\n      <td>6.9</td>\n      <td>7.5</td>\n      <td>6.9</td>\n    </tr>\n    <tr>\n      <th>26254</th>\n      <td>ILMN_2415926</td>\n      <td>7.9</td>\n      <td>7.7</td>\n      <td>8.9</td>\n      <td>7.5</td>\n      <td>7.6</td>\n      <td>8.6</td>\n      <td>7.7</td>\n      <td>7.5</td>\n      <td>7.9</td>\n      <td>...</td>\n      <td>6.5</td>\n      <td>7.3</td>\n      <td>7.4</td>\n      <td>7.0</td>\n      <td>7.0</td>\n      <td>7.1</td>\n      <td>6.8</td>\n      <td>7.6</td>\n      <td>7.6</td>\n      <td>7.3</td>\n    </tr>\n    <tr>\n      <th>26255</th>\n      <td>ILMN_2415949</td>\n      <td>7.6</td>\n      <td>7.4</td>\n      <td>7.6</td>\n      <td>7.0</td>\n      <td>7.3</td>\n      <td>8.3</td>\n      <td>8.2</td>\n      <td>7.4</td>\n      <td>7.7</td>\n      <td>...</td>\n      <td>7.5</td>\n      <td>7.5</td>\n      <td>7.3</td>\n      <td>7.2</td>\n      <td>7.3</td>\n      <td>7.9</td>\n      <td>7.5</td>\n      <td>7.4</td>\n      <td>7.5</td>\n      <td>7.3</td>\n    </tr>\n    <tr>\n      <th>26256</th>\n      <td>ILMN_2415979</td>\n      <td>12.7</td>\n      <td>13.3</td>\n      <td>12.2</td>\n      <td>11.8</td>\n      <td>12.3</td>\n      <td>12.4</td>\n      <td>12.1</td>\n      <td>11.7</td>\n      <td>11.9</td>\n      <td>...</td>\n      <td>13.9</td>\n      <td>12.4</td>\n      <td>12.9</td>\n      <td>13.0</td>\n      <td>12.6</td>\n      <td>11.2</td>\n      <td>13.4</td>\n      <td>11.8</td>\n      <td>10.2</td>\n      <td>12.6</td>\n    </tr>\n    <tr>\n      <th>26257</th>\n      <td>ILMN_2416019</td>\n      <td>6.0</td>\n      <td>5.2</td>\n      <td>6.3</td>\n      <td>8.0</td>\n      <td>5.5</td>\n      <td>6.5</td>\n      <td>5.4</td>\n      <td>5.7</td>\n      <td>5.6</td>\n      <td>...</td>\n      <td>7.2</td>\n      <td>6.3</td>\n      <td>5.8</td>\n      <td>6.1</td>\n      <td>5.8</td>\n      <td>8.2</td>\n      <td>5.4</td>\n      <td>6.0</td>\n      <td>6.1</td>\n      <td>5.7</td>\n    </tr>\n  </tbody>\n</table>\n<p>26258 rows × 21 columns</p>\n</div>"
     },
     "execution_count": 3,
     "metadata": {},
     "output_type": "execute_result"
    }
   ],
   "source": [
    "samples"
   ]
  },
  {
   "cell_type": "code",
   "execution_count": 4,
   "metadata": {},
   "outputs": [
    {
     "data": {
      "text/plain": "                        0             1             2             3      \\\nGene             ILMN_1343295  ILMN_1651210  ILMN_1651228  ILMN_1651229   \nGastricCancer            11.0           5.2          13.9           7.5   \nGastricCancer.1          10.9           5.5          13.6           8.0   \nGastricCancer.2          11.4           5.2          13.7           7.8   \nGastricCancer.3          11.4           5.3          13.9           7.4   \nGastricCancer.4          11.5           5.2          13.8           7.3   \nGastricCancer.5          11.6           5.3          13.9           7.6   \nGastricCancer.6          12.0           5.3          13.4           6.8   \nGastricCancer.7          11.4           5.4          13.7           7.3   \nGastricCancer.8          12.0           5.3          13.6           7.9   \nGastricCancer.9          11.7           5.3          13.6           7.2   \nNormal                    9.1           5.3          13.3           8.2   \nNormal.1                 11.2           5.4          13.8           6.9   \nNormal.2                 11.1           5.2          14.2           7.1   \nNormal.3                 10.0           5.3          13.7           7.0   \nNormal.4                  9.9           5.5          13.8           7.1   \nNormal.5                 11.4           5.4          14.0           7.7   \nNormal.6                 10.2           5.5          13.7           7.7   \nNormal.7                 10.2           5.4          13.6           7.5   \nNormal.8                 11.0           5.3          13.8           7.2   \nNormal.9                 10.7           5.1          13.7           7.6   \n\n                        4             5             6             7      \\\nGene             ILMN_1651235  ILMN_1651236  ILMN_1651237  ILMN_1651238   \nGastricCancer             5.4           5.4           6.6           5.3   \nGastricCancer.1           5.3           5.5           7.1           5.4   \nGastricCancer.2           5.4           5.5           6.4           5.1   \nGastricCancer.3           5.3           5.6           7.1           5.2   \nGastricCancer.4           5.4           5.6           6.8           5.3   \nGastricCancer.5           5.5           5.7           8.6           5.1   \nGastricCancer.6           5.3           5.5           7.8           5.4   \nGastricCancer.7           5.3           5.5           7.3           5.1   \nGastricCancer.8           5.3           5.7           8.2           5.3   \nGastricCancer.9           5.3           5.6           6.6           5.3   \nNormal                    5.5           5.5           6.7           5.4   \nNormal.1                  5.4           5.5           6.9           5.4   \nNormal.2                  5.4           5.5           6.3           5.2   \nNormal.3                  5.4           5.5           6.9           5.3   \nNormal.4                  5.3           5.5           7.6           5.1   \nNormal.5                  5.4           5.5           7.5           5.4   \nNormal.6                  5.3           5.5           5.7           5.4   \nNormal.7                  5.4           5.5           6.2           5.2   \nNormal.8                  5.4           5.5           7.0           5.1   \nNormal.9                  5.3           5.6           7.2           5.2   \n\n                        8             9      ...         26248         26249  \\\nGene             ILMN_1651254  ILMN_1651259  ...  ILMN_2415748  ILMN_2415776   \nGastricCancer            12.6           5.6  ...          10.6           5.6   \nGastricCancer.1          10.0           5.3  ...          11.0           5.2   \nGastricCancer.2          10.8           5.4  ...          10.1           5.9   \nGastricCancer.3          11.8           5.5  ...           9.6           5.4   \nGastricCancer.4          11.5           5.4  ...           9.2           5.5   \nGastricCancer.5           9.7           5.3  ...           8.8           5.5   \nGastricCancer.6           9.6           5.4  ...           8.7           5.3   \nGastricCancer.7          11.7           5.4  ...           9.1           5.7   \nGastricCancer.8          10.6           5.4  ...           8.8           6.1   \nGastricCancer.9          11.5           5.4  ...           9.0           5.3   \nNormal                   11.5           5.4  ...          12.5           6.8   \nNormal.1                 10.4           5.2  ...           9.5           5.2   \nNormal.2                 11.0           5.5  ...          10.1           5.7   \nNormal.3                 11.5           5.3  ...          10.5           5.7   \nNormal.4                 11.3           5.4  ...          10.6           5.4   \nNormal.5                 10.4           5.3  ...           8.8           5.5   \nNormal.6                 10.6           5.2  ...          10.9           5.4   \nNormal.7                 11.7           5.5  ...          10.4           5.8   \nNormal.8                 11.0           5.5  ...           8.9           5.6   \nNormal.9                 10.9           5.4  ...          10.4           5.8   \n\n                        26250         26251         26252         26253  \\\nGene             ILMN_2415786  ILMN_2415826  ILMN_2415898  ILMN_2415911   \nGastricCancer             6.8           5.5           8.2           7.0   \nGastricCancer.1           9.5           5.5           7.6           7.0   \nGastricCancer.2           5.9           5.6           7.6           7.3   \nGastricCancer.3           6.5           5.4           7.4           7.3   \nGastricCancer.4           7.5           5.5           8.1           7.2   \nGastricCancer.5           8.1           5.4           7.8           7.2   \nGastricCancer.6           7.5           5.4           8.1           7.2   \nGastricCancer.7           8.9           5.6           8.3           7.8   \nGastricCancer.8           7.1           5.5           7.4           7.3   \nGastricCancer.9           7.5           5.5           8.2           6.9   \nNormal                    9.9           5.6           7.6           6.6   \nNormal.1                  8.9           5.6           7.8           6.8   \nNormal.2                  7.4           5.3           8.3           7.0   \nNormal.3                  9.0           5.6           7.8           6.8   \nNormal.4                  9.4           5.5           7.1           7.0   \nNormal.5                  7.8           5.6           8.1           7.1   \nNormal.6                  9.2           5.6           8.4           6.7   \nNormal.7                  8.1           5.7           8.1           6.9   \nNormal.8                  7.9           5.6           7.8           7.5   \nNormal.9                  7.7           5.5           8.2           6.9   \n\n                        26254         26255         26256         26257  \nGene             ILMN_2415926  ILMN_2415949  ILMN_2415979  ILMN_2416019  \nGastricCancer             7.9           7.6          12.7           6.0  \nGastricCancer.1           7.7           7.4          13.3           5.2  \nGastricCancer.2           8.9           7.6          12.2           6.3  \nGastricCancer.3           7.5           7.0          11.8           8.0  \nGastricCancer.4           7.6           7.3          12.3           5.5  \nGastricCancer.5           8.6           8.3          12.4           6.5  \nGastricCancer.6           7.7           8.2          12.1           5.4  \nGastricCancer.7           7.5           7.4          11.7           5.7  \nGastricCancer.8           7.9           7.7          11.9           5.6  \nGastricCancer.9           7.1           7.9          11.7           6.4  \nNormal                    6.5           7.5          13.9           7.2  \nNormal.1                  7.3           7.5          12.4           6.3  \nNormal.2                  7.4           7.3          12.9           5.8  \nNormal.3                  7.0           7.2          13.0           6.1  \nNormal.4                  7.0           7.3          12.6           5.8  \nNormal.5                  7.1           7.9          11.2           8.2  \nNormal.6                  6.8           7.5          13.4           5.4  \nNormal.7                  7.6           7.4          11.8           6.0  \nNormal.8                  7.6           7.5          10.2           6.1  \nNormal.9                  7.3           7.3          12.6           5.7  \n\n[21 rows x 26258 columns]",
      "text/html": "<div>\n<style scoped>\n    .dataframe tbody tr th:only-of-type {\n        vertical-align: middle;\n    }\n\n    .dataframe tbody tr th {\n        vertical-align: top;\n    }\n\n    .dataframe thead th {\n        text-align: right;\n    }\n</style>\n<table border=\"1\" class=\"dataframe\">\n  <thead>\n    <tr style=\"text-align: right;\">\n      <th></th>\n      <th>0</th>\n      <th>1</th>\n      <th>2</th>\n      <th>3</th>\n      <th>4</th>\n      <th>5</th>\n      <th>6</th>\n      <th>7</th>\n      <th>8</th>\n      <th>9</th>\n      <th>...</th>\n      <th>26248</th>\n      <th>26249</th>\n      <th>26250</th>\n      <th>26251</th>\n      <th>26252</th>\n      <th>26253</th>\n      <th>26254</th>\n      <th>26255</th>\n      <th>26256</th>\n      <th>26257</th>\n    </tr>\n  </thead>\n  <tbody>\n    <tr>\n      <th>Gene</th>\n      <td>ILMN_1343295</td>\n      <td>ILMN_1651210</td>\n      <td>ILMN_1651228</td>\n      <td>ILMN_1651229</td>\n      <td>ILMN_1651235</td>\n      <td>ILMN_1651236</td>\n      <td>ILMN_1651237</td>\n      <td>ILMN_1651238</td>\n      <td>ILMN_1651254</td>\n      <td>ILMN_1651259</td>\n      <td>...</td>\n      <td>ILMN_2415748</td>\n      <td>ILMN_2415776</td>\n      <td>ILMN_2415786</td>\n      <td>ILMN_2415826</td>\n      <td>ILMN_2415898</td>\n      <td>ILMN_2415911</td>\n      <td>ILMN_2415926</td>\n      <td>ILMN_2415949</td>\n      <td>ILMN_2415979</td>\n      <td>ILMN_2416019</td>\n    </tr>\n    <tr>\n      <th>GastricCancer</th>\n      <td>11.0</td>\n      <td>5.2</td>\n      <td>13.9</td>\n      <td>7.5</td>\n      <td>5.4</td>\n      <td>5.4</td>\n      <td>6.6</td>\n      <td>5.3</td>\n      <td>12.6</td>\n      <td>5.6</td>\n      <td>...</td>\n      <td>10.6</td>\n      <td>5.6</td>\n      <td>6.8</td>\n      <td>5.5</td>\n      <td>8.2</td>\n      <td>7.0</td>\n      <td>7.9</td>\n      <td>7.6</td>\n      <td>12.7</td>\n      <td>6.0</td>\n    </tr>\n    <tr>\n      <th>GastricCancer.1</th>\n      <td>10.9</td>\n      <td>5.5</td>\n      <td>13.6</td>\n      <td>8.0</td>\n      <td>5.3</td>\n      <td>5.5</td>\n      <td>7.1</td>\n      <td>5.4</td>\n      <td>10.0</td>\n      <td>5.3</td>\n      <td>...</td>\n      <td>11.0</td>\n      <td>5.2</td>\n      <td>9.5</td>\n      <td>5.5</td>\n      <td>7.6</td>\n      <td>7.0</td>\n      <td>7.7</td>\n      <td>7.4</td>\n      <td>13.3</td>\n      <td>5.2</td>\n    </tr>\n    <tr>\n      <th>GastricCancer.2</th>\n      <td>11.4</td>\n      <td>5.2</td>\n      <td>13.7</td>\n      <td>7.8</td>\n      <td>5.4</td>\n      <td>5.5</td>\n      <td>6.4</td>\n      <td>5.1</td>\n      <td>10.8</td>\n      <td>5.4</td>\n      <td>...</td>\n      <td>10.1</td>\n      <td>5.9</td>\n      <td>5.9</td>\n      <td>5.6</td>\n      <td>7.6</td>\n      <td>7.3</td>\n      <td>8.9</td>\n      <td>7.6</td>\n      <td>12.2</td>\n      <td>6.3</td>\n    </tr>\n    <tr>\n      <th>GastricCancer.3</th>\n      <td>11.4</td>\n      <td>5.3</td>\n      <td>13.9</td>\n      <td>7.4</td>\n      <td>5.3</td>\n      <td>5.6</td>\n      <td>7.1</td>\n      <td>5.2</td>\n      <td>11.8</td>\n      <td>5.5</td>\n      <td>...</td>\n      <td>9.6</td>\n      <td>5.4</td>\n      <td>6.5</td>\n      <td>5.4</td>\n      <td>7.4</td>\n      <td>7.3</td>\n      <td>7.5</td>\n      <td>7.0</td>\n      <td>11.8</td>\n      <td>8.0</td>\n    </tr>\n    <tr>\n      <th>GastricCancer.4</th>\n      <td>11.5</td>\n      <td>5.2</td>\n      <td>13.8</td>\n      <td>7.3</td>\n      <td>5.4</td>\n      <td>5.6</td>\n      <td>6.8</td>\n      <td>5.3</td>\n      <td>11.5</td>\n      <td>5.4</td>\n      <td>...</td>\n      <td>9.2</td>\n      <td>5.5</td>\n      <td>7.5</td>\n      <td>5.5</td>\n      <td>8.1</td>\n      <td>7.2</td>\n      <td>7.6</td>\n      <td>7.3</td>\n      <td>12.3</td>\n      <td>5.5</td>\n    </tr>\n    <tr>\n      <th>GastricCancer.5</th>\n      <td>11.6</td>\n      <td>5.3</td>\n      <td>13.9</td>\n      <td>7.6</td>\n      <td>5.5</td>\n      <td>5.7</td>\n      <td>8.6</td>\n      <td>5.1</td>\n      <td>9.7</td>\n      <td>5.3</td>\n      <td>...</td>\n      <td>8.8</td>\n      <td>5.5</td>\n      <td>8.1</td>\n      <td>5.4</td>\n      <td>7.8</td>\n      <td>7.2</td>\n      <td>8.6</td>\n      <td>8.3</td>\n      <td>12.4</td>\n      <td>6.5</td>\n    </tr>\n    <tr>\n      <th>GastricCancer.6</th>\n      <td>12.0</td>\n      <td>5.3</td>\n      <td>13.4</td>\n      <td>6.8</td>\n      <td>5.3</td>\n      <td>5.5</td>\n      <td>7.8</td>\n      <td>5.4</td>\n      <td>9.6</td>\n      <td>5.4</td>\n      <td>...</td>\n      <td>8.7</td>\n      <td>5.3</td>\n      <td>7.5</td>\n      <td>5.4</td>\n      <td>8.1</td>\n      <td>7.2</td>\n      <td>7.7</td>\n      <td>8.2</td>\n      <td>12.1</td>\n      <td>5.4</td>\n    </tr>\n    <tr>\n      <th>GastricCancer.7</th>\n      <td>11.4</td>\n      <td>5.4</td>\n      <td>13.7</td>\n      <td>7.3</td>\n      <td>5.3</td>\n      <td>5.5</td>\n      <td>7.3</td>\n      <td>5.1</td>\n      <td>11.7</td>\n      <td>5.4</td>\n      <td>...</td>\n      <td>9.1</td>\n      <td>5.7</td>\n      <td>8.9</td>\n      <td>5.6</td>\n      <td>8.3</td>\n      <td>7.8</td>\n      <td>7.5</td>\n      <td>7.4</td>\n      <td>11.7</td>\n      <td>5.7</td>\n    </tr>\n    <tr>\n      <th>GastricCancer.8</th>\n      <td>12.0</td>\n      <td>5.3</td>\n      <td>13.6</td>\n      <td>7.9</td>\n      <td>5.3</td>\n      <td>5.7</td>\n      <td>8.2</td>\n      <td>5.3</td>\n      <td>10.6</td>\n      <td>5.4</td>\n      <td>...</td>\n      <td>8.8</td>\n      <td>6.1</td>\n      <td>7.1</td>\n      <td>5.5</td>\n      <td>7.4</td>\n      <td>7.3</td>\n      <td>7.9</td>\n      <td>7.7</td>\n      <td>11.9</td>\n      <td>5.6</td>\n    </tr>\n    <tr>\n      <th>GastricCancer.9</th>\n      <td>11.7</td>\n      <td>5.3</td>\n      <td>13.6</td>\n      <td>7.2</td>\n      <td>5.3</td>\n      <td>5.6</td>\n      <td>6.6</td>\n      <td>5.3</td>\n      <td>11.5</td>\n      <td>5.4</td>\n      <td>...</td>\n      <td>9.0</td>\n      <td>5.3</td>\n      <td>7.5</td>\n      <td>5.5</td>\n      <td>8.2</td>\n      <td>6.9</td>\n      <td>7.1</td>\n      <td>7.9</td>\n      <td>11.7</td>\n      <td>6.4</td>\n    </tr>\n    <tr>\n      <th>Normal</th>\n      <td>9.1</td>\n      <td>5.3</td>\n      <td>13.3</td>\n      <td>8.2</td>\n      <td>5.5</td>\n      <td>5.5</td>\n      <td>6.7</td>\n      <td>5.4</td>\n      <td>11.5</td>\n      <td>5.4</td>\n      <td>...</td>\n      <td>12.5</td>\n      <td>6.8</td>\n      <td>9.9</td>\n      <td>5.6</td>\n      <td>7.6</td>\n      <td>6.6</td>\n      <td>6.5</td>\n      <td>7.5</td>\n      <td>13.9</td>\n      <td>7.2</td>\n    </tr>\n    <tr>\n      <th>Normal.1</th>\n      <td>11.2</td>\n      <td>5.4</td>\n      <td>13.8</td>\n      <td>6.9</td>\n      <td>5.4</td>\n      <td>5.5</td>\n      <td>6.9</td>\n      <td>5.4</td>\n      <td>10.4</td>\n      <td>5.2</td>\n      <td>...</td>\n      <td>9.5</td>\n      <td>5.2</td>\n      <td>8.9</td>\n      <td>5.6</td>\n      <td>7.8</td>\n      <td>6.8</td>\n      <td>7.3</td>\n      <td>7.5</td>\n      <td>12.4</td>\n      <td>6.3</td>\n    </tr>\n    <tr>\n      <th>Normal.2</th>\n      <td>11.1</td>\n      <td>5.2</td>\n      <td>14.2</td>\n      <td>7.1</td>\n      <td>5.4</td>\n      <td>5.5</td>\n      <td>6.3</td>\n      <td>5.2</td>\n      <td>11.0</td>\n      <td>5.5</td>\n      <td>...</td>\n      <td>10.1</td>\n      <td>5.7</td>\n      <td>7.4</td>\n      <td>5.3</td>\n      <td>8.3</td>\n      <td>7.0</td>\n      <td>7.4</td>\n      <td>7.3</td>\n      <td>12.9</td>\n      <td>5.8</td>\n    </tr>\n    <tr>\n      <th>Normal.3</th>\n      <td>10.0</td>\n      <td>5.3</td>\n      <td>13.7</td>\n      <td>7.0</td>\n      <td>5.4</td>\n      <td>5.5</td>\n      <td>6.9</td>\n      <td>5.3</td>\n      <td>11.5</td>\n      <td>5.3</td>\n      <td>...</td>\n      <td>10.5</td>\n      <td>5.7</td>\n      <td>9.0</td>\n      <td>5.6</td>\n      <td>7.8</td>\n      <td>6.8</td>\n      <td>7.0</td>\n      <td>7.2</td>\n      <td>13.0</td>\n      <td>6.1</td>\n    </tr>\n    <tr>\n      <th>Normal.4</th>\n      <td>9.9</td>\n      <td>5.5</td>\n      <td>13.8</td>\n      <td>7.1</td>\n      <td>5.3</td>\n      <td>5.5</td>\n      <td>7.6</td>\n      <td>5.1</td>\n      <td>11.3</td>\n      <td>5.4</td>\n      <td>...</td>\n      <td>10.6</td>\n      <td>5.4</td>\n      <td>9.4</td>\n      <td>5.5</td>\n      <td>7.1</td>\n      <td>7.0</td>\n      <td>7.0</td>\n      <td>7.3</td>\n      <td>12.6</td>\n      <td>5.8</td>\n    </tr>\n    <tr>\n      <th>Normal.5</th>\n      <td>11.4</td>\n      <td>5.4</td>\n      <td>14.0</td>\n      <td>7.7</td>\n      <td>5.4</td>\n      <td>5.5</td>\n      <td>7.5</td>\n      <td>5.4</td>\n      <td>10.4</td>\n      <td>5.3</td>\n      <td>...</td>\n      <td>8.8</td>\n      <td>5.5</td>\n      <td>7.8</td>\n      <td>5.6</td>\n      <td>8.1</td>\n      <td>7.1</td>\n      <td>7.1</td>\n      <td>7.9</td>\n      <td>11.2</td>\n      <td>8.2</td>\n    </tr>\n    <tr>\n      <th>Normal.6</th>\n      <td>10.2</td>\n      <td>5.5</td>\n      <td>13.7</td>\n      <td>7.7</td>\n      <td>5.3</td>\n      <td>5.5</td>\n      <td>5.7</td>\n      <td>5.4</td>\n      <td>10.6</td>\n      <td>5.2</td>\n      <td>...</td>\n      <td>10.9</td>\n      <td>5.4</td>\n      <td>9.2</td>\n      <td>5.6</td>\n      <td>8.4</td>\n      <td>6.7</td>\n      <td>6.8</td>\n      <td>7.5</td>\n      <td>13.4</td>\n      <td>5.4</td>\n    </tr>\n    <tr>\n      <th>Normal.7</th>\n      <td>10.2</td>\n      <td>5.4</td>\n      <td>13.6</td>\n      <td>7.5</td>\n      <td>5.4</td>\n      <td>5.5</td>\n      <td>6.2</td>\n      <td>5.2</td>\n      <td>11.7</td>\n      <td>5.5</td>\n      <td>...</td>\n      <td>10.4</td>\n      <td>5.8</td>\n      <td>8.1</td>\n      <td>5.7</td>\n      <td>8.1</td>\n      <td>6.9</td>\n      <td>7.6</td>\n      <td>7.4</td>\n      <td>11.8</td>\n      <td>6.0</td>\n    </tr>\n    <tr>\n      <th>Normal.8</th>\n      <td>11.0</td>\n      <td>5.3</td>\n      <td>13.8</td>\n      <td>7.2</td>\n      <td>5.4</td>\n      <td>5.5</td>\n      <td>7.0</td>\n      <td>5.1</td>\n      <td>11.0</td>\n      <td>5.5</td>\n      <td>...</td>\n      <td>8.9</td>\n      <td>5.6</td>\n      <td>7.9</td>\n      <td>5.6</td>\n      <td>7.8</td>\n      <td>7.5</td>\n      <td>7.6</td>\n      <td>7.5</td>\n      <td>10.2</td>\n      <td>6.1</td>\n    </tr>\n    <tr>\n      <th>Normal.9</th>\n      <td>10.7</td>\n      <td>5.1</td>\n      <td>13.7</td>\n      <td>7.6</td>\n      <td>5.3</td>\n      <td>5.6</td>\n      <td>7.2</td>\n      <td>5.2</td>\n      <td>10.9</td>\n      <td>5.4</td>\n      <td>...</td>\n      <td>10.4</td>\n      <td>5.8</td>\n      <td>7.7</td>\n      <td>5.5</td>\n      <td>8.2</td>\n      <td>6.9</td>\n      <td>7.3</td>\n      <td>7.3</td>\n      <td>12.6</td>\n      <td>5.7</td>\n    </tr>\n  </tbody>\n</table>\n<p>21 rows × 26258 columns</p>\n</div>"
     },
     "execution_count": 4,
     "metadata": {},
     "output_type": "execute_result"
    }
   ],
   "source": [
    "samples.T"
   ]
  },
  {
   "cell_type": "markdown",
   "metadata": {},
   "source": [
    "### Στη μηχανική μαθηση τα δεδομενα εχουν στις στήλες τα features/genes"
   ]
  },
  {
   "cell_type": "markdown",
   "metadata": {},
   "source": [
    "# Data Pre-processing"
   ]
  },
  {
   "cell_type": "code",
   "execution_count": 5,
   "metadata": {},
   "outputs": [],
   "source": [
    "data = np.transpose(samples.iloc[:, 1:])"
   ]
  },
  {
   "cell_type": "code",
   "execution_count": 6,
   "metadata": {},
   "outputs": [
    {
     "data": {
      "text/plain": "                 0      1      2      3      4      5      6      7      \\\nGastricCancer     11.0    5.2   13.9    7.5    5.4    5.4    6.6    5.3   \nGastricCancer.1   10.9    5.5   13.6    8.0    5.3    5.5    7.1    5.4   \nGastricCancer.2   11.4    5.2   13.7    7.8    5.4    5.5    6.4    5.1   \nGastricCancer.3   11.4    5.3   13.9    7.4    5.3    5.6    7.1    5.2   \nGastricCancer.4   11.5    5.2   13.8    7.3    5.4    5.6    6.8    5.3   \nGastricCancer.5   11.6    5.3   13.9    7.6    5.5    5.7    8.6    5.1   \nGastricCancer.6   12.0    5.3   13.4    6.8    5.3    5.5    7.8    5.4   \nGastricCancer.7   11.4    5.4   13.7    7.3    5.3    5.5    7.3    5.1   \nGastricCancer.8   12.0    5.3   13.6    7.9    5.3    5.7    8.2    5.3   \nGastricCancer.9   11.7    5.3   13.6    7.2    5.3    5.6    6.6    5.3   \nNormal             9.1    5.3   13.3    8.2    5.5    5.5    6.7    5.4   \nNormal.1          11.2    5.4   13.8    6.9    5.4    5.5    6.9    5.4   \nNormal.2          11.1    5.2   14.2    7.1    5.4    5.5    6.3    5.2   \nNormal.3          10.0    5.3   13.7    7.0    5.4    5.5    6.9    5.3   \nNormal.4           9.9    5.5   13.8    7.1    5.3    5.5    7.6    5.1   \nNormal.5          11.4    5.4   14.0    7.7    5.4    5.5    7.5    5.4   \nNormal.6          10.2    5.5   13.7    7.7    5.3    5.5    5.7    5.4   \nNormal.7          10.2    5.4   13.6    7.5    5.4    5.5    6.2    5.2   \nNormal.8          11.0    5.3   13.8    7.2    5.4    5.5    7.0    5.1   \nNormal.9          10.7    5.1   13.7    7.6    5.3    5.6    7.2    5.2   \n\n                 8      9      ...  26248  26249  26250  26251  26252  26253  \\\nGastricCancer     12.6    5.6  ...   10.6    5.6    6.8    5.5    8.2    7.0   \nGastricCancer.1   10.0    5.3  ...   11.0    5.2    9.5    5.5    7.6    7.0   \nGastricCancer.2   10.8    5.4  ...   10.1    5.9    5.9    5.6    7.6    7.3   \nGastricCancer.3   11.8    5.5  ...    9.6    5.4    6.5    5.4    7.4    7.3   \nGastricCancer.4   11.5    5.4  ...    9.2    5.5    7.5    5.5    8.1    7.2   \nGastricCancer.5    9.7    5.3  ...    8.8    5.5    8.1    5.4    7.8    7.2   \nGastricCancer.6    9.6    5.4  ...    8.7    5.3    7.5    5.4    8.1    7.2   \nGastricCancer.7   11.7    5.4  ...    9.1    5.7    8.9    5.6    8.3    7.8   \nGastricCancer.8   10.6    5.4  ...    8.8    6.1    7.1    5.5    7.4    7.3   \nGastricCancer.9   11.5    5.4  ...    9.0    5.3    7.5    5.5    8.2    6.9   \nNormal            11.5    5.4  ...   12.5    6.8    9.9    5.6    7.6    6.6   \nNormal.1          10.4    5.2  ...    9.5    5.2    8.9    5.6    7.8    6.8   \nNormal.2          11.0    5.5  ...   10.1    5.7    7.4    5.3    8.3    7.0   \nNormal.3          11.5    5.3  ...   10.5    5.7    9.0    5.6    7.8    6.8   \nNormal.4          11.3    5.4  ...   10.6    5.4    9.4    5.5    7.1    7.0   \nNormal.5          10.4    5.3  ...    8.8    5.5    7.8    5.6    8.1    7.1   \nNormal.6          10.6    5.2  ...   10.9    5.4    9.2    5.6    8.4    6.7   \nNormal.7          11.7    5.5  ...   10.4    5.8    8.1    5.7    8.1    6.9   \nNormal.8          11.0    5.5  ...    8.9    5.6    7.9    5.6    7.8    7.5   \nNormal.9          10.9    5.4  ...   10.4    5.8    7.7    5.5    8.2    6.9   \n\n                 26254  26255  26256  26257  \nGastricCancer      7.9    7.6   12.7    6.0  \nGastricCancer.1    7.7    7.4   13.3    5.2  \nGastricCancer.2    8.9    7.6   12.2    6.3  \nGastricCancer.3    7.5    7.0   11.8    8.0  \nGastricCancer.4    7.6    7.3   12.3    5.5  \nGastricCancer.5    8.6    8.3   12.4    6.5  \nGastricCancer.6    7.7    8.2   12.1    5.4  \nGastricCancer.7    7.5    7.4   11.7    5.7  \nGastricCancer.8    7.9    7.7   11.9    5.6  \nGastricCancer.9    7.1    7.9   11.7    6.4  \nNormal             6.5    7.5   13.9    7.2  \nNormal.1           7.3    7.5   12.4    6.3  \nNormal.2           7.4    7.3   12.9    5.8  \nNormal.3           7.0    7.2   13.0    6.1  \nNormal.4           7.0    7.3   12.6    5.8  \nNormal.5           7.1    7.9   11.2    8.2  \nNormal.6           6.8    7.5   13.4    5.4  \nNormal.7           7.6    7.4   11.8    6.0  \nNormal.8           7.6    7.5   10.2    6.1  \nNormal.9           7.3    7.3   12.6    5.7  \n\n[20 rows x 26258 columns]",
      "text/html": "<div>\n<style scoped>\n    .dataframe tbody tr th:only-of-type {\n        vertical-align: middle;\n    }\n\n    .dataframe tbody tr th {\n        vertical-align: top;\n    }\n\n    .dataframe thead th {\n        text-align: right;\n    }\n</style>\n<table border=\"1\" class=\"dataframe\">\n  <thead>\n    <tr style=\"text-align: right;\">\n      <th></th>\n      <th>0</th>\n      <th>1</th>\n      <th>2</th>\n      <th>3</th>\n      <th>4</th>\n      <th>5</th>\n      <th>6</th>\n      <th>7</th>\n      <th>8</th>\n      <th>9</th>\n      <th>...</th>\n      <th>26248</th>\n      <th>26249</th>\n      <th>26250</th>\n      <th>26251</th>\n      <th>26252</th>\n      <th>26253</th>\n      <th>26254</th>\n      <th>26255</th>\n      <th>26256</th>\n      <th>26257</th>\n    </tr>\n  </thead>\n  <tbody>\n    <tr>\n      <th>GastricCancer</th>\n      <td>11.0</td>\n      <td>5.2</td>\n      <td>13.9</td>\n      <td>7.5</td>\n      <td>5.4</td>\n      <td>5.4</td>\n      <td>6.6</td>\n      <td>5.3</td>\n      <td>12.6</td>\n      <td>5.6</td>\n      <td>...</td>\n      <td>10.6</td>\n      <td>5.6</td>\n      <td>6.8</td>\n      <td>5.5</td>\n      <td>8.2</td>\n      <td>7.0</td>\n      <td>7.9</td>\n      <td>7.6</td>\n      <td>12.7</td>\n      <td>6.0</td>\n    </tr>\n    <tr>\n      <th>GastricCancer.1</th>\n      <td>10.9</td>\n      <td>5.5</td>\n      <td>13.6</td>\n      <td>8.0</td>\n      <td>5.3</td>\n      <td>5.5</td>\n      <td>7.1</td>\n      <td>5.4</td>\n      <td>10.0</td>\n      <td>5.3</td>\n      <td>...</td>\n      <td>11.0</td>\n      <td>5.2</td>\n      <td>9.5</td>\n      <td>5.5</td>\n      <td>7.6</td>\n      <td>7.0</td>\n      <td>7.7</td>\n      <td>7.4</td>\n      <td>13.3</td>\n      <td>5.2</td>\n    </tr>\n    <tr>\n      <th>GastricCancer.2</th>\n      <td>11.4</td>\n      <td>5.2</td>\n      <td>13.7</td>\n      <td>7.8</td>\n      <td>5.4</td>\n      <td>5.5</td>\n      <td>6.4</td>\n      <td>5.1</td>\n      <td>10.8</td>\n      <td>5.4</td>\n      <td>...</td>\n      <td>10.1</td>\n      <td>5.9</td>\n      <td>5.9</td>\n      <td>5.6</td>\n      <td>7.6</td>\n      <td>7.3</td>\n      <td>8.9</td>\n      <td>7.6</td>\n      <td>12.2</td>\n      <td>6.3</td>\n    </tr>\n    <tr>\n      <th>GastricCancer.3</th>\n      <td>11.4</td>\n      <td>5.3</td>\n      <td>13.9</td>\n      <td>7.4</td>\n      <td>5.3</td>\n      <td>5.6</td>\n      <td>7.1</td>\n      <td>5.2</td>\n      <td>11.8</td>\n      <td>5.5</td>\n      <td>...</td>\n      <td>9.6</td>\n      <td>5.4</td>\n      <td>6.5</td>\n      <td>5.4</td>\n      <td>7.4</td>\n      <td>7.3</td>\n      <td>7.5</td>\n      <td>7.0</td>\n      <td>11.8</td>\n      <td>8.0</td>\n    </tr>\n    <tr>\n      <th>GastricCancer.4</th>\n      <td>11.5</td>\n      <td>5.2</td>\n      <td>13.8</td>\n      <td>7.3</td>\n      <td>5.4</td>\n      <td>5.6</td>\n      <td>6.8</td>\n      <td>5.3</td>\n      <td>11.5</td>\n      <td>5.4</td>\n      <td>...</td>\n      <td>9.2</td>\n      <td>5.5</td>\n      <td>7.5</td>\n      <td>5.5</td>\n      <td>8.1</td>\n      <td>7.2</td>\n      <td>7.6</td>\n      <td>7.3</td>\n      <td>12.3</td>\n      <td>5.5</td>\n    </tr>\n    <tr>\n      <th>GastricCancer.5</th>\n      <td>11.6</td>\n      <td>5.3</td>\n      <td>13.9</td>\n      <td>7.6</td>\n      <td>5.5</td>\n      <td>5.7</td>\n      <td>8.6</td>\n      <td>5.1</td>\n      <td>9.7</td>\n      <td>5.3</td>\n      <td>...</td>\n      <td>8.8</td>\n      <td>5.5</td>\n      <td>8.1</td>\n      <td>5.4</td>\n      <td>7.8</td>\n      <td>7.2</td>\n      <td>8.6</td>\n      <td>8.3</td>\n      <td>12.4</td>\n      <td>6.5</td>\n    </tr>\n    <tr>\n      <th>GastricCancer.6</th>\n      <td>12.0</td>\n      <td>5.3</td>\n      <td>13.4</td>\n      <td>6.8</td>\n      <td>5.3</td>\n      <td>5.5</td>\n      <td>7.8</td>\n      <td>5.4</td>\n      <td>9.6</td>\n      <td>5.4</td>\n      <td>...</td>\n      <td>8.7</td>\n      <td>5.3</td>\n      <td>7.5</td>\n      <td>5.4</td>\n      <td>8.1</td>\n      <td>7.2</td>\n      <td>7.7</td>\n      <td>8.2</td>\n      <td>12.1</td>\n      <td>5.4</td>\n    </tr>\n    <tr>\n      <th>GastricCancer.7</th>\n      <td>11.4</td>\n      <td>5.4</td>\n      <td>13.7</td>\n      <td>7.3</td>\n      <td>5.3</td>\n      <td>5.5</td>\n      <td>7.3</td>\n      <td>5.1</td>\n      <td>11.7</td>\n      <td>5.4</td>\n      <td>...</td>\n      <td>9.1</td>\n      <td>5.7</td>\n      <td>8.9</td>\n      <td>5.6</td>\n      <td>8.3</td>\n      <td>7.8</td>\n      <td>7.5</td>\n      <td>7.4</td>\n      <td>11.7</td>\n      <td>5.7</td>\n    </tr>\n    <tr>\n      <th>GastricCancer.8</th>\n      <td>12.0</td>\n      <td>5.3</td>\n      <td>13.6</td>\n      <td>7.9</td>\n      <td>5.3</td>\n      <td>5.7</td>\n      <td>8.2</td>\n      <td>5.3</td>\n      <td>10.6</td>\n      <td>5.4</td>\n      <td>...</td>\n      <td>8.8</td>\n      <td>6.1</td>\n      <td>7.1</td>\n      <td>5.5</td>\n      <td>7.4</td>\n      <td>7.3</td>\n      <td>7.9</td>\n      <td>7.7</td>\n      <td>11.9</td>\n      <td>5.6</td>\n    </tr>\n    <tr>\n      <th>GastricCancer.9</th>\n      <td>11.7</td>\n      <td>5.3</td>\n      <td>13.6</td>\n      <td>7.2</td>\n      <td>5.3</td>\n      <td>5.6</td>\n      <td>6.6</td>\n      <td>5.3</td>\n      <td>11.5</td>\n      <td>5.4</td>\n      <td>...</td>\n      <td>9.0</td>\n      <td>5.3</td>\n      <td>7.5</td>\n      <td>5.5</td>\n      <td>8.2</td>\n      <td>6.9</td>\n      <td>7.1</td>\n      <td>7.9</td>\n      <td>11.7</td>\n      <td>6.4</td>\n    </tr>\n    <tr>\n      <th>Normal</th>\n      <td>9.1</td>\n      <td>5.3</td>\n      <td>13.3</td>\n      <td>8.2</td>\n      <td>5.5</td>\n      <td>5.5</td>\n      <td>6.7</td>\n      <td>5.4</td>\n      <td>11.5</td>\n      <td>5.4</td>\n      <td>...</td>\n      <td>12.5</td>\n      <td>6.8</td>\n      <td>9.9</td>\n      <td>5.6</td>\n      <td>7.6</td>\n      <td>6.6</td>\n      <td>6.5</td>\n      <td>7.5</td>\n      <td>13.9</td>\n      <td>7.2</td>\n    </tr>\n    <tr>\n      <th>Normal.1</th>\n      <td>11.2</td>\n      <td>5.4</td>\n      <td>13.8</td>\n      <td>6.9</td>\n      <td>5.4</td>\n      <td>5.5</td>\n      <td>6.9</td>\n      <td>5.4</td>\n      <td>10.4</td>\n      <td>5.2</td>\n      <td>...</td>\n      <td>9.5</td>\n      <td>5.2</td>\n      <td>8.9</td>\n      <td>5.6</td>\n      <td>7.8</td>\n      <td>6.8</td>\n      <td>7.3</td>\n      <td>7.5</td>\n      <td>12.4</td>\n      <td>6.3</td>\n    </tr>\n    <tr>\n      <th>Normal.2</th>\n      <td>11.1</td>\n      <td>5.2</td>\n      <td>14.2</td>\n      <td>7.1</td>\n      <td>5.4</td>\n      <td>5.5</td>\n      <td>6.3</td>\n      <td>5.2</td>\n      <td>11.0</td>\n      <td>5.5</td>\n      <td>...</td>\n      <td>10.1</td>\n      <td>5.7</td>\n      <td>7.4</td>\n      <td>5.3</td>\n      <td>8.3</td>\n      <td>7.0</td>\n      <td>7.4</td>\n      <td>7.3</td>\n      <td>12.9</td>\n      <td>5.8</td>\n    </tr>\n    <tr>\n      <th>Normal.3</th>\n      <td>10.0</td>\n      <td>5.3</td>\n      <td>13.7</td>\n      <td>7.0</td>\n      <td>5.4</td>\n      <td>5.5</td>\n      <td>6.9</td>\n      <td>5.3</td>\n      <td>11.5</td>\n      <td>5.3</td>\n      <td>...</td>\n      <td>10.5</td>\n      <td>5.7</td>\n      <td>9.0</td>\n      <td>5.6</td>\n      <td>7.8</td>\n      <td>6.8</td>\n      <td>7.0</td>\n      <td>7.2</td>\n      <td>13.0</td>\n      <td>6.1</td>\n    </tr>\n    <tr>\n      <th>Normal.4</th>\n      <td>9.9</td>\n      <td>5.5</td>\n      <td>13.8</td>\n      <td>7.1</td>\n      <td>5.3</td>\n      <td>5.5</td>\n      <td>7.6</td>\n      <td>5.1</td>\n      <td>11.3</td>\n      <td>5.4</td>\n      <td>...</td>\n      <td>10.6</td>\n      <td>5.4</td>\n      <td>9.4</td>\n      <td>5.5</td>\n      <td>7.1</td>\n      <td>7.0</td>\n      <td>7.0</td>\n      <td>7.3</td>\n      <td>12.6</td>\n      <td>5.8</td>\n    </tr>\n    <tr>\n      <th>Normal.5</th>\n      <td>11.4</td>\n      <td>5.4</td>\n      <td>14.0</td>\n      <td>7.7</td>\n      <td>5.4</td>\n      <td>5.5</td>\n      <td>7.5</td>\n      <td>5.4</td>\n      <td>10.4</td>\n      <td>5.3</td>\n      <td>...</td>\n      <td>8.8</td>\n      <td>5.5</td>\n      <td>7.8</td>\n      <td>5.6</td>\n      <td>8.1</td>\n      <td>7.1</td>\n      <td>7.1</td>\n      <td>7.9</td>\n      <td>11.2</td>\n      <td>8.2</td>\n    </tr>\n    <tr>\n      <th>Normal.6</th>\n      <td>10.2</td>\n      <td>5.5</td>\n      <td>13.7</td>\n      <td>7.7</td>\n      <td>5.3</td>\n      <td>5.5</td>\n      <td>5.7</td>\n      <td>5.4</td>\n      <td>10.6</td>\n      <td>5.2</td>\n      <td>...</td>\n      <td>10.9</td>\n      <td>5.4</td>\n      <td>9.2</td>\n      <td>5.6</td>\n      <td>8.4</td>\n      <td>6.7</td>\n      <td>6.8</td>\n      <td>7.5</td>\n      <td>13.4</td>\n      <td>5.4</td>\n    </tr>\n    <tr>\n      <th>Normal.7</th>\n      <td>10.2</td>\n      <td>5.4</td>\n      <td>13.6</td>\n      <td>7.5</td>\n      <td>5.4</td>\n      <td>5.5</td>\n      <td>6.2</td>\n      <td>5.2</td>\n      <td>11.7</td>\n      <td>5.5</td>\n      <td>...</td>\n      <td>10.4</td>\n      <td>5.8</td>\n      <td>8.1</td>\n      <td>5.7</td>\n      <td>8.1</td>\n      <td>6.9</td>\n      <td>7.6</td>\n      <td>7.4</td>\n      <td>11.8</td>\n      <td>6.0</td>\n    </tr>\n    <tr>\n      <th>Normal.8</th>\n      <td>11.0</td>\n      <td>5.3</td>\n      <td>13.8</td>\n      <td>7.2</td>\n      <td>5.4</td>\n      <td>5.5</td>\n      <td>7.0</td>\n      <td>5.1</td>\n      <td>11.0</td>\n      <td>5.5</td>\n      <td>...</td>\n      <td>8.9</td>\n      <td>5.6</td>\n      <td>7.9</td>\n      <td>5.6</td>\n      <td>7.8</td>\n      <td>7.5</td>\n      <td>7.6</td>\n      <td>7.5</td>\n      <td>10.2</td>\n      <td>6.1</td>\n    </tr>\n    <tr>\n      <th>Normal.9</th>\n      <td>10.7</td>\n      <td>5.1</td>\n      <td>13.7</td>\n      <td>7.6</td>\n      <td>5.3</td>\n      <td>5.6</td>\n      <td>7.2</td>\n      <td>5.2</td>\n      <td>10.9</td>\n      <td>5.4</td>\n      <td>...</td>\n      <td>10.4</td>\n      <td>5.8</td>\n      <td>7.7</td>\n      <td>5.5</td>\n      <td>8.2</td>\n      <td>6.9</td>\n      <td>7.3</td>\n      <td>7.3</td>\n      <td>12.6</td>\n      <td>5.7</td>\n    </tr>\n  </tbody>\n</table>\n<p>20 rows × 26258 columns</p>\n</div>"
     },
     "execution_count": 6,
     "metadata": {},
     "output_type": "execute_result"
    }
   ],
   "source": [
    "data"
   ]
  },
  {
   "cell_type": "code",
   "execution_count": 7,
   "metadata": {},
   "outputs": [],
   "source": [
    "genes = np.transpose(samples.iloc[:, 0])"
   ]
  },
  {
   "cell_type": "code",
   "execution_count": 8,
   "metadata": {},
   "outputs": [
    {
     "data": {
      "text/plain": "0        ILMN_1343295\n1        ILMN_1651210\n2        ILMN_1651228\n3        ILMN_1651229\n4        ILMN_1651235\n             ...     \n26253    ILMN_2415911\n26254    ILMN_2415926\n26255    ILMN_2415949\n26256    ILMN_2415979\n26257    ILMN_2416019\nName: Gene, Length: 26258, dtype: object"
     },
     "execution_count": 8,
     "metadata": {},
     "output_type": "execute_result"
    }
   ],
   "source": [
    "genes"
   ]
  },
  {
   "cell_type": "code",
   "execution_count": 9,
   "metadata": {},
   "outputs": [],
   "source": [
    "labels = samples.columns"
   ]
  },
  {
   "cell_type": "code",
   "execution_count": 10,
   "metadata": {},
   "outputs": [
    {
     "data": {
      "text/plain": "Index(['Gene', 'GastricCancer', 'GastricCancer.1', 'GastricCancer.2',\n       'GastricCancer.3', 'GastricCancer.4', 'GastricCancer.5',\n       'GastricCancer.6', 'GastricCancer.7', 'GastricCancer.8',\n       'GastricCancer.9', 'Normal', 'Normal.1', 'Normal.2', 'Normal.3',\n       'Normal.4', 'Normal.5', 'Normal.6', 'Normal.7', 'Normal.8', 'Normal.9'],\n      dtype='object')"
     },
     "execution_count": 10,
     "metadata": {},
     "output_type": "execute_result"
    }
   ],
   "source": [
    "labels"
   ]
  },
  {
   "cell_type": "code",
   "execution_count": 11,
   "metadata": {},
   "outputs": [],
   "source": [
    "labels = samples.columns[1:]"
   ]
  },
  {
   "cell_type": "code",
   "execution_count": 12,
   "metadata": {},
   "outputs": [
    {
     "data": {
      "text/plain": "Index(['GastricCancer', 'GastricCancer.1', 'GastricCancer.2',\n       'GastricCancer.3', 'GastricCancer.4', 'GastricCancer.5',\n       'GastricCancer.6', 'GastricCancer.7', 'GastricCancer.8',\n       'GastricCancer.9', 'Normal', 'Normal.1', 'Normal.2', 'Normal.3',\n       'Normal.4', 'Normal.5', 'Normal.6', 'Normal.7', 'Normal.8', 'Normal.9'],\n      dtype='object')"
     },
     "execution_count": 12,
     "metadata": {},
     "output_type": "execute_result"
    }
   ],
   "source": [
    "labels"
   ]
  },
  {
   "cell_type": "code",
   "execution_count": 13,
   "metadata": {},
   "outputs": [
    {
     "data": {
      "text/plain": "Index(['GastricCancer', 'GastricCancer', 'GastricCancer', 'GastricCancer',\n       'GastricCancer', 'GastricCancer', 'GastricCancer', 'GastricCancer',\n       'GastricCancer', 'GastricCancer', 'Normal', 'Normal', 'Normal',\n       'Normal', 'Normal', 'Normal', 'Normal', 'Normal', 'Normal', 'Normal'],\n      dtype='object')"
     },
     "execution_count": 13,
     "metadata": {},
     "output_type": "execute_result"
    }
   ],
   "source": [
    "for x in range(len(labels)):\n",
    "    if(labels[x].startswith(\"GastricCancer\")):\n",
    "        labels.values[x] = \"GastricCancer\"\n",
    "    elif(labels[x].startswith(\"Normal\")):\n",
    "        labels.values[x] = \"Normal\"\n",
    "labels"
   ]
  },
  {
   "cell_type": "markdown",
   "metadata": {},
   "source": [
    "## How to split my data to Train and Test\n",
    "Usually we split with 70%-80% train and the rest are test"
   ]
  },
  {
   "cell_type": "code",
   "execution_count": 14,
   "metadata": {},
   "outputs": [
    {
     "data": {
      "text/plain": "array([0.41518814, 0.96778521, 0.49525294])"
     },
     "execution_count": 14,
     "metadata": {},
     "output_type": "execute_result"
    }
   ],
   "source": [
    "np.random.rand(3)"
   ]
  },
  {
   "cell_type": "code",
   "execution_count": 15,
   "metadata": {},
   "outputs": [],
   "source": [
    "split = 0.7"
   ]
  },
  {
   "cell_type": "code",
   "execution_count": 16,
   "metadata": {},
   "outputs": [],
   "source": [
    "msk = np.random.rand(20) < 0.7"
   ]
  },
  {
   "cell_type": "code",
   "execution_count": 17,
   "metadata": {},
   "outputs": [
    {
     "data": {
      "text/plain": "array([False,  True,  True,  True,  True,  True, False,  True,  True,\n        True,  True,  True,  True,  True,  True,  True,  True, False,\n       False,  True])"
     },
     "execution_count": 17,
     "metadata": {},
     "output_type": "execute_result"
    }
   ],
   "source": [
    "msk"
   ]
  },
  {
   "cell_type": "code",
   "execution_count": 18,
   "metadata": {},
   "outputs": [
    {
     "data": {
      "text/plain": "array([ True, False, False, False, False, False,  True, False, False,\n       False, False, False, False, False, False, False, False,  True,\n        True, False])"
     },
     "execution_count": 18,
     "metadata": {},
     "output_type": "execute_result"
    }
   ],
   "source": [
    "~msk"
   ]
  },
  {
   "cell_type": "code",
   "execution_count": 19,
   "metadata": {},
   "outputs": [],
   "source": [
    "trainingSet = data.loc[msk, :]"
   ]
  },
  {
   "cell_type": "code",
   "execution_count": 20,
   "metadata": {},
   "outputs": [
    {
     "data": {
      "text/plain": "               0      1      2      3      4      5      6      7      8      \\\nGastricCancer   10.9    5.5   13.6    8.0    5.3    5.5    7.1    5.4   10.0   \nGastricCancer   11.4    5.2   13.7    7.8    5.4    5.5    6.4    5.1   10.8   \nGastricCancer   11.4    5.3   13.9    7.4    5.3    5.6    7.1    5.2   11.8   \nGastricCancer   11.5    5.2   13.8    7.3    5.4    5.6    6.8    5.3   11.5   \nGastricCancer   11.6    5.3   13.9    7.6    5.5    5.7    8.6    5.1    9.7   \nGastricCancer   11.4    5.4   13.7    7.3    5.3    5.5    7.3    5.1   11.7   \nGastricCancer   12.0    5.3   13.6    7.9    5.3    5.7    8.2    5.3   10.6   \nGastricCancer   11.7    5.3   13.6    7.2    5.3    5.6    6.6    5.3   11.5   \nNormal           9.1    5.3   13.3    8.2    5.5    5.5    6.7    5.4   11.5   \nNormal          11.2    5.4   13.8    6.9    5.4    5.5    6.9    5.4   10.4   \nNormal          11.1    5.2   14.2    7.1    5.4    5.5    6.3    5.2   11.0   \nNormal          10.0    5.3   13.7    7.0    5.4    5.5    6.9    5.3   11.5   \nNormal           9.9    5.5   13.8    7.1    5.3    5.5    7.6    5.1   11.3   \nNormal          11.4    5.4   14.0    7.7    5.4    5.5    7.5    5.4   10.4   \nNormal          10.2    5.5   13.7    7.7    5.3    5.5    5.7    5.4   10.6   \nNormal          10.7    5.1   13.7    7.6    5.3    5.6    7.2    5.2   10.9   \n\n               9      ...  26248  26249  26250  26251  26252  26253  26254  \\\nGastricCancer    5.3  ...   11.0    5.2    9.5    5.5    7.6    7.0    7.7   \nGastricCancer    5.4  ...   10.1    5.9    5.9    5.6    7.6    7.3    8.9   \nGastricCancer    5.5  ...    9.6    5.4    6.5    5.4    7.4    7.3    7.5   \nGastricCancer    5.4  ...    9.2    5.5    7.5    5.5    8.1    7.2    7.6   \nGastricCancer    5.3  ...    8.8    5.5    8.1    5.4    7.8    7.2    8.6   \nGastricCancer    5.4  ...    9.1    5.7    8.9    5.6    8.3    7.8    7.5   \nGastricCancer    5.4  ...    8.8    6.1    7.1    5.5    7.4    7.3    7.9   \nGastricCancer    5.4  ...    9.0    5.3    7.5    5.5    8.2    6.9    7.1   \nNormal           5.4  ...   12.5    6.8    9.9    5.6    7.6    6.6    6.5   \nNormal           5.2  ...    9.5    5.2    8.9    5.6    7.8    6.8    7.3   \nNormal           5.5  ...   10.1    5.7    7.4    5.3    8.3    7.0    7.4   \nNormal           5.3  ...   10.5    5.7    9.0    5.6    7.8    6.8    7.0   \nNormal           5.4  ...   10.6    5.4    9.4    5.5    7.1    7.0    7.0   \nNormal           5.3  ...    8.8    5.5    7.8    5.6    8.1    7.1    7.1   \nNormal           5.2  ...   10.9    5.4    9.2    5.6    8.4    6.7    6.8   \nNormal           5.4  ...   10.4    5.8    7.7    5.5    8.2    6.9    7.3   \n\n               26255  26256  26257  \nGastricCancer    7.4   13.3    5.2  \nGastricCancer    7.6   12.2    6.3  \nGastricCancer    7.0   11.8    8.0  \nGastricCancer    7.3   12.3    5.5  \nGastricCancer    8.3   12.4    6.5  \nGastricCancer    7.4   11.7    5.7  \nGastricCancer    7.7   11.9    5.6  \nGastricCancer    7.9   11.7    6.4  \nNormal           7.5   13.9    7.2  \nNormal           7.5   12.4    6.3  \nNormal           7.3   12.9    5.8  \nNormal           7.2   13.0    6.1  \nNormal           7.3   12.6    5.8  \nNormal           7.9   11.2    8.2  \nNormal           7.5   13.4    5.4  \nNormal           7.3   12.6    5.7  \n\n[16 rows x 26258 columns]",
      "text/html": "<div>\n<style scoped>\n    .dataframe tbody tr th:only-of-type {\n        vertical-align: middle;\n    }\n\n    .dataframe tbody tr th {\n        vertical-align: top;\n    }\n\n    .dataframe thead th {\n        text-align: right;\n    }\n</style>\n<table border=\"1\" class=\"dataframe\">\n  <thead>\n    <tr style=\"text-align: right;\">\n      <th></th>\n      <th>0</th>\n      <th>1</th>\n      <th>2</th>\n      <th>3</th>\n      <th>4</th>\n      <th>5</th>\n      <th>6</th>\n      <th>7</th>\n      <th>8</th>\n      <th>9</th>\n      <th>...</th>\n      <th>26248</th>\n      <th>26249</th>\n      <th>26250</th>\n      <th>26251</th>\n      <th>26252</th>\n      <th>26253</th>\n      <th>26254</th>\n      <th>26255</th>\n      <th>26256</th>\n      <th>26257</th>\n    </tr>\n  </thead>\n  <tbody>\n    <tr>\n      <th>GastricCancer</th>\n      <td>10.9</td>\n      <td>5.5</td>\n      <td>13.6</td>\n      <td>8.0</td>\n      <td>5.3</td>\n      <td>5.5</td>\n      <td>7.1</td>\n      <td>5.4</td>\n      <td>10.0</td>\n      <td>5.3</td>\n      <td>...</td>\n      <td>11.0</td>\n      <td>5.2</td>\n      <td>9.5</td>\n      <td>5.5</td>\n      <td>7.6</td>\n      <td>7.0</td>\n      <td>7.7</td>\n      <td>7.4</td>\n      <td>13.3</td>\n      <td>5.2</td>\n    </tr>\n    <tr>\n      <th>GastricCancer</th>\n      <td>11.4</td>\n      <td>5.2</td>\n      <td>13.7</td>\n      <td>7.8</td>\n      <td>5.4</td>\n      <td>5.5</td>\n      <td>6.4</td>\n      <td>5.1</td>\n      <td>10.8</td>\n      <td>5.4</td>\n      <td>...</td>\n      <td>10.1</td>\n      <td>5.9</td>\n      <td>5.9</td>\n      <td>5.6</td>\n      <td>7.6</td>\n      <td>7.3</td>\n      <td>8.9</td>\n      <td>7.6</td>\n      <td>12.2</td>\n      <td>6.3</td>\n    </tr>\n    <tr>\n      <th>GastricCancer</th>\n      <td>11.4</td>\n      <td>5.3</td>\n      <td>13.9</td>\n      <td>7.4</td>\n      <td>5.3</td>\n      <td>5.6</td>\n      <td>7.1</td>\n      <td>5.2</td>\n      <td>11.8</td>\n      <td>5.5</td>\n      <td>...</td>\n      <td>9.6</td>\n      <td>5.4</td>\n      <td>6.5</td>\n      <td>5.4</td>\n      <td>7.4</td>\n      <td>7.3</td>\n      <td>7.5</td>\n      <td>7.0</td>\n      <td>11.8</td>\n      <td>8.0</td>\n    </tr>\n    <tr>\n      <th>GastricCancer</th>\n      <td>11.5</td>\n      <td>5.2</td>\n      <td>13.8</td>\n      <td>7.3</td>\n      <td>5.4</td>\n      <td>5.6</td>\n      <td>6.8</td>\n      <td>5.3</td>\n      <td>11.5</td>\n      <td>5.4</td>\n      <td>...</td>\n      <td>9.2</td>\n      <td>5.5</td>\n      <td>7.5</td>\n      <td>5.5</td>\n      <td>8.1</td>\n      <td>7.2</td>\n      <td>7.6</td>\n      <td>7.3</td>\n      <td>12.3</td>\n      <td>5.5</td>\n    </tr>\n    <tr>\n      <th>GastricCancer</th>\n      <td>11.6</td>\n      <td>5.3</td>\n      <td>13.9</td>\n      <td>7.6</td>\n      <td>5.5</td>\n      <td>5.7</td>\n      <td>8.6</td>\n      <td>5.1</td>\n      <td>9.7</td>\n      <td>5.3</td>\n      <td>...</td>\n      <td>8.8</td>\n      <td>5.5</td>\n      <td>8.1</td>\n      <td>5.4</td>\n      <td>7.8</td>\n      <td>7.2</td>\n      <td>8.6</td>\n      <td>8.3</td>\n      <td>12.4</td>\n      <td>6.5</td>\n    </tr>\n    <tr>\n      <th>GastricCancer</th>\n      <td>11.4</td>\n      <td>5.4</td>\n      <td>13.7</td>\n      <td>7.3</td>\n      <td>5.3</td>\n      <td>5.5</td>\n      <td>7.3</td>\n      <td>5.1</td>\n      <td>11.7</td>\n      <td>5.4</td>\n      <td>...</td>\n      <td>9.1</td>\n      <td>5.7</td>\n      <td>8.9</td>\n      <td>5.6</td>\n      <td>8.3</td>\n      <td>7.8</td>\n      <td>7.5</td>\n      <td>7.4</td>\n      <td>11.7</td>\n      <td>5.7</td>\n    </tr>\n    <tr>\n      <th>GastricCancer</th>\n      <td>12.0</td>\n      <td>5.3</td>\n      <td>13.6</td>\n      <td>7.9</td>\n      <td>5.3</td>\n      <td>5.7</td>\n      <td>8.2</td>\n      <td>5.3</td>\n      <td>10.6</td>\n      <td>5.4</td>\n      <td>...</td>\n      <td>8.8</td>\n      <td>6.1</td>\n      <td>7.1</td>\n      <td>5.5</td>\n      <td>7.4</td>\n      <td>7.3</td>\n      <td>7.9</td>\n      <td>7.7</td>\n      <td>11.9</td>\n      <td>5.6</td>\n    </tr>\n    <tr>\n      <th>GastricCancer</th>\n      <td>11.7</td>\n      <td>5.3</td>\n      <td>13.6</td>\n      <td>7.2</td>\n      <td>5.3</td>\n      <td>5.6</td>\n      <td>6.6</td>\n      <td>5.3</td>\n      <td>11.5</td>\n      <td>5.4</td>\n      <td>...</td>\n      <td>9.0</td>\n      <td>5.3</td>\n      <td>7.5</td>\n      <td>5.5</td>\n      <td>8.2</td>\n      <td>6.9</td>\n      <td>7.1</td>\n      <td>7.9</td>\n      <td>11.7</td>\n      <td>6.4</td>\n    </tr>\n    <tr>\n      <th>Normal</th>\n      <td>9.1</td>\n      <td>5.3</td>\n      <td>13.3</td>\n      <td>8.2</td>\n      <td>5.5</td>\n      <td>5.5</td>\n      <td>6.7</td>\n      <td>5.4</td>\n      <td>11.5</td>\n      <td>5.4</td>\n      <td>...</td>\n      <td>12.5</td>\n      <td>6.8</td>\n      <td>9.9</td>\n      <td>5.6</td>\n      <td>7.6</td>\n      <td>6.6</td>\n      <td>6.5</td>\n      <td>7.5</td>\n      <td>13.9</td>\n      <td>7.2</td>\n    </tr>\n    <tr>\n      <th>Normal</th>\n      <td>11.2</td>\n      <td>5.4</td>\n      <td>13.8</td>\n      <td>6.9</td>\n      <td>5.4</td>\n      <td>5.5</td>\n      <td>6.9</td>\n      <td>5.4</td>\n      <td>10.4</td>\n      <td>5.2</td>\n      <td>...</td>\n      <td>9.5</td>\n      <td>5.2</td>\n      <td>8.9</td>\n      <td>5.6</td>\n      <td>7.8</td>\n      <td>6.8</td>\n      <td>7.3</td>\n      <td>7.5</td>\n      <td>12.4</td>\n      <td>6.3</td>\n    </tr>\n    <tr>\n      <th>Normal</th>\n      <td>11.1</td>\n      <td>5.2</td>\n      <td>14.2</td>\n      <td>7.1</td>\n      <td>5.4</td>\n      <td>5.5</td>\n      <td>6.3</td>\n      <td>5.2</td>\n      <td>11.0</td>\n      <td>5.5</td>\n      <td>...</td>\n      <td>10.1</td>\n      <td>5.7</td>\n      <td>7.4</td>\n      <td>5.3</td>\n      <td>8.3</td>\n      <td>7.0</td>\n      <td>7.4</td>\n      <td>7.3</td>\n      <td>12.9</td>\n      <td>5.8</td>\n    </tr>\n    <tr>\n      <th>Normal</th>\n      <td>10.0</td>\n      <td>5.3</td>\n      <td>13.7</td>\n      <td>7.0</td>\n      <td>5.4</td>\n      <td>5.5</td>\n      <td>6.9</td>\n      <td>5.3</td>\n      <td>11.5</td>\n      <td>5.3</td>\n      <td>...</td>\n      <td>10.5</td>\n      <td>5.7</td>\n      <td>9.0</td>\n      <td>5.6</td>\n      <td>7.8</td>\n      <td>6.8</td>\n      <td>7.0</td>\n      <td>7.2</td>\n      <td>13.0</td>\n      <td>6.1</td>\n    </tr>\n    <tr>\n      <th>Normal</th>\n      <td>9.9</td>\n      <td>5.5</td>\n      <td>13.8</td>\n      <td>7.1</td>\n      <td>5.3</td>\n      <td>5.5</td>\n      <td>7.6</td>\n      <td>5.1</td>\n      <td>11.3</td>\n      <td>5.4</td>\n      <td>...</td>\n      <td>10.6</td>\n      <td>5.4</td>\n      <td>9.4</td>\n      <td>5.5</td>\n      <td>7.1</td>\n      <td>7.0</td>\n      <td>7.0</td>\n      <td>7.3</td>\n      <td>12.6</td>\n      <td>5.8</td>\n    </tr>\n    <tr>\n      <th>Normal</th>\n      <td>11.4</td>\n      <td>5.4</td>\n      <td>14.0</td>\n      <td>7.7</td>\n      <td>5.4</td>\n      <td>5.5</td>\n      <td>7.5</td>\n      <td>5.4</td>\n      <td>10.4</td>\n      <td>5.3</td>\n      <td>...</td>\n      <td>8.8</td>\n      <td>5.5</td>\n      <td>7.8</td>\n      <td>5.6</td>\n      <td>8.1</td>\n      <td>7.1</td>\n      <td>7.1</td>\n      <td>7.9</td>\n      <td>11.2</td>\n      <td>8.2</td>\n    </tr>\n    <tr>\n      <th>Normal</th>\n      <td>10.2</td>\n      <td>5.5</td>\n      <td>13.7</td>\n      <td>7.7</td>\n      <td>5.3</td>\n      <td>5.5</td>\n      <td>5.7</td>\n      <td>5.4</td>\n      <td>10.6</td>\n      <td>5.2</td>\n      <td>...</td>\n      <td>10.9</td>\n      <td>5.4</td>\n      <td>9.2</td>\n      <td>5.6</td>\n      <td>8.4</td>\n      <td>6.7</td>\n      <td>6.8</td>\n      <td>7.5</td>\n      <td>13.4</td>\n      <td>5.4</td>\n    </tr>\n    <tr>\n      <th>Normal</th>\n      <td>10.7</td>\n      <td>5.1</td>\n      <td>13.7</td>\n      <td>7.6</td>\n      <td>5.3</td>\n      <td>5.6</td>\n      <td>7.2</td>\n      <td>5.2</td>\n      <td>10.9</td>\n      <td>5.4</td>\n      <td>...</td>\n      <td>10.4</td>\n      <td>5.8</td>\n      <td>7.7</td>\n      <td>5.5</td>\n      <td>8.2</td>\n      <td>6.9</td>\n      <td>7.3</td>\n      <td>7.3</td>\n      <td>12.6</td>\n      <td>5.7</td>\n    </tr>\n  </tbody>\n</table>\n<p>16 rows × 26258 columns</p>\n</div>"
     },
     "execution_count": 20,
     "metadata": {},
     "output_type": "execute_result"
    }
   ],
   "source": [
    "trainingSet"
   ]
  },
  {
   "cell_type": "code",
   "execution_count": 21,
   "metadata": {},
   "outputs": [],
   "source": [
    "testSet = data.loc[~msk, :]"
   ]
  },
  {
   "cell_type": "code",
   "execution_count": 22,
   "metadata": {},
   "outputs": [
    {
     "data": {
      "text/plain": "               0      1      2      3      4      5      6      7      8      \\\nGastricCancer   11.0    5.2   13.9    7.5    5.4    5.4    6.6    5.3   12.6   \nGastricCancer   12.0    5.3   13.4    6.8    5.3    5.5    7.8    5.4    9.6   \nNormal          10.2    5.4   13.6    7.5    5.4    5.5    6.2    5.2   11.7   \nNormal          11.0    5.3   13.8    7.2    5.4    5.5    7.0    5.1   11.0   \n\n               9      ...  26248  26249  26250  26251  26252  26253  26254  \\\nGastricCancer    5.6  ...   10.6    5.6    6.8    5.5    8.2    7.0    7.9   \nGastricCancer    5.4  ...    8.7    5.3    7.5    5.4    8.1    7.2    7.7   \nNormal           5.5  ...   10.4    5.8    8.1    5.7    8.1    6.9    7.6   \nNormal           5.5  ...    8.9    5.6    7.9    5.6    7.8    7.5    7.6   \n\n               26255  26256  26257  \nGastricCancer    7.6   12.7    6.0  \nGastricCancer    8.2   12.1    5.4  \nNormal           7.4   11.8    6.0  \nNormal           7.5   10.2    6.1  \n\n[4 rows x 26258 columns]",
      "text/html": "<div>\n<style scoped>\n    .dataframe tbody tr th:only-of-type {\n        vertical-align: middle;\n    }\n\n    .dataframe tbody tr th {\n        vertical-align: top;\n    }\n\n    .dataframe thead th {\n        text-align: right;\n    }\n</style>\n<table border=\"1\" class=\"dataframe\">\n  <thead>\n    <tr style=\"text-align: right;\">\n      <th></th>\n      <th>0</th>\n      <th>1</th>\n      <th>2</th>\n      <th>3</th>\n      <th>4</th>\n      <th>5</th>\n      <th>6</th>\n      <th>7</th>\n      <th>8</th>\n      <th>9</th>\n      <th>...</th>\n      <th>26248</th>\n      <th>26249</th>\n      <th>26250</th>\n      <th>26251</th>\n      <th>26252</th>\n      <th>26253</th>\n      <th>26254</th>\n      <th>26255</th>\n      <th>26256</th>\n      <th>26257</th>\n    </tr>\n  </thead>\n  <tbody>\n    <tr>\n      <th>GastricCancer</th>\n      <td>11.0</td>\n      <td>5.2</td>\n      <td>13.9</td>\n      <td>7.5</td>\n      <td>5.4</td>\n      <td>5.4</td>\n      <td>6.6</td>\n      <td>5.3</td>\n      <td>12.6</td>\n      <td>5.6</td>\n      <td>...</td>\n      <td>10.6</td>\n      <td>5.6</td>\n      <td>6.8</td>\n      <td>5.5</td>\n      <td>8.2</td>\n      <td>7.0</td>\n      <td>7.9</td>\n      <td>7.6</td>\n      <td>12.7</td>\n      <td>6.0</td>\n    </tr>\n    <tr>\n      <th>GastricCancer</th>\n      <td>12.0</td>\n      <td>5.3</td>\n      <td>13.4</td>\n      <td>6.8</td>\n      <td>5.3</td>\n      <td>5.5</td>\n      <td>7.8</td>\n      <td>5.4</td>\n      <td>9.6</td>\n      <td>5.4</td>\n      <td>...</td>\n      <td>8.7</td>\n      <td>5.3</td>\n      <td>7.5</td>\n      <td>5.4</td>\n      <td>8.1</td>\n      <td>7.2</td>\n      <td>7.7</td>\n      <td>8.2</td>\n      <td>12.1</td>\n      <td>5.4</td>\n    </tr>\n    <tr>\n      <th>Normal</th>\n      <td>10.2</td>\n      <td>5.4</td>\n      <td>13.6</td>\n      <td>7.5</td>\n      <td>5.4</td>\n      <td>5.5</td>\n      <td>6.2</td>\n      <td>5.2</td>\n      <td>11.7</td>\n      <td>5.5</td>\n      <td>...</td>\n      <td>10.4</td>\n      <td>5.8</td>\n      <td>8.1</td>\n      <td>5.7</td>\n      <td>8.1</td>\n      <td>6.9</td>\n      <td>7.6</td>\n      <td>7.4</td>\n      <td>11.8</td>\n      <td>6.0</td>\n    </tr>\n    <tr>\n      <th>Normal</th>\n      <td>11.0</td>\n      <td>5.3</td>\n      <td>13.8</td>\n      <td>7.2</td>\n      <td>5.4</td>\n      <td>5.5</td>\n      <td>7.0</td>\n      <td>5.1</td>\n      <td>11.0</td>\n      <td>5.5</td>\n      <td>...</td>\n      <td>8.9</td>\n      <td>5.6</td>\n      <td>7.9</td>\n      <td>5.6</td>\n      <td>7.8</td>\n      <td>7.5</td>\n      <td>7.6</td>\n      <td>7.5</td>\n      <td>10.2</td>\n      <td>6.1</td>\n    </tr>\n  </tbody>\n</table>\n<p>4 rows × 26258 columns</p>\n</div>"
     },
     "execution_count": 22,
     "metadata": {},
     "output_type": "execute_result"
    }
   ],
   "source": [
    "testSet"
   ]
  },
  {
   "cell_type": "code",
   "execution_count": 23,
   "metadata": {},
   "outputs": [],
   "source": [
    "trainingClass = labels[msk]\n",
    "testClass = labels[~msk]"
   ]
  },
  {
   "cell_type": "code",
   "execution_count": 24,
   "metadata": {},
   "outputs": [
    {
     "data": {
      "text/plain": "Index(['GastricCancer', 'GastricCancer', 'GastricCancer', 'GastricCancer',\n       'GastricCancer', 'GastricCancer', 'GastricCancer', 'GastricCancer',\n       'Normal', 'Normal', 'Normal', 'Normal', 'Normal', 'Normal', 'Normal',\n       'Normal'],\n      dtype='object')"
     },
     "execution_count": 24,
     "metadata": {},
     "output_type": "execute_result"
    }
   ],
   "source": [
    "trainingClass"
   ]
  },
  {
   "cell_type": "code",
   "execution_count": 25,
   "metadata": {},
   "outputs": [
    {
     "data": {
      "text/plain": "Index(['GastricCancer', 'GastricCancer', 'Normal', 'Normal'], dtype='object')"
     },
     "execution_count": 25,
     "metadata": {},
     "output_type": "execute_result"
    }
   ],
   "source": [
    "testClass"
   ]
  },
  {
   "cell_type": "markdown",
   "metadata": {},
   "source": [
    "# Create my own K-NN algorithm"
   ]
  },
  {
   "cell_type": "code",
   "execution_count": 26,
   "metadata": {},
   "outputs": [],
   "source": [
    "import math"
   ]
  },
  {
   "cell_type": "code",
   "execution_count": 27,
   "metadata": {},
   "outputs": [],
   "source": [
    "def euclidianDistance(sample1, sample2):\n",
    "    distance=0\n",
    "    for x in range(len(sample1)):\n",
    "        distance += pow(sample1[x] - sample2[x], 2)\n",
    "    return math.sqrt(distance)"
   ]
  },
  {
   "cell_type": "code",
   "execution_count": 28,
   "metadata": {},
   "outputs": [
    {
     "data": {
      "text/plain": "121.35752963867535"
     },
     "execution_count": 28,
     "metadata": {},
     "output_type": "execute_result"
    }
   ],
   "source": [
    "euclidianDistance(trainingSet.iloc[1,:], testSet.iloc[1,:])"
   ]
  },
  {
   "cell_type": "code",
   "execution_count": 29,
   "metadata": {},
   "outputs": [
    {
     "data": {
      "text/plain": "122.80048859838433"
     },
     "execution_count": 29,
     "metadata": {},
     "output_type": "execute_result"
    }
   ],
   "source": [
    "euclidianDistance(trainingSet.iloc[0,:], testSet.iloc[1,:])"
   ]
  },
  {
   "cell_type": "code",
   "execution_count": 30,
   "metadata": {},
   "outputs": [],
   "source": [
    "def findDistances(testIndex):\n",
    "    ret = []\n",
    "    for x in range(len(trainingSet)):\n",
    "        tmp = euclidianDistance(trainingSet.iloc[x,:], testSet.iloc[testIndex,:])\n",
    "        ret.append(tmp)\n",
    "    return ret"
   ]
  },
  {
   "cell_type": "code",
   "execution_count": 31,
   "metadata": {},
   "outputs": [],
   "source": [
    "a = findDistances(0)"
   ]
  },
  {
   "cell_type": "code",
   "execution_count": 32,
   "metadata": {},
   "outputs": [
    {
     "data": {
      "text/plain": "87.50434274938014"
     },
     "execution_count": 32,
     "metadata": {},
     "output_type": "execute_result"
    }
   ],
   "source": [
    "min(a)"
   ]
  },
  {
   "cell_type": "code",
   "execution_count": 33,
   "metadata": {},
   "outputs": [
    {
     "data": {
      "text/plain": "[131.21951074440796,\n 113.26009888748088,\n 90.5942051126942,\n 88.89994375701724,\n 113.73548259009551,\n 98.51588704367201,\n 111.56926099962192,\n 101.3496916620936,\n 148.13095557647927,\n 98.8804834130648,\n 87.50434274938014,\n 99.81011972741842,\n 102.12932977358452,\n 111.298966751726,\n 131.76862297224542,\n 104.60497120118912]"
     },
     "execution_count": 33,
     "metadata": {},
     "output_type": "execute_result"
    }
   ],
   "source": [
    "a"
   ]
  },
  {
   "cell_type": "code",
   "execution_count": 34,
   "metadata": {},
   "outputs": [
    {
     "data": {
      "text/plain": "'GastricCancer'"
     },
     "execution_count": 34,
     "metadata": {},
     "output_type": "execute_result"
    }
   ],
   "source": [
    "trainingClass[5]"
   ]
  },
  {
   "cell_type": "code",
   "execution_count": 35,
   "metadata": {},
   "outputs": [
    {
     "data": {
      "text/plain": "'GastricCancer'"
     },
     "execution_count": 35,
     "metadata": {},
     "output_type": "execute_result"
    }
   ],
   "source": [
    "testClass[0]"
   ]
  },
  {
   "cell_type": "code",
   "execution_count": 36,
   "metadata": {},
   "outputs": [
    {
     "data": {
      "text/plain": "10"
     },
     "execution_count": 36,
     "metadata": {},
     "output_type": "execute_result"
    }
   ],
   "source": [
    "a.index(min(a))"
   ]
  },
  {
   "cell_type": "code",
   "execution_count": 37,
   "metadata": {},
   "outputs": [
    {
     "data": {
      "text/plain": "'Normal'"
     },
     "execution_count": 37,
     "metadata": {},
     "output_type": "execute_result"
    }
   ],
   "source": [
    "trainingClass[a.index(min(a))]"
   ]
  },
  {
   "cell_type": "code",
   "execution_count": 38,
   "metadata": {},
   "outputs": [],
   "source": [
    "def customKNN(k, newCaseIndex):\n",
    "    dist = findDistances(newCaseIndex)\n",
    "    sortedInd = np.argsort(dist)\n",
    "    myLabels = trainingClass[sortedInd]\n",
    "    count =0\n",
    "    for x in range(k):\n",
    "        if(myLabels[x] == \"Normal\"):\n",
    "            count += 1\n",
    "    if(count > (k/2)):\n",
    "        predicted = \"Normal\"\n",
    "    else:\n",
    "        predicted = \"GastricCancer\"\n",
    "    print(\"Index of test sample \", newCaseIndex, \" predicted as:\", predicted , \" real class is:\" ,testClass[newCaseIndex])"
   ]
  },
  {
   "cell_type": "code",
   "execution_count": 39,
   "metadata": {},
   "outputs": [
    {
     "name": "stdout",
     "output_type": "stream",
     "text": [
      "Index of test sample  0  predicted as: GastricCancer  real class is: GastricCancer\n"
     ]
    }
   ],
   "source": [
    "customKNN(3, 0)"
   ]
  },
  {
   "cell_type": "code",
   "execution_count": 40,
   "metadata": {},
   "outputs": [
    {
     "name": "stdout",
     "output_type": "stream",
     "text": [
      "Index of test sample  0  predicted as: GastricCancer  real class is: GastricCancer\n",
      "Index of test sample  1  predicted as: GastricCancer  real class is: GastricCancer\n",
      "Index of test sample  2  predicted as: Normal  real class is: Normal\n",
      "Index of test sample  3  predicted as: Normal  real class is: Normal\n"
     ]
    }
   ],
   "source": [
    "for x in range(len(testClass)):\n",
    "    customKNN(7, x)"
   ]
  },
  {
   "cell_type": "markdown",
   "metadata": {},
   "source": [
    "# Use of Scikit-learn"
   ]
  },
  {
   "cell_type": "markdown",
   "metadata": {},
   "source": [
    "## Create a K-NN classifier from SCikit-learn"
   ]
  },
  {
   "cell_type": "code",
   "execution_count": 41,
   "metadata": {},
   "outputs": [],
   "source": [
    "from sklearn.neighbors import KNeighborsClassifier"
   ]
  },
  {
   "cell_type": "code",
   "execution_count": 42,
   "metadata": {},
   "outputs": [],
   "source": [
    "neigh = KNeighborsClassifier(n_neighbors=3)"
   ]
  },
  {
   "cell_type": "code",
   "execution_count": 43,
   "metadata": {},
   "outputs": [
    {
     "data": {
      "text/plain": "KNeighborsClassifier(n_neighbors=3)"
     },
     "execution_count": 43,
     "metadata": {},
     "output_type": "execute_result"
    }
   ],
   "source": [
    "neigh.fit(trainingSet, trainingClass)"
   ]
  },
  {
   "cell_type": "code",
   "execution_count": 44,
   "metadata": {},
   "outputs": [],
   "source": [
    "pr = neigh.predict(testSet)"
   ]
  },
  {
   "cell_type": "code",
   "execution_count": 45,
   "metadata": {},
   "outputs": [
    {
     "data": {
      "text/plain": "array(['GastricCancer', 'GastricCancer', 'Normal', 'Normal'], dtype=object)"
     },
     "execution_count": 45,
     "metadata": {},
     "output_type": "execute_result"
    }
   ],
   "source": [
    "pr"
   ]
  },
  {
   "cell_type": "code",
   "execution_count": 46,
   "metadata": {},
   "outputs": [
    {
     "name": "stdout",
     "output_type": "stream",
     "text": [
      "Index of test sample  0  predicted as: GastricCancer  real class is: GastricCancer\n",
      "Index of test sample  1  predicted as: GastricCancer  real class is: GastricCancer\n",
      "Index of test sample  2  predicted as: Normal  real class is: Normal\n",
      "Index of test sample  3  predicted as: Normal  real class is: Normal\n"
     ]
    }
   ],
   "source": [
    "for x in range(len(testClass)):\n",
    "        print(\"Index of test sample \",x , \" predicted as:\", pr[x] , \" real class is:\" ,testClass[x])"
   ]
  },
  {
   "cell_type": "markdown",
   "metadata": {},
   "source": [
    "## Create a Decision Tree"
   ]
  },
  {
   "cell_type": "code",
   "execution_count": 47,
   "metadata": {},
   "outputs": [],
   "source": [
    "from sklearn.tree import DecisionTreeClassifier"
   ]
  },
  {
   "cell_type": "code",
   "execution_count": 48,
   "metadata": {},
   "outputs": [],
   "source": [
    "clf = DecisionTreeClassifier()"
   ]
  },
  {
   "cell_type": "code",
   "execution_count": 49,
   "metadata": {},
   "outputs": [
    {
     "data": {
      "text/plain": "DecisionTreeClassifier()"
     },
     "execution_count": 49,
     "metadata": {},
     "output_type": "execute_result"
    }
   ],
   "source": [
    "clf.fit(trainingSet, trainingClass)"
   ]
  },
  {
   "cell_type": "code",
   "execution_count": 50,
   "metadata": {},
   "outputs": [],
   "source": [
    "predictedClass = clf.predict(testSet)"
   ]
  },
  {
   "cell_type": "code",
   "execution_count": 51,
   "metadata": {},
   "outputs": [
    {
     "data": {
      "text/plain": "array(['GastricCancer', 'GastricCancer', 'Normal', 'Normal'], dtype=object)"
     },
     "execution_count": 51,
     "metadata": {},
     "output_type": "execute_result"
    }
   ],
   "source": [
    "predictedClass"
   ]
  },
  {
   "cell_type": "code",
   "execution_count": 52,
   "metadata": {},
   "outputs": [
    {
     "name": "stdout",
     "output_type": "stream",
     "text": [
      "Index of test sample  0  predicted as: GastricCancer  real class is: GastricCancer\n",
      "Index of test sample  1  predicted as: GastricCancer  real class is: GastricCancer\n",
      "Index of test sample  2  predicted as: Normal  real class is: Normal\n",
      "Index of test sample  3  predicted as: Normal  real class is: Normal\n"
     ]
    }
   ],
   "source": [
    "for x in range(len(testClass)):\n",
    "        print(\"Index of test sample \",x , \" predicted as:\", predictedClass[x] , \" real class is:\" ,testClass[x])"
   ]
  },
  {
   "cell_type": "code",
   "execution_count": 53,
   "metadata": {},
   "outputs": [
    {
     "name": "stdout",
     "output_type": "stream",
     "text": [
      "|--- ILMN_1680390 <= 7.25\n",
      "|   |--- class: GastricCancer\n",
      "|--- ILMN_1680390 >  7.25\n",
      "|   |--- class: Normal\n",
      "\n"
     ]
    }
   ],
   "source": [
    "from sklearn import tree\n",
    "print(tree.export_text(clf, feature_names=genes.tolist()))"
   ]
  },
  {
   "cell_type": "code",
   "execution_count": 54,
   "metadata": {},
   "outputs": [
    {
     "data": {
      "text/plain": "[Text(167.4, 163.07999999999998, 'X[3976] <= 7.25\\ngini = 0.5\\nsamples = 16\\nvalue = [8, 8]'),\n Text(83.7, 54.360000000000014, 'gini = 0.0\\nsamples = 8\\nvalue = [8, 0]'),\n Text(251.10000000000002, 54.360000000000014, 'gini = 0.0\\nsamples = 8\\nvalue = [0, 8]')]"
     },
     "execution_count": 54,
     "metadata": {},
     "output_type": "execute_result"
    },
    {
     "data": {
      "text/plain": "<Figure size 432x288 with 1 Axes>",
      "image/png": "[encoded data removed]"
     },
     "metadata": {
      "needs_background": "light"
     },
     "output_type": "display_data"
    }
   ],
   "source": [
    "tree.plot_tree(clf, filled=True)"
   ]
  },
  {
   "cell_type": "markdown",
   "metadata": {},
   "source": [
    "## Confusion Matrix"
   ]
  },
  {
   "cell_type": "code",
   "execution_count": 55,
   "metadata": {},
   "outputs": [],
   "source": [
    "from sklearn import metrics"
   ]
  },
  {
   "cell_type": "code",
   "execution_count": 56,
   "metadata": {},
   "outputs": [
    {
     "data": {
      "text/plain": "1.0"
     },
     "execution_count": 56,
     "metadata": {},
     "output_type": "execute_result"
    }
   ],
   "source": [
    "metrics.accuracy_score(testClass, predictedClass)"
   ]
  },
  {
   "cell_type": "code",
   "execution_count": 57,
   "metadata": {},
   "outputs": [
    {
     "data": {
      "text/plain": "array([[2, 0],\n       [0, 2]])"
     },
     "execution_count": 57,
     "metadata": {},
     "output_type": "execute_result"
    }
   ],
   "source": [
    "metrics.confusion_matrix(testClass, predictedClass)"
   ]
  },
  {
   "cell_type": "code",
   "execution_count": 57,
   "metadata": {},
   "outputs": [],
   "source": []
  }
 ],
 "metadata": {
  "kernelspec": {
   "name": "python385jvsc74a57bd0f058aeb1758ada1a7de5f5ba217300728d151518e4300feaaa8035dbc87e5e92",
   "language": "python",
   "display_name": "Python 3.8.5 64-bit ('anaconda3': virtualenv)"
  },
  "language_info": {
   "codemirror_mode": {
    "name": "ipython",
    "version": 3
   },
   "file_extension": ".py",
   "mimetype": "text/x-python",
   "name": "python",
   "nbconvert_exporter": "python",
   "pygments_lexer": "ipython3",
   "version": "3.8.5"
  },
  "metadata": {
   "interpreter": {
    "hash": "f058aeb1758ada1a7de5f5ba217300728d151518e4300feaaa8035dbc87e5e92"
   }
  }
 },
 "nbformat": 4,
 "nbformat_minor": 4
}