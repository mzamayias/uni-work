{
 "cells": [
  {
   "source": [
    "Ονοματεπώνυμο: Ζαμάγιας Μιχαήλ Ανάργυρος\n",
    "\n",
    "ΑΜ: ΤΠ5000"
   ],
   "cell_type": "markdown",
   "metadata": {
    "collapsed": true
   }
  },
  {
   "source": [
    "## Import modules"
   ],
   "cell_type": "markdown",
   "metadata": {}
  },
  {
   "cell_type": "code",
   "execution_count": 1,
   "metadata": {},
   "outputs": [],
   "source": [
    "import numpy as np\n",
    "import pandas as pd\n",
    "from sklearn import svm, tree, metrics"
   ]
  },
  {
   "source": [
    "# Data pre-processing"
   ],
   "cell_type": "markdown",
   "metadata": {}
  },
  {
   "source": [
    "## Read datasets"
   ],
   "cell_type": "markdown",
   "metadata": {}
  },
  {
   "cell_type": "code",
   "execution_count": 2,
   "metadata": {},
   "outputs": [],
   "source": [
    "datasets = ['LungTrain.txt', 'LungTest.txt', 'KEGG_DATA.txt']\n",
    "training_dataset, testing_dataset, kegg_dataset = [\n",
    "    pd.read_csv(dataset, sep='\\t')\n",
    "    for dataset in datasets\n",
    "]"
   ]
  },
  {
   "cell_type": "code",
   "execution_count": 3,
   "metadata": {},
   "outputs": [],
   "source": [
    "def process_data(dataset: pd.DataFrame) -> [np.array, np.array, np.array]:\n",
    "    \"\"\"To process read datasets.\n",
    "    \"Cleared\" up column names are stored in the list dataset_labels.\n",
    "    Firstly, this function returns gene names as a pd.Series type, indexed.\n",
    "    Secondly, it returns label names as a pd.Series type, indexed.\n",
    "    Thirdly, it returns the dataset altered in the following ways:\n",
    "        -   Its columns are renamed by the dataset_labels list.\n",
    "        -   It gets transposed.\n",
    "    Args:\n",
    "        dataset(pd.DataFrame): Read dataset.\n",
    "    Returns:\n",
    "        Tuple[np.array, np.array, np.array]: Returns a tuple containing dataset genes, dataset labels and processed\n",
    "            dataset as np.arrays.\n",
    "    \"\"\"\n",
    "    dataset_genes = dataset.iloc[:, 0]\n",
    "    dataset_labels = pd.Series(\n",
    "        [\n",
    "            'Cancer' if 'Cancer' in dataset_column else 'Normal' if 'Normal' in dataset_column else dataset_column\n",
    "            for dataset_column in list(dataset.columns)\n",
    "        ]\n",
    "    )\n",
    "    altered_dataset = dataset.set_axis(dataset_labels, axis='columns').T.iloc[1:]\n",
    "    return [np.array(dataset_genes), np.array(dataset_labels[1:]), np.array(altered_dataset)]\n"
   ]
  },
  {
   "cell_type": "code",
   "execution_count": 4,
   "outputs": [],
   "source": [
    "training_genes, train_labels, train_features = process_data(training_dataset)\n",
    "testing_genes, test_labels, test_features = process_data(testing_dataset)"
   ],
   "metadata": {
    "collapsed": false,
    "pycharm": {
     "name": "#%%\n"
    }
   }
  },
  {
   "cell_type": "markdown",
   "source": [
    "# Data analysis"
   ],
   "metadata": {
    "collapsed": false,
    "pycharm": {
     "name": "#%% md\n"
    }
   }
  },
  {
   "cell_type": "markdown",
   "source": [
    "## Support Vector Machines model"
   ],
   "metadata": {
    "collapsed": false,
    "pycharm": {
     "name": "#%% md\n"
    }
   }
  },
  {
   "cell_type": "markdown",
   "source": [
    "### Train the SVM model with training dataset."
   ],
   "metadata": {
    "collapsed": false,
    "pycharm": {
     "name": "#%% md\n"
    }
   }
  },
  {
   "cell_type": "code",
   "execution_count": 5,
   "outputs": [],
   "source": [
    "svm_model = svm.SVC().fit(train_features, train_labels)"
   ],
   "metadata": {
    "collapsed": false,
    "pycharm": {
     "name": "#%%\n"
    }
   }
  },
  {
   "cell_type": "markdown",
   "source": [
    "### Run trained SVM model on testing dataset and calculate its prediction, confusion matrix and accuracy."
   ],
   "metadata": {
    "collapsed": false
   }
  },
  {
   "cell_type": "code",
   "execution_count": 6,
   "outputs": [],
   "source": [
    "svm_prediction = svm_model.predict(test_features)\n",
    "svm_confusion_matrix = metrics.confusion_matrix(test_labels, svm_prediction)\n",
    "svm_accuracy = svm_model.score(test_features, test_labels)"
   ],
   "metadata": {
    "collapsed": false,
    "pycharm": {
     "name": "#%%\n"
    }
   }
  },
  {
   "cell_type": "markdown",
   "source": [
    "### Print its prediction, confusion matrix and accuracy."
   ],
   "metadata": {
    "collapsed": false,
    "pycharm": {
     "name": "#%% md\n"
    }
   }
  },
  {
   "cell_type": "code",
   "execution_count": 7,
   "outputs": [
    {
     "name": "stdout",
     "output_type": "stream",
     "text": [
      "['Normal' 'Normal' 'Cancer' 'Cancer' 'Normal' 'Cancer' 'Normal' 'Cancer'\n",
      " 'Normal' 'Normal' 'Normal' 'Normal' 'Cancer' 'Normal' 'Cancer' 'Normal'\n",
      " 'Cancer' 'Normal' 'Cancer' 'Cancer' 'Cancer' 'Cancer' 'Cancer' 'Normal'\n",
      " 'Cancer' 'Normal' 'Cancer' 'Cancer' 'Normal' 'Normal']\n",
      "[[14  0]\n",
      " [ 1 15]]\n",
      "0.9666666666666667\n"
     ]
    }
   ],
   "source": [
    "print(svm_prediction)\n",
    "print(svm_confusion_matrix)\n",
    "print(svm_accuracy)"
   ],
   "metadata": {
    "collapsed": false,
    "pycharm": {
     "name": "#%%\n"
    }
   }
  },
  {
   "cell_type": "markdown",
   "source": [
    "## Decision tree model"
   ],
   "metadata": {
    "collapsed": false,
    "pycharm": {
     "name": "#%% md\n"
    }
   }
  },
  {
   "cell_type": "markdown",
   "source": [
    "### Train decision tree model with training dataset."
   ],
   "metadata": {
    "collapsed": false,
    "pycharm": {
     "name": "#%% md\n"
    }
   }
  },
  {
   "cell_type": "code",
   "execution_count": 8,
   "outputs": [],
   "source": [
    "tree_model = tree.DecisionTreeClassifier().fit(train_features, train_labels)\n",
    "decision_tree_accuracy = tree_model.score(test_features, test_labels)"
   ],
   "metadata": {
    "collapsed": false,
    "pycharm": {
     "name": "#%%\n"
    }
   }
  },
  {
   "cell_type": "markdown",
   "source": [
    "### Print its accuracy and tree plot."
   ],
   "metadata": {
    "collapsed": false,
    "pycharm": {
     "name": "#%% md\n"
    }
   }
  },
  {
   "cell_type": "code",
   "source": [
    "print(decision_tree_accuracy)\n",
    "decision_tree_plot = tree.plot_tree(tree_model, filled=True)\n",
    "# print(decision_tree_plot)"
   ],
   "metadata": {
    "collapsed": false,
    "pycharm": {
     "name": "#%%\n"
    }
   },
   "execution_count": 9,
   "outputs": [
    {
     "name": "stdout",
     "output_type": "stream",
     "text": [
      "0.9333333333333333\n"
     ]
    },
    {
     "data": {
      "text/plain": "<Figure size 432x288 with 1 Axes>",
      "image/png": "[encoded data removed]"
     },
     "metadata": {
      "needs_background": "light"
     },
     "output_type": "display_data"
    }
   ]
  },
  {
   "cell_type": "markdown",
   "source": [
    "### Run trained tree model on testing dataset, calculate its prediction and print its confusion matrix."
   ],
   "metadata": {
    "collapsed": false,
    "pycharm": {
     "name": "#%% md\n"
    }
   }
  },
  {
   "cell_type": "code",
   "execution_count": 10,
   "outputs": [
    {
     "name": "stdout",
     "output_type": "stream",
     "text": [
      "[[14  0]\n",
      " [ 2 14]]\n"
     ]
    }
   ],
   "source": [
    "decision_tree_prediction = tree_model.predict(test_features)\n",
    "decision_tree_confusion_matrix = metrics.confusion_matrix(test_labels, decision_tree_prediction)\n",
    "print(decision_tree_confusion_matrix)"
   ],
   "metadata": {
    "collapsed": false,
    "pycharm": {
     "name": "#%%\n"
    }
   }
  },
  {
   "cell_type": "markdown",
   "source": [
    "### Comment on SVM and Decision tree models, and reason which one is more efficient, if there is any difference."
   ],
   "metadata": {
    "collapsed": false,
    "pycharm": {
     "name": "#%% md\n"
    }
   }
  },
  {
   "cell_type": "code",
   "execution_count": 11,
   "outputs": [],
   "source": [
    "def calculate_model_delta(object_one: np.array, object_two: np.array) -> [str, float]:\n",
    "    delta_ratio = np.mean(object_one != object_two)\n",
    "    delta_percentage = delta_ratio * 100\n",
    "    return ['Yes' if delta_ratio else 'No', delta_percentage]"
   ],
   "metadata": {
    "collapsed": false,
    "pycharm": {
     "name": "#%%\n"
    }
   }
  },
  {
   "cell_type": "code",
   "execution_count": 12,
   "outputs": [],
   "source": [
    "accuracy_delta_bool, accuracy_delta_percentage = calculate_model_delta(svm_accuracy, decision_tree_accuracy)\n",
    "prediction_delta_bool, prediction_delta_percentage = calculate_model_delta(svm_prediction, decision_tree_prediction)\n",
    "confusion_matrix_delta_bool, percentage_delta_confusion_matrix = calculate_model_delta(svm_confusion_matrix,\n",
    "                                                                                       decision_tree_confusion_matrix)"
   ],
   "metadata": {
    "collapsed": false,
    "pycharm": {
     "name": "#%%\n"
    }
   }
  },
  {
   "cell_type": "markdown",
   "source": [
    "#### Comparison between SVM accuracy and Decision tree accuracy."
   ],
   "metadata": {
    "collapsed": false,
    "pycharm": {
     "name": "#%% md\n"
    }
   }
  },
  {
   "cell_type": "code",
   "source": [
    "print(f'Is there any difference in accuracy between models?\\n{accuracy_delta_bool}, ', end='')\n",
    "print(f'there is a {accuracy_delta_percentage}% difference in accuracy between models.')"
   ],
   "metadata": {
    "collapsed": false,
    "pycharm": {
     "name": "#%%\n"
    }
   },
   "execution_count": 13,
   "outputs": [
    {
     "name": "stdout",
     "output_type": "stream",
     "text": [
      "Is there any difference in accuracy between models?\n",
      "Yes, there is a 100.0% difference in accuracy between models.\n"
     ]
    }
   ]
  },
  {
   "cell_type": "markdown",
   "source": [
    "#### Comparison between test labels, SVM prediction and Decision tree prediction."
   ],
   "metadata": {
    "collapsed": false,
    "pycharm": {
     "name": "#%% md\n"
    }
   }
  },
  {
   "cell_type": "markdown",
   "source": [
    "##### Comparison between SVM prediction and Decision tree prediction."
   ],
   "metadata": {
    "collapsed": false,
    "pycharm": {
     "name": "#%% md\n"
    }
   }
  },
  {
   "cell_type": "code",
   "source": [
    "print(f'Is there any difference in prediction between models?\\n{prediction_delta_bool}, ', end='')\n",
    "print(f'there is a {prediction_delta_percentage}% difference in prediction between models.')"
   ],
   "metadata": {
    "collapsed": false,
    "pycharm": {
     "name": "#%%\n"
    }
   },
   "execution_count": 14,
   "outputs": [
    {
     "name": "stdout",
     "output_type": "stream",
     "text": [
      "Is there any difference in prediction between models?\n",
      "Yes, there is a 3.3333333333333335% difference in prediction between models.\n"
     ]
    }
   ]
  },
  {
   "cell_type": "markdown",
   "source": [
    "##### Comparison between test labels and SVM prediction."
   ],
   "metadata": {
    "collapsed": false
   }
  },
  {
   "cell_type": "code",
   "source": [
    "_, percentage_delta_test_svm = calculate_model_delta(test_labels, svm_prediction)\n",
    "print(f'Difference percentage between test labels and SVM prediction: {percentage_delta_test_svm}%')"
   ],
   "metadata": {
    "collapsed": false,
    "pycharm": {
     "name": "#%%\n"
    }
   },
   "execution_count": 15,
   "outputs": [
    {
     "name": "stdout",
     "output_type": "stream",
     "text": [
      "Difference percentage between test labels and SVM prediction: 3.3333333333333335%\n"
     ]
    }
   ]
  },
  {
   "cell_type": "markdown",
   "source": [
    "##### Comparison between test labels and Decision tree prediction."
   ],
   "metadata": {
    "collapsed": false
   }
  },
  {
   "cell_type": "code",
   "source": [
    "_, percentage_delta_test_decision_tree = calculate_model_delta(test_labels, decision_tree_prediction)\n",
    "print(f'Difference percentage between test labels and SVM prediction: {percentage_delta_test_decision_tree}%')"
   ],
   "metadata": {
    "collapsed": false,
    "pycharm": {
     "name": "#%%\n"
    }
   },
   "execution_count": 16,
   "outputs": [
    {
     "name": "stdout",
     "output_type": "stream",
     "text": [
      "Difference percentage between test labels and SVM prediction: 6.666666666666667%\n"
     ]
    }
   ]
  },
  {
   "cell_type": "markdown",
   "source": [
    "#### Comparison between test label, SVM and Decision tree confusion matrices."
   ],
   "metadata": {
    "collapsed": false
   }
  },
  {
   "cell_type": "markdown",
   "source": [
    "##### Comparison between SVM and Decision tree confusion matrices."
   ],
   "metadata": {
    "collapsed": false,
    "pycharm": {
     "name": "#%% md\n"
    }
   }
  },
  {
   "cell_type": "code",
   "execution_count": 17,
   "outputs": [
    {
     "name": "stdout",
     "output_type": "stream",
     "text": [
      "Is there any difference in confusion matrix between models?\n",
      "Yes, there is a 50.0% difference in confusion matrix between models.\n"
     ]
    }
   ],
   "source": [
    "print(f'Is there any difference in confusion matrix between models?\\n{confusion_matrix_delta_bool}, ', end='')\n",
    "print(f'there is a {percentage_delta_confusion_matrix}% difference in confusion matrix between models.')"
   ],
   "metadata": {
    "collapsed": false,
    "pycharm": {
     "name": "#%%\n"
    }
   }
  },
  {
   "cell_type": "markdown",
   "source": [
    "## Gene selection"
   ],
   "metadata": {
    "collapsed": false,
    "pycharm": {
     "name": "#%% md\n"
    }
   }
  }
 ],
 "metadata": {
  "kernelspec": {
   "name": "python385jvsc74a57bd0f058aeb1758ada1a7de5f5ba217300728d151518e4300feaaa8035dbc87e5e92",
   "language": "python",
   "display_name": "Python 3.8.5 64-bit ('anaconda3': virtualenv)"
  },
  "language_info": {
   "codemirror_mode": {
    "name": "ipython",
    "version": 2
   },
   "file_extension": ".py",
   "mimetype": "text/x-python",
   "name": "python",
   "nbconvert_exporter": "python",
   "pygments_lexer": "ipython2",
   "version": "3.8.5"
  },
  "metadata": {
   "interpreter": {
    "hash": "f058aeb1758ada1a7de5f5ba217300728d151518e4300feaaa8035dbc87e5e92"
   }
  }
 },
 "nbformat": 4,
 "nbformat_minor": 0
}