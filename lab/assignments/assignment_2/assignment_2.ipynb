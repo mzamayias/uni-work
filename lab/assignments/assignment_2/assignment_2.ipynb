{
 "metadata": {
  "language_info": {
   "codemirror_mode": {
    "name": "ipython",
    "version": 3
   },
   "file_extension": ".py",
   "mimetype": "text/x-python",
   "name": "python",
   "nbconvert_exporter": "python",
   "pygments_lexer": "ipython3",
   "version": "3.8.5"
  },
  "orig_nbformat": 2,
  "kernelspec": {
   "name": "python385jvsc74a57bd0f058aeb1758ada1a7de5f5ba217300728d151518e4300feaaa8035dbc87e5e92",
   "display_name": "Python 3.8.5 64-bit ('base': conda)"
  },
  "metadata": {
   "interpreter": {
    "hash": "f058aeb1758ada1a7de5f5ba217300728d151518e4300feaaa8035dbc87e5e92"
   }
  }
 },
 "nbformat": 4,
 "nbformat_minor": 2,
 "cells": [
  {
   "cell_type": "code",
   "execution_count": 1,
   "metadata": {},
   "outputs": [],
   "source": [
    "import pandas as pd"
   ]
  },
  {
   "cell_type": "code",
   "execution_count": 4,
   "metadata": {},
   "outputs": [],
   "source": [
    "training_data, test_data, kegg_data = ['http://139.91.190.186/tei/bioinformatics/LungTrain.txt', 'http://139.91.190.186/tei/bioinformatics/LungTest.txt', 'http://139.91.190.186/tei/bioinformatics/c2.cp.kegg.v7.4.entrez.gmt']"
   ]
  },
  {
   "source": [
    "[\n",
    "    'http://139.91.190.186/tei/bioinformatics/LungTrain.txt',\n",
    "    'http://139.91.190.186/tei/bioinformatics/LungTest.txt',\n",
    "    'http://139.91.190.186/tei/bioinformatics/c2.cp.kegg.v7.4.entrez.gmt'\n",
    "]"
   ],
   "cell_type": "code",
   "metadata": {},
   "execution_count": null,
   "outputs": []
  },
  {
   "cell_type": "code",
   "execution_count": null,
   "metadata": {},
   "outputs": [],
   "source": []
  }
 ]
}