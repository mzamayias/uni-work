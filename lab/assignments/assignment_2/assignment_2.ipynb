{
    "metadata": {
        "language_info": {
            "codemirror_mode": {"name": "ipython", "version": 3},
            "file_extension": ".py",
            "mimetype": "text/x-python",
            "name": "python",
            "nbconvert_exporter": "python",
            "pygments_lexer": "ipython3",
            "version": "3.8.5",
        },
        "orig_nbformat": 2,
        "kernelspec": {
            "name": "python385jvsc74a57bd0f058aeb1758ada1a7de5f5ba217300728d151518e4300feaaa8035dbc87e5e92",
            "display_name": "Python 3.8.5 64-bit ('base': conda)",
        },
        "metadata": {
            "interpreter": {
                "hash": "f058aeb1758ada1a7de5f5ba217300728d151518e4300feaaa8035dbc87e5e92"
            }
        },
    },
    "nbformat": 4,
    "nbformat_minor": 2,
    "cells": [
        {
            "source": [
                "Ονοματεπώνυμο: Ζαμάγιας Μιχαήλ Ανάργυρος\n",
                "\n",
                "ΑΜ: ΤΠ5000",
            ],
            "cell_type": "markdown",
            "metadata": {},
        },
        {"source": ["# Import modules"], "cell_type": "markdown", "metadata": {}},
        {
            "cell_type": "code",
            "execution_count": 1,
            "metadata": {},
            "outputs": [],
            "source": ["import pandas as pd"],
        },
        {"source": ["## Data pre-processing"], "cell_type": "markdown", "metadata": {}},
        {
            "cell_type": "code",
            "execution_count": 2,
            "metadata": {},
            "outputs": [],
            "source": [
                "# training_data = 'http://139.91.190.186/tei/bioinformatics/LungTrain.txt'\n",
                "# test_data = 'http://139.91.190.186/tei/bioinformatics/LungTest.txt'\n",
                "# kegg_data = 'http://139.91.190.186/tei/bioinformatics/c2.cp.kegg.v7.4.entrez.gmt'",
            ],
        },
        {
            "cell_type": "code",
            "execution_count": 3,
            "metadata": {},
            "outputs": [],
            "source": [
                "datasets = ['LungTrain.txt', 'LungTest.txt', 'KEGG_DATA.txt']\n",
                "# training_data, test_data, kegg_data = datasets[::]\n",
                "\n",
                "training_dataset, test_dataset, kegg_dataset = [\n",
                "    pd.read_csv(dataset, sep='\\t')\n",
                "    for dataset in datasets\n",
                "]",
            ],
        },
        {
            "cell_type": "code",
            "execution_count": 4,
            "metadata": {},
            "outputs": [],
            "source": ["training_genes = training_dataset.iloc[:, 0]"],
        },
        {
            "cell_type": "code",
            "execution_count": 5,
            "metadata": {},
            "outputs": [],
            "source": [
                "training_labels = [\n",
                "    'Cancer' if 'Cancer' in category else 'Normal'\n",
                "    for category in list(training_dataset.columns[1:])\n",
                "    ]",
            ],
        },
        {
            "cell_type": "code",
            "execution_count": null,
            "metadata": {},
            "outputs": [],
            "source": [],
        },
    ],
}
