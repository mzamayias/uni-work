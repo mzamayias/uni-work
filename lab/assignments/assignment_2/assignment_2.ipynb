{
 "cells": [
  {
   "source": [
    "Ονοματεπώνυμο: Ζαμάγιας Μιχαήλ Ανάργυρος\n",
    "\n",
    "ΑΜ: ΤΠ5000"
   ],
   "cell_type": "markdown",
   "metadata": {
    "collapsed": true
   }
  },
  {
   "source": [
    "## Import modules"
   ],
   "cell_type": "markdown",
   "metadata": {}
  },
  {
   "cell_type": "code",
   "execution_count": 1,
   "metadata": {},
   "outputs": [],
   "source": [
    "import pandas as pd"
   ]
  },
  {
   "source": [
    "# Data pre-processing"
   ],
   "cell_type": "markdown",
   "metadata": {}
  },
  {
   "source": [
    "## Read datasets"
   ],
   "cell_type": "markdown",
   "metadata": {}
  },
  {
   "cell_type": "code",
   "execution_count": 2,
   "metadata": {},
   "outputs": [],
   "source": [
    "datasets = ['LungTrain.txt', 'LungTest.txt', 'KEGG_DATA.txt']\n",
    "training_dataset, test_dataset, kegg_dataset = [\n",
    "    pd.read_csv(dataset, sep='\\t')\n",
    "    for dataset in datasets\n",
    "]"
   ]
  },
  {
   "cell_type": "code",
   "execution_count": 3,
   "metadata": {},
   "outputs": [],
   "source": [
    "training_genes = training_dataset.iloc[:, 0]"
   ]
  },
  {
   "cell_type": "code",
   "execution_count": 4,
   "metadata": {},
   "outputs": [],
   "source": [
    "training_columns = list(training_dataset.columns)"
   ]
  },
  {
   "cell_type": "code",
   "execution_count": 5,
   "metadata": {
    "pycharm": {
     "name": "#%%\n"
    }
   },
   "outputs": [],
   "source": [
    "training_labels = [\n",
    "    'Cancer' if 'Cancer' in column else 'Normal' if 'Normal' in column else column\n",
    "    for column in training_columns\n",
    "]"
   ]
  },
  {
   "cell_type": "code",
   "execution_count": 6,
   "outputs": [
    {
     "output_type": "execute_result",
     "data": {
      "text/plain": [
       "                  Gene  Cancer  Normal  Cancer  Normal  Cancer  Cancer  \\\n",
       "0            1007_s_at   10.93   10.42   10.63   10.15   10.99   10.78   \n",
       "1              1053_at    6.90    6.92    7.55    6.70    6.83    6.72   \n",
       "2               117_at    8.11    7.76    7.97    7.71    7.78    7.78   \n",
       "3               121_at    9.45    9.52    9.81    9.52    9.86    9.86   \n",
       "4            1255_g_at    4.81    4.72    4.91    4.82    4.82    4.85   \n",
       "...                ...     ...     ...     ...     ...     ...     ...   \n",
       "22278   AFFX-ThrX-5_at    4.97    5.05    5.40    5.14    5.15    5.20   \n",
       "22279   AFFX-ThrX-M_at    4.45    4.46    4.64    4.60    4.58    4.53   \n",
       "22280  AFFX-TrpnX-3_at    4.03    4.04    4.07    3.99    4.07    3.99   \n",
       "22281  AFFX-TrpnX-5_at    4.50    4.54    4.70    4.61    4.63    4.59   \n",
       "22282  AFFX-TrpnX-M_at    4.40    4.46    4.71    4.58    4.63    4.55   \n",
       "\n",
       "       Cancer  Normal  Cancer  ...  Cancer  Normal  Cancer  Normal  Cancer  \\\n",
       "0       10.57   10.48   10.55  ...   10.35   10.38   10.90   10.24   10.32   \n",
       "1        6.74    6.72    7.10  ...    7.28    6.58    6.80    6.62    7.01   \n",
       "2        7.89    8.06    8.01  ...    7.59    7.57    7.88    8.36    8.45   \n",
       "3       10.13    9.88   10.11  ...    9.71    9.80    9.84    9.99   10.15   \n",
       "4        5.13    5.04    4.89  ...    4.91    4.80    4.88    4.96    4.97   \n",
       "...       ...     ...     ...  ...     ...     ...     ...     ...     ...   \n",
       "22278    5.49    5.26    5.44  ...    5.12    5.19    5.30    5.24    5.24   \n",
       "22279    4.75    4.49    4.65  ...    4.42    4.56    4.61    4.65    4.48   \n",
       "22280    4.16    4.14    4.07  ...    4.05    4.01    4.12    4.10    4.07   \n",
       "22281    4.76    4.61    4.70  ...    4.66    4.65    4.77    4.63    4.55   \n",
       "22282    4.65    4.47    4.66  ...    4.50    4.63    4.55    4.59    4.71   \n",
       "\n",
       "       Cancer  Cancer  Normal  Cancer  Cancer  \n",
       "0       10.26   10.50   10.39   11.45   11.75  \n",
       "1        7.24    7.51    6.83    7.68    6.82  \n",
       "2        7.92    7.94    7.95    7.72    7.94  \n",
       "3       10.12   10.30   10.04    9.83    9.90  \n",
       "4        4.95    4.89    4.75    4.90    4.71  \n",
       "...       ...     ...     ...     ...     ...  \n",
       "22278    5.26    5.29    5.21    5.28    5.34  \n",
       "22279    4.56    4.60    4.43    4.63    4.68  \n",
       "22280    4.08    4.23    4.14    4.16    4.13  \n",
       "22281    4.67    4.70    4.58    4.82    4.83  \n",
       "22282    4.64    4.68    4.63    4.77    4.74  \n",
       "\n",
       "[22283 rows x 78 columns]"
      ],
      "text/html": "<div>\n<style scoped>\n    .dataframe tbody tr th:only-of-type {\n        vertical-align: middle;\n    }\n\n    .dataframe tbody tr th {\n        vertical-align: top;\n    }\n\n    .dataframe thead th {\n        text-align: right;\n    }\n</style>\n<table border=\"1\" class=\"dataframe\">\n  <thead>\n    <tr style=\"text-align: right;\">\n      <th></th>\n      <th>Gene</th>\n      <th>Cancer</th>\n      <th>Normal</th>\n      <th>Cancer</th>\n      <th>Normal</th>\n      <th>Cancer</th>\n      <th>Cancer</th>\n      <th>Cancer</th>\n      <th>Normal</th>\n      <th>Cancer</th>\n      <th>...</th>\n      <th>Cancer</th>\n      <th>Normal</th>\n      <th>Cancer</th>\n      <th>Normal</th>\n      <th>Cancer</th>\n      <th>Cancer</th>\n      <th>Cancer</th>\n      <th>Normal</th>\n      <th>Cancer</th>\n      <th>Cancer</th>\n    </tr>\n  </thead>\n  <tbody>\n    <tr>\n      <th>0</th>\n      <td>1007_s_at</td>\n      <td>10.93</td>\n      <td>10.42</td>\n      <td>10.63</td>\n      <td>10.15</td>\n      <td>10.99</td>\n      <td>10.78</td>\n      <td>10.57</td>\n      <td>10.48</td>\n      <td>10.55</td>\n      <td>...</td>\n      <td>10.35</td>\n      <td>10.38</td>\n      <td>10.90</td>\n      <td>10.24</td>\n      <td>10.32</td>\n      <td>10.26</td>\n      <td>10.50</td>\n      <td>10.39</td>\n      <td>11.45</td>\n      <td>11.75</td>\n    </tr>\n    <tr>\n      <th>1</th>\n      <td>1053_at</td>\n      <td>6.90</td>\n      <td>6.92</td>\n      <td>7.55</td>\n      <td>6.70</td>\n      <td>6.83</td>\n      <td>6.72</td>\n      <td>6.74</td>\n      <td>6.72</td>\n      <td>7.10</td>\n      <td>...</td>\n      <td>7.28</td>\n      <td>6.58</td>\n      <td>6.80</td>\n      <td>6.62</td>\n      <td>7.01</td>\n      <td>7.24</td>\n      <td>7.51</td>\n      <td>6.83</td>\n      <td>7.68</td>\n      <td>6.82</td>\n    </tr>\n    <tr>\n      <th>2</th>\n      <td>117_at</td>\n      <td>8.11</td>\n      <td>7.76</td>\n      <td>7.97</td>\n      <td>7.71</td>\n      <td>7.78</td>\n      <td>7.78</td>\n      <td>7.89</td>\n      <td>8.06</td>\n      <td>8.01</td>\n      <td>...</td>\n      <td>7.59</td>\n      <td>7.57</td>\n      <td>7.88</td>\n      <td>8.36</td>\n      <td>8.45</td>\n      <td>7.92</td>\n      <td>7.94</td>\n      <td>7.95</td>\n      <td>7.72</td>\n      <td>7.94</td>\n    </tr>\n    <tr>\n      <th>3</th>\n      <td>121_at</td>\n      <td>9.45</td>\n      <td>9.52</td>\n      <td>9.81</td>\n      <td>9.52</td>\n      <td>9.86</td>\n      <td>9.86</td>\n      <td>10.13</td>\n      <td>9.88</td>\n      <td>10.11</td>\n      <td>...</td>\n      <td>9.71</td>\n      <td>9.80</td>\n      <td>9.84</td>\n      <td>9.99</td>\n      <td>10.15</td>\n      <td>10.12</td>\n      <td>10.30</td>\n      <td>10.04</td>\n      <td>9.83</td>\n      <td>9.90</td>\n    </tr>\n    <tr>\n      <th>4</th>\n      <td>1255_g_at</td>\n      <td>4.81</td>\n      <td>4.72</td>\n      <td>4.91</td>\n      <td>4.82</td>\n      <td>4.82</td>\n      <td>4.85</td>\n      <td>5.13</td>\n      <td>5.04</td>\n      <td>4.89</td>\n      <td>...</td>\n      <td>4.91</td>\n      <td>4.80</td>\n      <td>4.88</td>\n      <td>4.96</td>\n      <td>4.97</td>\n      <td>4.95</td>\n      <td>4.89</td>\n      <td>4.75</td>\n      <td>4.90</td>\n      <td>4.71</td>\n    </tr>\n    <tr>\n      <th>...</th>\n      <td>...</td>\n      <td>...</td>\n      <td>...</td>\n      <td>...</td>\n      <td>...</td>\n      <td>...</td>\n      <td>...</td>\n      <td>...</td>\n      <td>...</td>\n      <td>...</td>\n      <td>...</td>\n      <td>...</td>\n      <td>...</td>\n      <td>...</td>\n      <td>...</td>\n      <td>...</td>\n      <td>...</td>\n      <td>...</td>\n      <td>...</td>\n      <td>...</td>\n      <td>...</td>\n    </tr>\n    <tr>\n      <th>22278</th>\n      <td>AFFX-ThrX-5_at</td>\n      <td>4.97</td>\n      <td>5.05</td>\n      <td>5.40</td>\n      <td>5.14</td>\n      <td>5.15</td>\n      <td>5.20</td>\n      <td>5.49</td>\n      <td>5.26</td>\n      <td>5.44</td>\n      <td>...</td>\n      <td>5.12</td>\n      <td>5.19</td>\n      <td>5.30</td>\n      <td>5.24</td>\n      <td>5.24</td>\n      <td>5.26</td>\n      <td>5.29</td>\n      <td>5.21</td>\n      <td>5.28</td>\n      <td>5.34</td>\n    </tr>\n    <tr>\n      <th>22279</th>\n      <td>AFFX-ThrX-M_at</td>\n      <td>4.45</td>\n      <td>4.46</td>\n      <td>4.64</td>\n      <td>4.60</td>\n      <td>4.58</td>\n      <td>4.53</td>\n      <td>4.75</td>\n      <td>4.49</td>\n      <td>4.65</td>\n      <td>...</td>\n      <td>4.42</td>\n      <td>4.56</td>\n      <td>4.61</td>\n      <td>4.65</td>\n      <td>4.48</td>\n      <td>4.56</td>\n      <td>4.60</td>\n      <td>4.43</td>\n      <td>4.63</td>\n      <td>4.68</td>\n    </tr>\n    <tr>\n      <th>22280</th>\n      <td>AFFX-TrpnX-3_at</td>\n      <td>4.03</td>\n      <td>4.04</td>\n      <td>4.07</td>\n      <td>3.99</td>\n      <td>4.07</td>\n      <td>3.99</td>\n      <td>4.16</td>\n      <td>4.14</td>\n      <td>4.07</td>\n      <td>...</td>\n      <td>4.05</td>\n      <td>4.01</td>\n      <td>4.12</td>\n      <td>4.10</td>\n      <td>4.07</td>\n      <td>4.08</td>\n      <td>4.23</td>\n      <td>4.14</td>\n      <td>4.16</td>\n      <td>4.13</td>\n    </tr>\n    <tr>\n      <th>22281</th>\n      <td>AFFX-TrpnX-5_at</td>\n      <td>4.50</td>\n      <td>4.54</td>\n      <td>4.70</td>\n      <td>4.61</td>\n      <td>4.63</td>\n      <td>4.59</td>\n      <td>4.76</td>\n      <td>4.61</td>\n      <td>4.70</td>\n      <td>...</td>\n      <td>4.66</td>\n      <td>4.65</td>\n      <td>4.77</td>\n      <td>4.63</td>\n      <td>4.55</td>\n      <td>4.67</td>\n      <td>4.70</td>\n      <td>4.58</td>\n      <td>4.82</td>\n      <td>4.83</td>\n    </tr>\n    <tr>\n      <th>22282</th>\n      <td>AFFX-TrpnX-M_at</td>\n      <td>4.40</td>\n      <td>4.46</td>\n      <td>4.71</td>\n      <td>4.58</td>\n      <td>4.63</td>\n      <td>4.55</td>\n      <td>4.65</td>\n      <td>4.47</td>\n      <td>4.66</td>\n      <td>...</td>\n      <td>4.50</td>\n      <td>4.63</td>\n      <td>4.55</td>\n      <td>4.59</td>\n      <td>4.71</td>\n      <td>4.64</td>\n      <td>4.68</td>\n      <td>4.63</td>\n      <td>4.77</td>\n      <td>4.74</td>\n    </tr>\n  </tbody>\n</table>\n<p>22283 rows × 78 columns</p>\n</div>"
     },
     "metadata": {},
     "execution_count": 6
    }
   ],
   "source": [
    "training_dataset.set_axis(training_labels, axis='columns')"
   ],
   "metadata": {
    "collapsed": false,
    "pycharm": {
     "name": "#%%\n"
    }
   }
  }
 ],
 "metadata": {
  "kernelspec": {
   "name": "python385jvsc74a57bd0f058aeb1758ada1a7de5f5ba217300728d151518e4300feaaa8035dbc87e5e92",
   "display_name": "Python 3.8.5 64-bit ('base': conda)"
  },
  "language_info": {
   "codemirror_mode": {
    "name": "ipython",
    "version": 2
   },
   "file_extension": ".py",
   "mimetype": "text/x-python",
   "name": "python",
   "nbconvert_exporter": "python",
   "pygments_lexer": "ipython2",
   "version": "3.8.5"
  },
  "metadata": {
   "interpreter": {
    "hash": "f058aeb1758ada1a7de5f5ba217300728d151518e4300feaaa8035dbc87e5e92"
   }
  }
 },
 "nbformat": 4,
 "nbformat_minor": 0
}