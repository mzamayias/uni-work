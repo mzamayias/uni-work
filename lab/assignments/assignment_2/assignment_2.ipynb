{
 "cells": [
  {
   "source": [
    "Ονοματεπώνυμο: Ζαμάγιας Μιχαήλ Ανάργυρος\n",
    "\n",
    "ΑΜ: ΤΠ5000"
   ],
   "cell_type": "markdown",
   "metadata": {
    "collapsed": true
   }
  },
  {
   "source": [
    "## Import modules"
   ],
   "cell_type": "markdown",
   "metadata": {}
  },
  {
   "cell_type": "code",
   "execution_count": 1,
   "metadata": {},
   "outputs": [],
   "source": [
    "from typing import Tuple\n",
    "\n",
    "import numpy as np\n",
    "import pandas as pd\n",
    "from sklearn.svm import SVC\n",
    "from sklearn.metrics import confusion_matrix\n",
    "# import matplotlib.pyplot as plt"
   ]
  },
  {
   "source": [
    "# Data pre-processing"
   ],
   "cell_type": "markdown",
   "metadata": {}
  },
  {
   "source": [
    "## Read datasets"
   ],
   "cell_type": "markdown",
   "metadata": {}
  },
  {
   "cell_type": "code",
   "execution_count": 2,
   "metadata": {},
   "outputs": [],
   "source": [
    "datasets = ['LungTrain.txt', 'LungTest.txt', 'KEGG_DATA.txt']\n",
    "training_dataset, testing_dataset, kegg_dataset = [\n",
    "    pd.read_csv(dataset, sep='\\t')\n",
    "    for dataset in datasets\n",
    "]"
   ]
  },
  {
   "cell_type": "code",
   "execution_count": 3,
   "metadata": {},
   "outputs": [],
   "source": [
    "def preprocess_data(dataset: pd.DataFrame) -> Tuple[pd.Series, pd.Series, pd.DataFrame]:\n",
    "    \"\"\"To process read datasets.\n",
    "    \"Cleared\" up column names are stored in the list dataset_labels.\n",
    "    Firstly, this function returns gene names as a pd.Series type, indexed.\n",
    "    Secondly, it returns label names as a pd.Series type, indexed.\n",
    "    Thirdly, it returns the dataset altered in the following ways:\n",
    "        -   Its columns are renamed by the dataset_labels list.\n",
    "        -   It gets transposed.\n",
    "    Args:\n",
    "        dataset(pd.DataFrame): Read dataset.\n",
    "    Returns:\n",
    "        Tuple[pd.Series, pd.DataFrame]: Returns a tuple containing dataset genes, dataset labels and processed dataset.\n",
    "    \"\"\"\n",
    "    dataset_genes = dataset.iloc[:, 0]\n",
    "    dataset_labels = pd.Series(\n",
    "        [\n",
    "            'Cancer' if 'Cancer' in dataset_column else 'Normal' if 'Normal' in dataset_column else dataset_column\n",
    "            for dataset_column in list(dataset.columns)\n",
    "        ]\n",
    "    )\n",
    "    altered_dataset = dataset.set_axis(dataset_labels, axis='columns').T.iloc[1:]\n",
    "    return dataset_genes, dataset_labels[1:], altered_dataset\n"
   ]
  },
  {
   "cell_type": "code",
   "execution_count": 4,
   "outputs": [],
   "source": [
    "training_genes, training_labels, training_dataset = preprocess_data(training_dataset)\n",
    "testing_genes, testing_labels, testing_dataset = preprocess_data(testing_dataset)"
   ],
   "metadata": {
    "collapsed": false,
    "pycharm": {
     "name": "#%%\n"
    }
   }
  },
  {
   "cell_type": "markdown",
   "source": [
    "# Data analysis"
   ],
   "metadata": {
    "collapsed": false,
    "pycharm": {
     "name": "#%% md\n"
    }
   }
  },
  {
   "cell_type": "markdown",
   "source": [
    "## Support Vector Machines model"
   ],
   "metadata": {
    "collapsed": false,
    "pycharm": {
     "name": "#%% md\n"
    }
   }
  },
  {
   "cell_type": "markdown",
   "source": [
    "### Train the SVM model with the training dataset"
   ],
   "metadata": {
    "collapsed": false,
    "pycharm": {
     "name": "#%% md\n"
    }
   }
  },
  {
   "cell_type": "code",
   "execution_count": 5,
   "outputs": [],
   "source": [
    "train_features = np.array(training_dataset)\n",
    "train_labels = np.array(training_labels)\n",
    "svm_model = SVC().fit(train_features, train_labels)"
   ],
   "metadata": {
    "collapsed": false,
    "pycharm": {
     "name": "#%%\n"
    }
   }
  },
  {
   "cell_type": "markdown",
   "metadata": {
    "pycharm": {
     "name": "#%% md\n"
    }
   },
   "source": [
    "### Run trained SVM model on testing dataset"
   ]
  },
  {
   "cell_type": "code",
   "execution_count": 6,
   "outputs": [],
   "source": [
    "test_features = np.array(testing_dataset)\n",
    "test_labels = np.array(testing_labels)"
   ],
   "metadata": {
    "collapsed": false,
    "pycharm": {
     "name": "#%%\n"
    }
   }
  },
  {
   "cell_type": "markdown",
   "source": [
    "### Calculate its prediction, confusion matrix and accuracy"
   ],
   "metadata": {
    "collapsed": false,
    "pycharm": {
     "name": "#%% md\n"
    }
   }
  },
  {
   "cell_type": "code",
   "execution_count": 7,
   "outputs": [],
   "source": [
    "svm_prediction = svm_model.predict(test_features)\n",
    "svm_confusion_matrix = confusion_matrix(test_labels, svm_prediction)\n",
    "svm_accuracy = svm_model.score(test_features, test_labels)"
   ],
   "metadata": {
    "collapsed": false,
    "pycharm": {
     "name": "#%%\n"
    }
   }
  },
  {
   "cell_type": "markdown",
   "source": [
    "### Print its prediction, confusion matrix and accuracy"
   ],
   "metadata": {
    "collapsed": false,
    "pycharm": {
     "name": "#%% md\n"
    }
   }
  },
  {
   "cell_type": "code",
   "execution_count": 8,
   "outputs": [
    {
     "name": "stdout",
     "output_type": "stream",
     "text": [
      "['Normal' 'Normal' 'Cancer' 'Cancer' 'Normal' 'Cancer' 'Normal' 'Cancer'\n",
      " 'Normal' 'Normal' 'Normal' 'Normal' 'Cancer' 'Normal' 'Cancer' 'Normal'\n",
      " 'Cancer' 'Normal' 'Cancer' 'Cancer' 'Cancer' 'Cancer' 'Cancer' 'Normal'\n",
      " 'Cancer' 'Normal' 'Cancer' 'Cancer' 'Normal' 'Normal']\n",
      "[[14  0]\n",
      " [ 1 15]]\n",
      "0.9666666666666667\n"
     ]
    }
   ],
   "source": [
    "print(svm_prediction)\n",
    "print(svm_confusion_matrix)\n",
    "print(svm_accuracy)"
   ],
   "metadata": {
    "collapsed": false,
    "pycharm": {
     "name": "#%%\n"
    }
   }
  },
  {
   "cell_type": "code",
   "execution_count": 9,
   "outputs": [],
   "source": [
    "#   train a decision tree model on training dataset, k-fold not required, print its accuracy and tree"
   ],
   "metadata": {
    "collapsed": false,
    "pycharm": {
     "name": "#%%\n"
    }
   }
  },
  {
   "cell_type": "code",
   "execution_count": 10,
   "outputs": [],
   "source": [
    "#   run trained model on testing dataset, print prediction for each sample in testing dataset and print confusion matrix"
   ],
   "metadata": {
    "collapsed": false,
    "pycharm": {
     "name": "#%%\n"
    }
   }
  },
  {
   "cell_type": "code",
   "execution_count": 11,
   "outputs": [],
   "source": [
    "#   comment on these two models, svm and decision tree, and reason which of the two is more efficient, if one is"
   ],
   "metadata": {
    "collapsed": false,
    "pycharm": {
     "name": "#%%\n"
    }
   }
  },
  {
   "cell_type": "markdown",
   "source": [
    "## Gene selection\n"
   ],
   "metadata": {
    "collapsed": false,
    "pycharm": {
     "name": "#%% md\n"
    }
   }
  }
 ],
 "metadata": {
  "kernelspec": {
   "name": "python385jvsc74a57bd0f058aeb1758ada1a7de5f5ba217300728d151518e4300feaaa8035dbc87e5e92",
   "language": "python",
   "display_name": "Python 3.8.5 64-bit ('anaconda3': virtualenv)"
  },
  "language_info": {
   "codemirror_mode": {
    "name": "ipython",
    "version": 2
   },
   "file_extension": ".py",
   "mimetype": "text/x-python",
   "name": "python",
   "nbconvert_exporter": "python",
   "pygments_lexer": "ipython2",
   "version": "3.8.5"
  },
  "metadata": {
   "interpreter": {
    "hash": "f058aeb1758ada1a7de5f5ba217300728d151518e4300feaaa8035dbc87e5e92"
   }
  }
 },
 "nbformat": 4,
 "nbformat_minor": 0
}