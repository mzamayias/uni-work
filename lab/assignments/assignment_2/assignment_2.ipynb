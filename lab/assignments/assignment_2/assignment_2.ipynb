{
 "cells": [
  {
   "source": [
    "Ονοματεπώνυμο: Ζαμάγιας Μιχαήλ Ανάργυρος\n",
    "\n",
    "ΑΜ: ΤΠ5000"
   ],
   "cell_type": "markdown",
   "metadata": {
    "collapsed": true
   }
  },
  {
   "source": [
    "## Import modules"
   ],
   "cell_type": "markdown",
   "metadata": {}
  },
  {
   "cell_type": "code",
   "execution_count": 1,
   "metadata": {},
   "outputs": [],
   "source": [
    "from typing import Tuple\n",
    "import pandas as pd"
   ]
  },
  {
   "source": [
    "# Data pre-processing"
   ],
   "cell_type": "markdown",
   "metadata": {}
  },
  {
   "source": [
    "## Read datasets"
   ],
   "cell_type": "markdown",
   "metadata": {}
  },
  {
   "cell_type": "code",
   "execution_count": 2,
   "metadata": {},
   "outputs": [],
   "source": [
    "datasets = ['LungTrain.txt', 'LungTest.txt', 'KEGG_DATA.txt']\n",
    "training_dataset, testing_dataset, kegg_dataset = [\n",
    "    pd.read_csv(dataset, sep='\\t')\n",
    "    for dataset in datasets\n",
    "]"
   ]
  },
  {
   "cell_type": "code",
   "execution_count": 3,
   "metadata": {},
   "outputs": [],
   "source": [
    "def preprocess_data(dataset: pd.DataFrame) -> Tuple[pd.Series, pd.DataFrame]:\n",
    "    \"\"\"\n",
    "    Function to process read data.\n",
    "    \"Cleared\" up column names are stored in the list dataset_labels.\n",
    "    Firstly, this function returns the gene names as a pd.Series type, indexed.\n",
    "    Secondly, it returns the dataset altered in the following ways:\n",
    "        -   Its columns are renamed by the dataset_labels list\n",
    "        -   It gets transposed.\n",
    "    Args:\n",
    "        dataset(pd.DataFrame): Read dataset.\n",
    "    Returns:\n",
    "        Tuple[pd.Series, pd.DataFrame]: Returns a tuple containing the dataset genes and\n",
    "    \"\"\"\n",
    "    dataset_labels = [\n",
    "        'Cancer' if 'Cancer' in dataset_column else 'Normal' if 'Normal' in dataset_column else dataset_column\n",
    "        for dataset_column in list(dataset.columns)\n",
    "    ]\n",
    "    return dataset.iloc[:, 0], dataset.set_axis(dataset_labels, axis='columns').T\n"
   ]
  },
  {
   "cell_type": "code",
   "execution_count": 4,
   "outputs": [],
   "source": [
    "training_genes, training_dataset = preprocess_data(training_dataset)\n",
    "testing_genes, testing_dataset = preprocess_data(testing_dataset)"
   ],
   "metadata": {
    "collapsed": false,
    "pycharm": {
     "name": "#%%\n"
    }
   }
  }
 ],
 "metadata": {
  "kernelspec": {
   "name": "python385jvsc74a57bd0f058aeb1758ada1a7de5f5ba217300728d151518e4300feaaa8035dbc87e5e92",
   "display_name": "Python 3.8.5 64-bit ('base': conda)"
  },
  "language_info": {
   "codemirror_mode": {
    "name": "ipython",
    "version": 2
   },
   "file_extension": ".py",
   "mimetype": "text/x-python",
   "name": "python",
   "nbconvert_exporter": "python",
   "pygments_lexer": "ipython2",
   "version": "3.8.5"
  },
  "metadata": {
   "interpreter": {
    "hash": "f058aeb1758ada1a7de5f5ba217300728d151518e4300feaaa8035dbc87e5e92"
   }
  }
 },
 "nbformat": 4,
 "nbformat_minor": 0
}