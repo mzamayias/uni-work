{
 "cells": [
  {
   "cell_type": "markdown",
   "source": [
    "Ονοματεπώνυμο: Ζαμάγιας Μιχαήλ Ανάργυρος\n",
    "\n",
    "ΑΜ: ΤΠ5000"
   ],
   "metadata": {
    "collapsed": false
   }
  },
  {
   "cell_type": "markdown",
   "source": [
    "# Import modules"
   ],
   "metadata": {
    "collapsed": false,
    "pycharm": {
     "name": "#%% md\n"
    }
   }
  },
  {
   "cell_type": "code",
   "source": [
    "import matplotlib.pyplot as plt\n",
    "import pandas as pd\n",
    "from matplotlib import rc\n",
    "from scipy.stats import chisquare, chi2"
   ],
   "metadata": {
    "collapsed": false,
    "pycharm": {
     "name": "#%%\n"
    }
   },
   "execution_count": 1,
   "outputs": []
  },
  {
   "cell_type": "markdown",
   "source": [
    "### Set matplotlib preferences"
   ],
   "metadata": {
    "collapsed": false,
    "pycharm": {
     "name": "#%% md\n"
    }
   }
  },
  {
   "cell_type": "code",
   "source": [
    "# %matplotlib inline\n",
    "plt_resolution = 300\n",
    "plt.rcParams['figure.dpi'] = plt_resolution\n",
    "plt.rcParams['savefig.dpi'] = plt_resolution\n",
    "rc('font', **{'family': 'GFS Didot'})\n",
    "rc('text', usetex=True)"
   ],
   "metadata": {
    "collapsed": false,
    "pycharm": {
     "name": "#%%\n"
    }
   },
   "execution_count": 2,
   "outputs": []
  },
  {
   "cell_type": "markdown",
   "source": [
    "# Hypothesis test\n",
    "\n",
    "Researcher A claims that the probability of a patient belonging to one of the five categories is equal for all categories.\n",
    "Researcher B, though, claims that the probability of a patient belonging to one of the five categories is not equal for all categories.\n",
    "\n",
    "$H_0$: Researcher A is right.\n",
    "\n",
    "$H_1$: Researcher B is right."
   ],
   "metadata": {
    "collapsed": false
   }
  },
  {
   "cell_type": "code",
   "source": [
    "null_hypothesis = 'The probability of a patient belonging to one of the five categories is equal for all categories.'\n",
    "alternative_hypothesis = 'The probability of a patient belonging to one of the five categories is not equal for all categories.'"
   ],
   "metadata": {
    "collapsed": false,
    "pycharm": {
     "name": "#%%\n"
    }
   },
   "execution_count": 3,
   "outputs": []
  },
  {
   "cell_type": "markdown",
   "source": [
    "## SPSS method\n",
    "\n",
    "#### Declare initial values"
   ],
   "metadata": {
    "collapsed": false,
    "pycharm": {
     "name": "#%% md\n"
    }
   }
  },
  {
   "cell_type": "code",
   "source": [
    "significance_level = 0.05\n",
    "population_size = 60\n",
    "disease_data = pd.DataFrame(\n",
    "    {'Observed Data': [15, 12, 9, 9, 15]},\n",
    "    index=range(1, 6)\n",
    ")\n",
    "disease_data.index.names = ['Category']\n",
    "print(disease_data)"
   ],
   "metadata": {
    "collapsed": false,
    "pycharm": {
     "name": "#%%\n"
    }
   },
   "execution_count": 4,
   "outputs": [
    {
     "name": "stdout",
     "output_type": "stream",
     "text": [
      "          Observed Data\n",
      "Category               \n",
      "1                    15\n",
      "2                    12\n",
      "3                     9\n",
      "4                     9\n",
      "5                    15\n"
     ]
    }
   ]
  },
  {
   "cell_type": "markdown",
   "source": [
    "#### Calculate degrees of freedom, $c$"
   ],
   "metadata": {
    "collapsed": false
   }
  },
  {
   "cell_type": "code",
   "source": [
    "degrees_of_freedom = len(disease_data) - 1\n",
    "print(f'{degrees_of_freedom = }')"
   ],
   "metadata": {
    "collapsed": false,
    "pycharm": {
     "name": "#%%\n"
    }
   },
   "execution_count": 5,
   "outputs": [
    {
     "name": "stdout",
     "output_type": "stream",
     "text": [
      "degrees_of_freedom = 4\n"
     ]
    }
   ]
  },
  {
   "cell_type": "markdown",
   "source": [
    "#### Calculate chi-square, $\\chi^2$"
   ],
   "metadata": {
    "collapsed": false
   }
  },
  {
   "cell_type": "code",
   "source": [
    "observed_chi2 = chisquare(disease_data['Observed Data'])[0]\n",
    "print(f'{observed_chi2 = }')"
   ],
   "metadata": {
    "collapsed": false,
    "pycharm": {
     "name": "#%%\n"
    }
   },
   "execution_count": 6,
   "outputs": [
    {
     "name": "stdout",
     "output_type": "stream",
     "text": [
      "observed_chi2 = 3.0\n"
     ]
    }
   ]
  },
  {
   "cell_type": "markdown",
   "source": [
    "#### Calculate critical value, $\\chi_c^2$"
   ],
   "metadata": {
    "collapsed": false,
    "pycharm": {
     "name": "#%% md\n"
    }
   }
  },
  {
   "cell_type": "code",
   "source": [
    "chi2_critical_value = chi2.ppf(1 - significance_level, df=degrees_of_freedom)\n",
    "print(f'{chi2_critical_value = }')"
   ],
   "metadata": {
    "collapsed": false,
    "pycharm": {
     "name": "#%%\n"
    }
   },
   "execution_count": 7,
   "outputs": [
    {
     "name": "stdout",
     "output_type": "stream",
     "text": [
      "chi2_critical_value = 9.487729036781154\n"
     ]
    }
   ]
  },
  {
   "cell_type": "markdown",
   "source": [
    "#### Hypothesis test conclusion"
   ],
   "metadata": {
    "collapsed": false,
    "pycharm": {
     "name": "#%% md\n"
    }
   }
  },
  {
   "cell_type": "code",
   "execution_count": 8,
   "outputs": [
    {
     "name": "stdout",
     "output_type": "stream",
     "text": [
      "The probability of a patient belonging to one of the five categories is equal for all categories.\n",
      "Researcher A is right.\n"
     ]
    }
   ],
   "source": [
    "if observed_chi2 < chi2_critical_value:\n",
    "    print(null_hypothesis)\n",
    "    print('Researcher A is right.')\n",
    "else:\n",
    "    print(alternative_hypothesis)\n",
    "    print('Researcher B is right.')"
   ],
   "metadata": {
    "collapsed": false,
    "pycharm": {
     "name": "#%%\n"
    }
   }
  },
  {
   "cell_type": "markdown",
   "source": [
    "## Another way (solve test from both observed and expected data)"
   ],
   "metadata": {
    "collapsed": false,
    "pycharm": {
     "name": "#%% md\n"
    }
   }
  },
  {
   "cell_type": "markdown",
   "source": [
    "#### Declare expected data"
   ],
   "metadata": {
    "collapsed": false,
    "pycharm": {
     "name": "#%% md\n"
    }
   }
  },
  {
   "cell_type": "code",
   "execution_count": 9,
   "outputs": [
    {
     "name": "stdout",
     "output_type": "stream",
     "text": [
      "          Observed Data  Expected Data\n",
      "Category                              \n",
      "1                    15             20\n",
      "2                    12             14\n",
      "3                     9             12\n",
      "4                     9             10\n",
      "5                    15             16\n"
     ]
    }
   ],
   "source": [
    "disease_data['Expected Data'] = [20, 14, 12, 10, 16]\n",
    "print(disease_data)"
   ],
   "metadata": {
    "collapsed": false,
    "pycharm": {
     "name": "#%%\n"
    }
   }
  },
  {
   "cell_type": "code",
   "execution_count": 10,
   "outputs": [],
   "source": [
    "_, p_value = chisquare(\n",
    "    disease_data['Observed Data'],\n",
    "    disease_data['Expected Data'],\n",
    ")"
   ],
   "metadata": {
    "collapsed": false,
    "pycharm": {
     "name": "#%%\n"
    }
   }
  },
  {
   "cell_type": "code",
   "execution_count": 12,
   "outputs": [
    {
     "name": "stdout",
     "output_type": "stream",
     "text": [
      "The probability of a patient belonging to one of the five categories is equal for all categories.\n",
      "Researcher A is right.\n"
     ]
    }
   ],
   "source": [
    "if p_value >= significance_level:\n",
    "    print(null_hypothesis)\n",
    "    print('Researcher A is right.')\n",
    "else:\n",
    "    print(alternative_hypothesis)\n",
    "    print('Researcher B is right.')"
   ],
   "metadata": {
    "collapsed": false,
    "pycharm": {
     "name": "#%%\n"
    }
   }
  },
  {
   "cell_type": "code",
   "execution_count": null,
   "outputs": [],
   "source": [],
   "metadata": {
    "collapsed": false,
    "pycharm": {
     "name": "#%%\n"
    }
   }
  }
 ],
 "metadata": {
  "kernelspec": {
   "name": "pycharm-6e9ebdfe",
   "language": "python",
   "display_name": "PyCharm (uni-work)"
  },
  "language_info": {
   "codemirror_mode": {
    "name": "ipython",
    "version": 2
   },
   "file_extension": ".py",
   "mimetype": "text/x-python",
   "name": "python",
   "nbconvert_exporter": "python",
   "pygments_lexer": "ipython2",
   "version": "2.7.6"
  }
 },
 "nbformat": 4,
 "nbformat_minor": 0
}