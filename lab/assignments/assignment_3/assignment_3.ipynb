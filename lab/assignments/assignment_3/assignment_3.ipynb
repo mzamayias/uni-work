{
 "cells": [
  {
   "cell_type": "markdown",
   "metadata": {
    "collapsed": false
   },
   "source": [
    "Ονοματεπώνυμο: Ζαμάγιας Μιχαήλ Ανάργυρος\n",
    "\n",
    "ΑΜ: ΤΠ5000"
   ]
  },
  {
   "cell_type": "markdown",
   "metadata": {
    "collapsed": false,
    "pycharm": {
     "name": "#%% md\n"
    }
   },
   "source": [
    "# Import modules"
   ]
  },
  {
   "cell_type": "code",
   "execution_count": 1,
   "metadata": {
    "collapsed": false,
    "pycharm": {
     "name": "#%%\n"
    }
   },
   "outputs": [],
   "source": [
    "import pandas as pd\n",
    "from scipy.stats import chisquare, chi2"
   ]
  },
  {
   "cell_type": "markdown",
   "metadata": {
    "collapsed": false
   },
   "source": [
    "# Hypothesis test\n",
    "\n",
    "Researcher A claims that the probability of a patient belonging to one of the five categories is equal for all categories.\n",
    "Researcher B, though, claims that the probability of a patient belonging to one of the five categories is not equal for all categories.\n",
    "\n",
    "$H_0$: Researcher A is right.\n",
    "\n",
    "$H_a$: Researcher B is right."
   ]
  },
  {
   "cell_type": "code",
   "execution_count": 2,
   "metadata": {
    "collapsed": false,
    "pycharm": {
     "name": "#%%\n"
    }
   },
   "outputs": [],
   "source": [
    "null_hypothesis = 'The probability of a patient belonging to one of the five categories is equal for all categories.'\n",
    "alternative_hypothesis = 'The probability of a patient belonging to one of the five categories is not equal for all categories.'"
   ]
  },
  {
   "cell_type": "markdown",
   "metadata": {
    "collapsed": false,
    "pycharm": {
     "name": "#%% md\n"
    }
   },
   "source": [
    "## One way, using $\\chi^2$ critical value (*Chi-square Test of Independence* method)\n",
    "\n",
    "#### Declare initial values"
   ]
  },
  {
   "cell_type": "code",
   "execution_count": 3,
   "metadata": {
    "collapsed": false,
    "pycharm": {
     "name": "#%%\n"
    }
   },
   "outputs": [
    {
     "name": "stdout",
     "output_type": "stream",
     "text": [
      "          Observed Data\n",
      "Category               \n",
      "1                    15\n",
      "2                    12\n",
      "3                     9\n",
      "4                     9\n",
      "5                    15\n"
     ]
    }
   ],
   "source": [
    "significance_level = 0.05\n",
    "confidence_level = 1 - significance_level\n",
    "population_size = 60\n",
    "disease_data = pd.DataFrame(\n",
    "    {'Observed Data': [15, 12, 9, 9, 15]},\n",
    "    index=range(1, 6)\n",
    ")\n",
    "disease_data.index.names = ['Category']\n",
    "print(disease_data)\n"
   ]
  },
  {
   "cell_type": "markdown",
   "metadata": {
    "collapsed": false
   },
   "source": [
    "#### Calculate $c$ degrees of freedom"
   ]
  },
  {
   "cell_type": "code",
   "execution_count": 4,
   "metadata": {
    "collapsed": false,
    "pycharm": {
     "name": "#%%\n"
    }
   },
   "outputs": [
    {
     "name": "stdout",
     "output_type": "stream",
     "text": [
      "degrees_of_freedom = 4\n"
     ]
    }
   ],
   "source": [
    "degrees_of_freedom = len(disease_data) - 1\n",
    "print(f'{degrees_of_freedom = }')"
   ]
  },
  {
   "cell_type": "markdown",
   "metadata": {
    "collapsed": false
   },
   "source": [
    "#### Calculate $\\chi^2$ chi-square"
   ]
  },
  {
   "cell_type": "code",
   "execution_count": 5,
   "metadata": {
    "collapsed": false,
    "pycharm": {
     "name": "#%%\n"
    }
   },
   "outputs": [
    {
     "name": "stdout",
     "output_type": "stream",
     "text": [
      "observed_chi2 = 3.0\n"
     ]
    }
   ],
   "source": [
    "observed_chi2 = chisquare(\n",
    "    disease_data['Observed Data']\n",
    ")[0]\n",
    "print(f'{observed_chi2 = }')"
   ]
  },
  {
   "cell_type": "markdown",
   "metadata": {
    "collapsed": false,
    "pycharm": {
     "name": "#%% md\n"
    }
   },
   "source": [
    "#### Calculate $\\chi_c^2$ chi-square critical value"
   ]
  },
  {
   "cell_type": "code",
   "execution_count": 6,
   "metadata": {
    "collapsed": false,
    "pycharm": {
     "name": "#%%\n"
    }
   },
   "outputs": [
    {
     "name": "stdout",
     "output_type": "stream",
     "text": [
      "chi2_critical_value = 9.487729036781154\n"
     ]
    }
   ],
   "source": [
    "chi2_critical_value = chi2.ppf(confidence_level, df=degrees_of_freedom)\n",
    "print(f'{chi2_critical_value = }')"
   ]
  },
  {
   "cell_type": "markdown",
   "metadata": {
    "collapsed": false,
    "pycharm": {
     "name": "#%% md\n"
    }
   },
   "source": [
    "#### Hypothesis test conclusion"
   ]
  },
  {
   "cell_type": "code",
   "execution_count": 7,
   "metadata": {
    "collapsed": false,
    "pycharm": {
     "name": "#%%\n"
    }
   },
   "outputs": [
    {
     "name": "stdout",
     "output_type": "stream",
     "text": [
      "The probability of a patient belonging to one of the five categories is equal for all categories.\n",
      "Researcher A is right.\n"
     ]
    }
   ],
   "source": [
    "if observed_chi2 < chi2_critical_value:\n",
    "    print(null_hypothesis)\n",
    "    print('Researcher A is right.')\n",
    "else:\n",
    "    print(alternative_hypothesis)\n",
    "    print('Researcher B is right.')"
   ]
  },
  {
   "cell_type": "markdown",
   "metadata": {
    "collapsed": false,
    "pycharm": {
     "name": "#%% md\n"
    }
   },
   "source": [
    "## Another way, using $p$ value ($p$*-value method*)"
   ]
  },
  {
   "cell_type": "markdown",
   "source": [
    "#### Declare expected data"
   ],
   "metadata": {
    "collapsed": false
   }
  },
  {
   "cell_type": "code",
   "metadata": {
    "collapsed": false,
    "pycharm": {
     "name": "#%%\n"
    }
   },
   "source": [
    "disease_data['Expected Data'] = [20, 14, 12, 10, 16]\n",
    "print(disease_data)"
   ],
   "execution_count": null,
   "outputs": []
  },
  {
   "cell_type": "markdown",
   "metadata": {
    "collapsed": false,
    "pycharm": {
     "name": "#%% md\n"
    }
   },
   "source": [
    "#### Calculate $p$ value"
   ]
  },
  {
   "cell_type": "code",
   "execution_count": 9,
   "metadata": {
    "collapsed": false,
    "pycharm": {
     "name": "#%%\n"
    }
   },
   "outputs": [],
   "source": [
    "p_value = chisquare(\n",
    "    disease_data['Observed Data'],\n",
    "    disease_data['Expected Data']\n",
    ")[1]"
   ]
  },
  {
   "cell_type": "markdown",
   "source": [
    "#### Hypothesis test conclusion"
   ],
   "metadata": {
    "collapsed": false
   }
  },
  {
   "cell_type": "code",
   "execution_count": 11,
   "metadata": {
    "collapsed": false,
    "pycharm": {
     "name": "#%%\n"
    }
   },
   "outputs": [
    {
     "name": "stdout",
     "output_type": "stream",
     "text": [
      "The probability of a patient belonging to one of the five categories is equal for all categories.\n",
      "Researcher A is right.\n"
     ]
    }
   ],
   "source": [
    "if significance_level <= p_value:\n",
    "    print(null_hypothesis)\n",
    "    print('Researcher A is right.')\n",
    "else:\n",
    "    print(alternative_hypothesis)\n",
    "    print('Researcher B is right.')"
   ]
  }
 ],
 "metadata": {
  "interpreter": {
   "hash": "6f4013e88695c89f79a7fb16cb9e396c931076421f1bbd8644a8812c3387efcb"
  },
  "kernelspec": {
   "name": "pycharm-6e9ebdfe",
   "language": "python",
   "display_name": "PyCharm (uni-work)"
  },
  "language_info": {
   "codemirror_mode": {
    "name": "ipython",
    "version": 3
   },
   "file_extension": ".py",
   "mimetype": "text/x-python",
   "name": "python",
   "nbconvert_exporter": "python",
   "pygments_lexer": "ipython3",
   "version": "3.8.10"
  }
 },
 "nbformat": 4,
 "nbformat_minor": 0
}