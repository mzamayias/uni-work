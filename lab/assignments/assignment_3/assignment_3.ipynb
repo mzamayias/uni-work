{
 "cells": [
  {
   "cell_type": "markdown",
   "metadata": {
    "collapsed": false
   },
   "source": [
    "Ονοματεπώνυμο: Ζαμάγιας Μιχαήλ Ανάργυρος\n",
    "\n",
    "ΑΜ: ΤΠ5000"
   ]
  },
  {
   "cell_type": "markdown",
   "metadata": {
    "collapsed": false,
    "pycharm": {
     "name": "#%% md\n"
    }
   },
   "source": [
    "# Import modules"
   ]
  },
  {
   "cell_type": "code",
   "execution_count": 1,
   "metadata": {
    "collapsed": false,
    "pycharm": {
     "name": "#%%\n"
    }
   },
   "outputs": [],
   "source": [
    "import pandas as pd\n",
    "from scipy.stats import chisquare, chi2"
   ]
  },
  {
   "cell_type": "markdown",
   "metadata": {
    "collapsed": false
   },
   "source": [
    "# Hypothesis test\n",
    "\n",
    "Researcher A claims that the probability of a patient belonging to one of the five categories is equal for all categories.\n",
    "Researcher B, though, claims that the probability of a patient belonging to one of the five categories is not equal for all categories.\n",
    "\n",
    "$H_0$: Researcher A is right.\n",
    "\n",
    "$H_1$: Researcher B is right."
   ]
  },
  {
   "cell_type": "code",
   "execution_count": 2,
   "metadata": {
    "collapsed": false,
    "pycharm": {
     "name": "#%%\n"
    }
   },
   "outputs": [],
   "source": [
    "null_hypothesis = 'The probability of a patient belonging to one of the five categories is equal for all categories.'\n",
    "alternative_hypothesis = 'The probability of a patient belonging to one of the five categories is not equal for all categories.'"
   ]
  },
  {
   "cell_type": "markdown",
   "metadata": {
    "collapsed": false,
    "pycharm": {
     "name": "#%% md\n"
    }
   },
   "source": [
    "## One way, using $\\chi^2$ critical value (*Pearson's chi-squared test* method)\\*\n",
    "\\*:  [\"Sustain or reject the null hypothesis that the observed frequency distribution is the same as the theoretical distribution based on whether the test statistic exceeds the critical value of $\\chi^2$. If the test statistic exceeds the critical value of $\\chi^2$, the null hypothesis ($H_0$ = there is no difference between the distributions) can be rejected, and the alternative hypothesis ($H_1$ = there is a difference between the distributions) can be accepted, both with the selected level of confidence. If the test statistic falls below the threshold $\\chi^2$ value, then no clear conclusion can be reached, and the null hypothesis is sustained (we failed to reject the null hypothesis), but not necessarily accepted.\"](https://en.wikipedia.org/wiki/Pearson%27s_chi-squared_test#Definition)\n",
    "\n",
    "#### Declare initial values"
   ]
  },
  {
   "cell_type": "code",
   "execution_count": 3,
   "metadata": {
    "collapsed": false,
    "pycharm": {
     "name": "#%%\n"
    }
   },
   "outputs": [
    {
     "name": "stdout",
     "output_type": "stream",
     "text": [
      "          Observed Data\n",
      "Category               \n",
      "1                    15\n",
      "2                    12\n",
      "3                     9\n",
      "4                     9\n",
      "5                    15\n"
     ]
    }
   ],
   "source": [
    "significance_level = 0.05\n",
    "confidence_level = 1 - significance_level\n",
    "population_size = 60\n",
    "disease_data = pd.DataFrame(\n",
    "    {'Observed Data': [15, 12, 9, 9, 15]},\n",
    "    index=range(1, 6)\n",
    ")\n",
    "disease_data.index.names = ['Category']\n",
    "print(disease_data)\n"
   ]
  },
  {
   "cell_type": "markdown",
   "metadata": {
    "collapsed": false
   },
   "source": [
    "#### Calculate $c$ degrees of freedom"
   ]
  },
  {
   "cell_type": "code",
   "execution_count": 4,
   "metadata": {
    "collapsed": false,
    "pycharm": {
     "name": "#%%\n"
    }
   },
   "outputs": [
    {
     "name": "stdout",
     "output_type": "stream",
     "text": [
      "degrees_of_freedom = 4\n"
     ]
    }
   ],
   "source": [
    "degrees_of_freedom = len(disease_data) - 1\n",
    "print(f'{degrees_of_freedom = }')"
   ]
  },
  {
   "cell_type": "markdown",
   "metadata": {
    "collapsed": false
   },
   "source": [
    "#### Calculate $\\chi^2$ chi-square"
   ]
  },
  {
   "cell_type": "code",
   "execution_count": 5,
   "metadata": {
    "collapsed": false,
    "pycharm": {
     "name": "#%%\n"
    }
   },
   "outputs": [
    {
     "name": "stdout",
     "output_type": "stream",
     "text": [
      "observed_chi2 = 3.0\n"
     ]
    }
   ],
   "source": [
    "observed_chi2 = chisquare(\n",
    "    disease_data['Observed Data']\n",
    ")[0]\n",
    "print(f'{observed_chi2 = }')"
   ]
  },
  {
   "cell_type": "markdown",
   "metadata": {
    "collapsed": false,
    "pycharm": {
     "name": "#%% md\n"
    }
   },
   "source": [
    "#### Calculate $\\chi_c^2$ chi-square critical value"
   ]
  },
  {
   "cell_type": "code",
   "execution_count": 6,
   "metadata": {
    "collapsed": false,
    "pycharm": {
     "name": "#%%\n"
    }
   },
   "outputs": [
    {
     "name": "stdout",
     "output_type": "stream",
     "text": [
      "chi2_critical_value = 9.487729036781154\n"
     ]
    }
   ],
   "source": [
    "chi2_critical_value = chi2.ppf(confidence_level, df=degrees_of_freedom)\n",
    "print(f'{chi2_critical_value = }')"
   ]
  },
  {
   "cell_type": "markdown",
   "metadata": {
    "collapsed": false,
    "pycharm": {
     "name": "#%% md\n"
    }
   },
   "source": [
    "#### Hypothesis test conclusion"
   ]
  },
  {
   "cell_type": "code",
   "execution_count": 7,
   "metadata": {
    "collapsed": false,
    "pycharm": {
     "name": "#%%\n"
    }
   },
   "outputs": [
    {
     "name": "stdout",
     "output_type": "stream",
     "text": [
      "The probability of a patient belonging to one of the five categories is equal for all categories. Researcher A is right.\n"
     ]
    }
   ],
   "source": [
    "if observed_chi2 < chi2_critical_value:\n",
    "    print(f'{null_hypothesis} Researcher A is right.')\n",
    "else:\n",
    "    print(f'{alternative_hypothesis} Researcher B is right.')\n"
   ]
  },
  {
   "cell_type": "markdown",
   "metadata": {
    "collapsed": false,
    "pycharm": {
     "name": "#%% md\n"
    }
   },
   "source": [
    "## Another way, using $p$ value ($p$*-value method*)"
   ]
  },
  {
   "cell_type": "markdown",
   "metadata": {
    "collapsed": false
   },
   "source": [
    "#### Declare expected data"
   ]
  },
  {
   "cell_type": "code",
   "execution_count": 8,
   "metadata": {
    "collapsed": false,
    "pycharm": {
     "name": "#%%\n"
    }
   },
   "outputs": [
    {
     "name": "stdout",
     "output_type": "stream",
     "text": [
      "          Observed Data  Expected Data\n",
      "Category                              \n",
      "1                    15             20\n",
      "2                    12             14\n",
      "3                     9             12\n",
      "4                     9             10\n",
      "5                    15             16\n"
     ]
    }
   ],
   "source": [
    "disease_data['Expected Data'] = [20, 14, 12, 10, 16]\n",
    "print(disease_data)"
   ]
  },
  {
   "cell_type": "markdown",
   "metadata": {
    "collapsed": false,
    "pycharm": {
     "name": "#%% md\n"
    }
   },
   "source": [
    "#### Calculate $p$ value"
   ]
  },
  {
   "cell_type": "code",
   "execution_count": 9,
   "metadata": {
    "collapsed": false,
    "pycharm": {
     "name": "#%%\n"
    }
   },
   "outputs": [],
   "source": [
    "p_value = chisquare(\n",
    "    disease_data['Observed Data'],\n",
    "    disease_data['Expected Data']\n",
    ")[1]"
   ]
  },
  {
   "cell_type": "markdown",
   "metadata": {
    "collapsed": false
   },
   "source": [
    "#### Hypothesis test conclusion"
   ]
  },
  {
   "cell_type": "code",
   "execution_count": 13,
   "metadata": {
    "collapsed": false,
    "pycharm": {
     "name": "#%%\n"
    }
   },
   "outputs": [
    {
     "name": "stdout",
     "output_type": "stream",
     "text": [
      "The probability of a patient belonging to one of the five categories is equal for all categories. Researcher A is right.\n"
     ]
    }
   ],
   "source": [
    "if significance_level <= p_value:\n",
    "    print(f'{null_hypothesis} Researcher A is right.')\n",
    "else:\n",
    "    print(f'{alternative_hypothesis} Researcher B is right.')\n"
   ]
  },
  {
   "cell_type": "markdown",
   "metadata": {},
   "source": [
    "# Hypothesis test conclusion\n",
    "\n",
    "In both ways we got the same result (as expected), which is rejecting $H_1$ and accepting $H_0$."
   ]
  }
 ],
 "metadata": {
  "interpreter": {
   "hash": "6f4013e88695c89f79a7fb16cb9e396c931076421f1bbd8644a8812c3387efcb"
  },
  "kernelspec": {
   "display_name": "Python 3.8.10 64-bit ('base': conda)",
   "name": "python3"
  },
  "language_info": {
   "codemirror_mode": {
    "name": "ipython",
    "version": 3
   },
   "file_extension": ".py",
   "mimetype": "text/x-python",
   "name": "python",
   "nbconvert_exporter": "python",
   "pygments_lexer": "ipython3",
   "version": "3.8.10"
  }
 },
 "nbformat": 4,
 "nbformat_minor": 0
}