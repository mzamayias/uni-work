{
 "metadata": {
  "language_info": {
   "codemirror_mode": {
    "name": "ipython",
    "version": 3
   },
   "file_extension": ".py",
   "mimetype": "text/x-python",
   "name": "python",
   "nbconvert_exporter": "python",
   "pygments_lexer": "ipython3",
   "version": 3
  },
  "orig_nbformat": 2,
  "kernelspec": {
   "name": "python385jvsc74a57bd0f058aeb1758ada1a7de5f5ba217300728d151518e4300feaaa8035dbc87e5e92",
   "language": "python",
   "display_name": "Python 3.8.5 64-bit ('anaconda3': virtualenv)"
  }
 },
 "nbformat": 4,
 "nbformat_minor": 2,
 "cells": [
  {
   "cell_type": "markdown",
   "source": [
    "#   Sources\n",
    "\n",
    "##  [Implementing SVM and Kernel SVM with Python's Scikit-Learn](https://stackabuse.com/implementing-svm-and-kernel-svm-with-pythons-scikit-learn)\n",
    "Split dataset to training and testing datasets using `sklearn`.\n",
    "\n",
    "##  [Recursive Feature Elimination](https://scikit-learn.org/stable/auto_examples/feature_selection/plot_rfe_digits.html)\n",
    "How to use RFE with SVM in `sklearn`.\n",
    "\n",
    "##  [Cross Validation in Scikit Learn](https://youtu.be/L_dQrZZjGDg)\n",
    "Goes through the `sklearn.model_selection.train_test_split` and how it's used."
   ],
   "metadata": {
    "collapsed": false,
    "pycharm": {
     "name": "#%% md\n"
    }
   }
  },
  {
   "cell_type": "markdown",
   "source": [
    "# Import modules"
   ],
   "metadata": {
    "collapsed": false
   }
  },
  {
   "cell_type": "code",
   "source": [
    "import pandas as pd\n",
    "from sklearn.model_selection import train_test_split\n",
    "from sklearn.svm import SVC\n",
    "from sklearn.feature_selection import RFE\n",
    "from sklearn.metrics import confusion_matrix"
   ],
   "metadata": {
    "collapsed": false,
    "pycharm": {
     "name": "#%%\n"
    }
   },
   "execution_count": 1,
   "outputs": []
  },
  {
   "cell_type": "markdown",
   "source": [
    "#   Data preprocessing"
   ],
   "metadata": {
    "collapsed": false
   }
  },
  {
   "cell_type": "markdown",
   "source": [
    "## Read gene dataset"
   ],
   "metadata": {
    "collapsed": false
   }
  },
  {
   "cell_type": "code",
   "source": [
    "original_dataset = pd.read_csv('Golub.txt', sep='\\t')\n",
    "original_dataset"
   ],
   "metadata": {
    "collapsed": false,
    "pycharm": {
     "name": "#%%\n"
    }
   },
   "execution_count": 2,
   "outputs": [
    {
     "data": {
      "text/plain": "               Genes   ALL  ALL.1  ALL.2  ALL.3  ALL.4  ALL.5  ALL.6  ALL.7  \\\n0     AFFX-BioB-5_at  -342    -87     22   -243   -130   -256    -62     86   \n1     AFFX-BioB-M_at  -200   -248   -153   -218   -177   -249    -23    -36   \n2     AFFX-BioB-3_at    41    262     17   -163    -28   -410     -7   -141   \n3     AFFX-BioC-5_at   328    295    276    182    266     24    142    252   \n4     AFFX-BioC-3_at  -224   -226   -211   -289   -170   -535   -233   -201   \n...              ...   ...    ...    ...    ...    ...    ...    ...    ...   \n7124       X83863_at  1074     67    893    722    612   1950    245   1235   \n7125       Z17240_at   475    263    297    170    370    906    164      9   \n7126     L49218_f_at    48    -33      6      0     29     79     84      7   \n7127     M71243_f_at   168    -33   1971    510    333    170    100   1545   \n7128     Z78285_f_at   -70    -21    -42    -73    -19    -64    -18    -81   \n\n      ALL.8  ...  AML.15  AML.16  AML.17  AML.18  AML.19  AML.20  AML.21  \\\n0      -146  ...       7    -213     -25     -72      -4      15    -318   \n1       -74  ...    -100    -252     -20    -139    -116    -114    -192   \n2       170  ...     -57     136     124      -1    -125       2     -95   \n3       174  ...     132     318     325     392     241     193     312   \n4       -32  ...    -377    -209    -396    -324    -191     -51    -139   \n...     ...  ...     ...     ...     ...     ...     ...     ...     ...   \n7124    354  ...     752    1293    1733    1567     987     279     737   \n7125    -42  ...     295     342     304     627     279      51     227   \n7126   -100  ...      28      26      12      21      22       6      -9   \n7127     45  ...    1558     246    3193    2520     662    2484     371   \n7128   -108  ...     -67      23     -33       0     -46      -2     -31   \n\n      AML.22  AML.23  AML.24  \n0        -32    -124    -135  \n1        -49     -79    -186  \n2         49     -37     -70  \n3        230     330     337  \n4       -367    -188    -407  \n...      ...     ...     ...  \n7124     588    1170    2315  \n7125     361     284     250  \n7126     -26      39     -12  \n7127     133     298     790  \n7128     -32      -3     -10  \n\n[7129 rows x 73 columns]",
      "text/html": "<div>\n<style scoped>\n    .dataframe tbody tr th:only-of-type {\n        vertical-align: middle;\n    }\n\n    .dataframe tbody tr th {\n        vertical-align: top;\n    }\n\n    .dataframe thead th {\n        text-align: right;\n    }\n</style>\n<table border=\"1\" class=\"dataframe\">\n  <thead>\n    <tr style=\"text-align: right;\">\n      <th></th>\n      <th>Genes</th>\n      <th>ALL</th>\n      <th>ALL.1</th>\n      <th>ALL.2</th>\n      <th>ALL.3</th>\n      <th>ALL.4</th>\n      <th>ALL.5</th>\n      <th>ALL.6</th>\n      <th>ALL.7</th>\n      <th>ALL.8</th>\n      <th>...</th>\n      <th>AML.15</th>\n      <th>AML.16</th>\n      <th>AML.17</th>\n      <th>AML.18</th>\n      <th>AML.19</th>\n      <th>AML.20</th>\n      <th>AML.21</th>\n      <th>AML.22</th>\n      <th>AML.23</th>\n      <th>AML.24</th>\n    </tr>\n  </thead>\n  <tbody>\n    <tr>\n      <th>0</th>\n      <td>AFFX-BioB-5_at</td>\n      <td>-342</td>\n      <td>-87</td>\n      <td>22</td>\n      <td>-243</td>\n      <td>-130</td>\n      <td>-256</td>\n      <td>-62</td>\n      <td>86</td>\n      <td>-146</td>\n      <td>...</td>\n      <td>7</td>\n      <td>-213</td>\n      <td>-25</td>\n      <td>-72</td>\n      <td>-4</td>\n      <td>15</td>\n      <td>-318</td>\n      <td>-32</td>\n      <td>-124</td>\n      <td>-135</td>\n    </tr>\n    <tr>\n      <th>1</th>\n      <td>AFFX-BioB-M_at</td>\n      <td>-200</td>\n      <td>-248</td>\n      <td>-153</td>\n      <td>-218</td>\n      <td>-177</td>\n      <td>-249</td>\n      <td>-23</td>\n      <td>-36</td>\n      <td>-74</td>\n      <td>...</td>\n      <td>-100</td>\n      <td>-252</td>\n      <td>-20</td>\n      <td>-139</td>\n      <td>-116</td>\n      <td>-114</td>\n      <td>-192</td>\n      <td>-49</td>\n      <td>-79</td>\n      <td>-186</td>\n    </tr>\n    <tr>\n      <th>2</th>\n      <td>AFFX-BioB-3_at</td>\n      <td>41</td>\n      <td>262</td>\n      <td>17</td>\n      <td>-163</td>\n      <td>-28</td>\n      <td>-410</td>\n      <td>-7</td>\n      <td>-141</td>\n      <td>170</td>\n      <td>...</td>\n      <td>-57</td>\n      <td>136</td>\n      <td>124</td>\n      <td>-1</td>\n      <td>-125</td>\n      <td>2</td>\n      <td>-95</td>\n      <td>49</td>\n      <td>-37</td>\n      <td>-70</td>\n    </tr>\n    <tr>\n      <th>3</th>\n      <td>AFFX-BioC-5_at</td>\n      <td>328</td>\n      <td>295</td>\n      <td>276</td>\n      <td>182</td>\n      <td>266</td>\n      <td>24</td>\n      <td>142</td>\n      <td>252</td>\n      <td>174</td>\n      <td>...</td>\n      <td>132</td>\n      <td>318</td>\n      <td>325</td>\n      <td>392</td>\n      <td>241</td>\n      <td>193</td>\n      <td>312</td>\n      <td>230</td>\n      <td>330</td>\n      <td>337</td>\n    </tr>\n    <tr>\n      <th>4</th>\n      <td>AFFX-BioC-3_at</td>\n      <td>-224</td>\n      <td>-226</td>\n      <td>-211</td>\n      <td>-289</td>\n      <td>-170</td>\n      <td>-535</td>\n      <td>-233</td>\n      <td>-201</td>\n      <td>-32</td>\n      <td>...</td>\n      <td>-377</td>\n      <td>-209</td>\n      <td>-396</td>\n      <td>-324</td>\n      <td>-191</td>\n      <td>-51</td>\n      <td>-139</td>\n      <td>-367</td>\n      <td>-188</td>\n      <td>-407</td>\n    </tr>\n    <tr>\n      <th>...</th>\n      <td>...</td>\n      <td>...</td>\n      <td>...</td>\n      <td>...</td>\n      <td>...</td>\n      <td>...</td>\n      <td>...</td>\n      <td>...</td>\n      <td>...</td>\n      <td>...</td>\n      <td>...</td>\n      <td>...</td>\n      <td>...</td>\n      <td>...</td>\n      <td>...</td>\n      <td>...</td>\n      <td>...</td>\n      <td>...</td>\n      <td>...</td>\n      <td>...</td>\n      <td>...</td>\n    </tr>\n    <tr>\n      <th>7124</th>\n      <td>X83863_at</td>\n      <td>1074</td>\n      <td>67</td>\n      <td>893</td>\n      <td>722</td>\n      <td>612</td>\n      <td>1950</td>\n      <td>245</td>\n      <td>1235</td>\n      <td>354</td>\n      <td>...</td>\n      <td>752</td>\n      <td>1293</td>\n      <td>1733</td>\n      <td>1567</td>\n      <td>987</td>\n      <td>279</td>\n      <td>737</td>\n      <td>588</td>\n      <td>1170</td>\n      <td>2315</td>\n    </tr>\n    <tr>\n      <th>7125</th>\n      <td>Z17240_at</td>\n      <td>475</td>\n      <td>263</td>\n      <td>297</td>\n      <td>170</td>\n      <td>370</td>\n      <td>906</td>\n      <td>164</td>\n      <td>9</td>\n      <td>-42</td>\n      <td>...</td>\n      <td>295</td>\n      <td>342</td>\n      <td>304</td>\n      <td>627</td>\n      <td>279</td>\n      <td>51</td>\n      <td>227</td>\n      <td>361</td>\n      <td>284</td>\n      <td>250</td>\n    </tr>\n    <tr>\n      <th>7126</th>\n      <td>L49218_f_at</td>\n      <td>48</td>\n      <td>-33</td>\n      <td>6</td>\n      <td>0</td>\n      <td>29</td>\n      <td>79</td>\n      <td>84</td>\n      <td>7</td>\n      <td>-100</td>\n      <td>...</td>\n      <td>28</td>\n      <td>26</td>\n      <td>12</td>\n      <td>21</td>\n      <td>22</td>\n      <td>6</td>\n      <td>-9</td>\n      <td>-26</td>\n      <td>39</td>\n      <td>-12</td>\n    </tr>\n    <tr>\n      <th>7127</th>\n      <td>M71243_f_at</td>\n      <td>168</td>\n      <td>-33</td>\n      <td>1971</td>\n      <td>510</td>\n      <td>333</td>\n      <td>170</td>\n      <td>100</td>\n      <td>1545</td>\n      <td>45</td>\n      <td>...</td>\n      <td>1558</td>\n      <td>246</td>\n      <td>3193</td>\n      <td>2520</td>\n      <td>662</td>\n      <td>2484</td>\n      <td>371</td>\n      <td>133</td>\n      <td>298</td>\n      <td>790</td>\n    </tr>\n    <tr>\n      <th>7128</th>\n      <td>Z78285_f_at</td>\n      <td>-70</td>\n      <td>-21</td>\n      <td>-42</td>\n      <td>-73</td>\n      <td>-19</td>\n      <td>-64</td>\n      <td>-18</td>\n      <td>-81</td>\n      <td>-108</td>\n      <td>...</td>\n      <td>-67</td>\n      <td>23</td>\n      <td>-33</td>\n      <td>0</td>\n      <td>-46</td>\n      <td>-2</td>\n      <td>-31</td>\n      <td>-32</td>\n      <td>-3</td>\n      <td>-10</td>\n    </tr>\n  </tbody>\n</table>\n<p>7129 rows × 73 columns</p>\n</div>"
     },
     "execution_count": 2,
     "metadata": {},
     "output_type": "execute_result"
    }
   ]
  },
  {
   "cell_type": "markdown",
   "source": [
    "## Process data"
   ],
   "metadata": {
    "collapsed": false
   }
  },
  {
   "cell_type": "code",
   "metadata": {
    "pycharm": {
     "name": "#%%\n"
    }
   },
   "source": [
    "def process_data(dataset: pd.DataFrame) -> [pd.Series, pd.Series, pd.DataFrame]:\n",
    "    \"\"\"To process read datasets.\n",
    "    Firstly, returns gene names as a pd.Series object.\n",
    "    Secondly, returns label names as a pd.Series object without Gene label and numbers at the end of ALL and AML columns.\n",
    "    Thirdly, returns a processed dataset in the following ways:\n",
    "        -   Its columns are renamed by the dataset_labels list.\n",
    "        -   It gets transposed.\n",
    "    Args:\n",
    "        dataset(pd.DataFrame): Read dataset.\n",
    "    Returns:\n",
    "        [np.array, np.array, np.array]: Returns a tuple containing dataset genes, dataset labels and processed dataset as np.arrays.\n",
    "    \"\"\"\n",
    "    altered_dataset = dataset\n",
    "    dataset_genes = altered_dataset.iloc[:, 0]\n",
    "    dataset_labels = pd.Series(\n",
    "        [\n",
    "            'ALL' if 'ALL' in dataset_column else 'AML' if 'AML' in dataset_column else dataset_column\n",
    "            for dataset_column in list(altered_dataset.columns)\n",
    "        ]\n",
    "    )\n",
    "    altered_dataset = altered_dataset.set_axis(dataset_labels, axis='columns').T.iloc[1:]\n",
    "    return [dataset_genes, dataset_labels[1:], altered_dataset]\n",
    "\n",
    "\n",
    "genes, features, labels = process_data(original_dataset)"
   ],
   "execution_count": 3,
   "outputs": []
  },
  {
   "cell_type": "markdown",
   "source": [
    "## Split dataset to train and test data subsets"
   ],
   "metadata": {
    "collapsed": false,
    "pycharm": {
     "name": "#%% md\n"
    }
   }
  },
  {
   "cell_type": "code",
   "execution_count": 4,
   "outputs": [],
   "source": [
    "train_labels, test_labels, train_features, test_features = train_test_split(features, labels, train_size=0.8)"
   ],
   "metadata": {
    "collapsed": false,
    "pycharm": {
     "name": "#%%\n"
    }
   }
  },
  {
   "cell_type": "markdown",
   "source": [
    "#   Data analysis"
   ],
   "metadata": {
    "collapsed": false
   }
  },
  {
   "cell_type": "markdown",
   "source": [
    "##  SVM-RFE"
   ],
   "metadata": {
    "collapsed": false
   }
  },
  {
   "cell_type": "markdown",
   "source": [
    "### Training"
   ],
   "metadata": {
    "collapsed": false
   }
  },
  {
   "cell_type": "code",
   "source": [
    "svc = SVC(kernel='linear').fit(train_features, train_labels)\n",
    "rfe = RFE(estimator=svc).fit(train_features, train_labels)"
   ],
   "metadata": {
    "collapsed": false,
    "pycharm": {
     "name": "#%%\n"
    }
   },
   "execution_count": 5,
   "outputs": []
  },
  {
   "cell_type": "markdown",
   "source": [
    "### Accuracy"
   ],
   "metadata": {
    "collapsed": false,
    "pycharm": {
     "name": "#%% md\n"
    }
   }
  },
  {
   "cell_type": "code",
   "source": [
    "rfe.score(train_features, train_labels)"
   ],
   "metadata": {
    "collapsed": false,
    "pycharm": {
     "name": "#%%\n"
    }
   },
   "execution_count": 6,
   "outputs": [
    {
     "data": {
      "text/plain": "1.0"
     },
     "execution_count": 6,
     "metadata": {},
     "output_type": "execute_result"
    }
   ]
  },
  {
   "cell_type": "code",
   "execution_count": 7,
   "outputs": [
    {
     "data": {
      "text/plain": "1.0"
     },
     "execution_count": 7,
     "metadata": {},
     "output_type": "execute_result"
    }
   ],
   "source": [
    "rfe.score(test_features, test_labels)"
   ],
   "metadata": {
    "collapsed": false,
    "pycharm": {
     "name": "#%%\n"
    }
   }
  },
  {
   "cell_type": "markdown",
   "source": [
    "### Prediction"
   ],
   "metadata": {
    "collapsed": false,
    "pycharm": {
     "name": "#%% md\n"
    }
   }
  },
  {
   "cell_type": "code",
   "execution_count": 8,
   "outputs": [
    {
     "data": {
      "text/plain": "'57 labels correct out of 57'"
     },
     "execution_count": 8,
     "metadata": {},
     "output_type": "execute_result"
    }
   ],
   "source": [
    "train_prediction = list(train_labels == rfe.predict(train_features))\n",
    "f'{train_prediction.count(True)} labels correct out of {len(train_prediction)}'"
   ],
   "metadata": {
    "collapsed": false,
    "pycharm": {
     "name": "#%%\n"
    }
   }
  },
  {
   "cell_type": "code",
   "execution_count": 9,
   "outputs": [
    {
     "data": {
      "text/plain": "'15 labels correct out of 15'"
     },
     "execution_count": 9,
     "metadata": {},
     "output_type": "execute_result"
    }
   ],
   "source": [
    "test_prediction = list(test_labels == rfe.predict(test_features))\n",
    "f'{test_prediction.count(True)} labels correct out of {len(test_prediction)}'"
   ],
   "metadata": {
    "collapsed": false,
    "pycharm": {
     "name": "#%%\n"
    }
   }
  },
  {
   "cell_type": "code",
   "execution_count": 9,
   "outputs": [],
   "source": [],
   "metadata": {
    "collapsed": false,
    "pycharm": {
     "name": "#%%\n"
    }
   }
  }
 ]
}