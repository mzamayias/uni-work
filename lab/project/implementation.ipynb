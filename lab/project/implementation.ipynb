{
 "cells": [
  {
   "cell_type": "markdown",
   "source": [
    "#   Researching algorithms mentioned in paper\n",
    "\n",
    "##  [Implementing SVM and Kernel SVM with Python's Scikit-Learn](https://stackabuse.com/implementing-svm-and-kernel-svm-with-pythons-scikit-learn)\n",
    "Split dataset to training and testing datasets using `sklearn`.\n",
    "\n",
    "##  [Recursive Feature Elimination](https://scikit-learn.org/stable/auto_examples/feature_selection/plot_rfe_digits.html)\n",
    "How to use RFE with SVM in `sklearn`.\n",
    "\n",
    "##  [Cross Validation in Scikit Learn](https://youtu.be/L_dQrZZjGDg)\n",
    "Goes through the `sklearn.model_selection.train_test_split` and how it's used.\n",
    "\n",
    "## [Transformer that performs Sequential Feature Selection.](https://scikit-learn.org/stable/modules/generated/sklearn.feature_selection.SequentialFeatureSelector.html)\n",
    "\n",
    "## [Feature selection in Python using the Filter method](https://towardsdatascience.com/feature-selection-in-python-using-filter-method-7ae5cbc4ee05)\n",
    "\n",
    "# Researching $Y$\n",
    "\n",
    "[Basic probability: Joint, marginal and conditional probability | Independence - YouTube](https://www.youtube.com/watch?v=SrEmzdOT65s)\n",
    "\n",
    "[Time Series Measures — PyInform 0.2.0 documentation](https://elife-asu.github.io/PyInform/timeseries.html#module-pyinform.conditionalentropy)\n",
    "[Python Module Index — PyInform 0.2.0 documentation](https://elife-asu.github.io/PyInform/py-modindex.html)\n",
    "\n",
    "[Empirical Distributions — PyInform 0.2.0 documentation](https://elife-asu.github.io/PyInform/dist.html?module-pyinform.dist#module-pyinform.dist)\n",
    "\n",
    "[Time Series Measures — PyInform 0.2.0 documentation](https://elife-asu.github.io/PyInform/timeseries.html#module-pyinform.mutualinfo)\n",
    "\n",
    "[entropy.dvi](https://www.csd.uoc.gr/~hy438/lectures/entropy.pdf)\n",
    "\n",
    "[2 ENTROPY DEPENDENCE.pdf](http://cosynet.auth.gr/sites/default/files/less16_17/2%20ENTROPY%20DEPENDENCE.pdf)\n",
    "\n",
    "[python - Best way to get joint probability from 2D numpy - Stack Overflow](https://stackoverflow.com/questions/45070966/best-way-to-get-joint-probability-from-2d-numpy)\n",
    "\n",
    "[joint probability distribution marginal probabilities - Google Search](https://www.google.com/search?q=joint+probability+distribution+marginal+probabilities&oq=joint+distribution+of+marginal+pro&aqs=chrome.1.69i57j0i22i30l3j0i390l3.9008j0j7&sourceid=chrome&ie=UTF-8)\n",
    "\n",
    "[numpy - Calculate marginal distribution from joint distribution in Python - Stack Overflow](https://stackoverflow.com/questions/53945334/calculate-marginal-distribution-from-joint-distribution-in-python)\n",
    "\n",
    "[numpy.argmax — NumPy v1.20 Manual](https://numpy.org/doc/stable/reference/generated/numpy.argmax.html)\n",
    "\n",
    "[python - Negative values in time series forecast and high fluctuations in input data - Cross Validated](https://stats.stackexchange.com/questions/396647/negative-values-in-time-series-forecast-and-high-fluctuations-in-input-data)\n",
    "\n",
    "[sklearn.metrics.mutual_info_score — scikit-learn 0.24.2 documentation](https://scikit-learn.org/stable/modules/generated/sklearn.metrics.mutual_info_score.html#sklearn.metrics.mutual_info_score)\n",
    "\n",
    "[sklearn.metrics.adjusted_mutual_info_score — scikit-learn 0.24.2 documentation](https://scikit-learn.org/stable/modules/generated/sklearn.metrics.adjusted_mutual_info_score.html#sklearn.metrics.adjusted_mutual_info_score)\n",
    "\n",
    "[2.3. Clustering — scikit-learn 0.24.2 documentation](https://scikit-learn.org/stable/modules/clustering.html#mutual-info-score)\n",
    "\n",
    "[Can the mutual information of a \"cell\" be negative? - Cross Validated](https://stats.stackexchange.com/questions/5698/can-the-mutual-information-of-a-cell-be-negative)\n",
    "\n",
    "[pr.probability - Can the mutual information of a \"cell\" be negative? - Theoretical Computer Science Stack Exchange](https://cstheory.stackexchange.com/questions/3939/can-the-mutual-information-of-a-cell-be-negative/3943#3943)\n",
    "\n",
    "[Shannon Information Measures — PyInform 0.2.0 documentation](https://elife-asu.github.io/PyInform/shannon.html?highlight=kullback)\n",
    "\n",
    "[kullback-leibler divergence venn diagram - Google Search](https://www.google.com/search?q=kullback-leibler+divergence+venn+diagram&sxsrf=ALeKk02knhy320Bys-4rFFMhgoIYQdYSzw:1622810157415&tbm=isch&source=iu&ictx=1&fir=8gKMdWJTKQY0IM%252CNyi01RYV8spmIM%252C_&vet=1&usg=AI4_-kTrk0nY-muv3AzngG_ukpB9BbbJRg&sa=X&ved=2ahUKEwjCquH3_v3wAhXzh_0HHat5A7gQ9QF6BAgPEAE#imgrc=UkSG_FIH7kBp_M)\n",
    "\n",
    "[ECS452 4 u5.pdf](http://www2.siit.tu.ac.th/prapun/ecs452_2017_2/ECS452%204%20u5.pdf)"
   ],
   "metadata": {
    "collapsed": false,
    "pycharm": {
     "name": "#%% md\n"
    },
    "cell_id": "00000-7dd2500e-de20-435e-8128-5ff3d4f0a2af",
    "deepnote_cell_type": "markdown"
   }
  },
  {
   "cell_type": "markdown",
   "source": [
    "# Import modules"
   ],
   "metadata": {
    "collapsed": false,
    "cell_id": "00001-751a7d13-8802-4044-a980-7fe9a582a38e",
    "deepnote_cell_type": "markdown"
   }
  },
  {
   "cell_type": "code",
   "metadata": {
    "collapsed": false,
    "pycharm": {
     "name": "#%%\n"
    },
    "cell_id": "00002-dfb3ff09-52c3-47df-a5a2-837bdf70356c",
    "deepnote_to_be_reexecuted": false,
    "source_hash": "6ec7bc65",
    "execution_start": 1622628076424,
    "execution_millis": 825,
    "deepnote_cell_type": "code"
   },
   "source": [
    "import time\n",
    "\n",
    "import numpy as np\n",
    "import pandas as pd\n",
    "import pyinform\n",
    "from sklearn.feature_selection import RFE\n",
    "from sklearn.model_selection import train_test_split"
   ],
   "execution_count": 1,
   "outputs": []
  },
  {
   "cell_type": "markdown",
   "source": [
    "#   Data preprocessing"
   ],
   "metadata": {
    "collapsed": false,
    "cell_id": "00003-c2277ad7-a73a-4670-8e99-ef3bedbcdf1f",
    "deepnote_cell_type": "markdown"
   }
  },
  {
   "cell_type": "markdown",
   "source": [
    "## Read gene dataset"
   ],
   "metadata": {
    "collapsed": false,
    "cell_id": "00004-720fadab-ef6f-4206-ae74-6a6447a96e99",
    "deepnote_cell_type": "markdown"
   }
  },
  {
   "cell_type": "code",
   "metadata": {
    "collapsed": false,
    "pycharm": {
     "name": "#%%\n"
    },
    "cell_id": "00005-4a977ac4-8636-4187-b724-9409ded36a1b",
    "deepnote_to_be_reexecuted": false,
    "source_hash": "d7c5a260",
    "execution_start": 1622628077252,
    "execution_millis": 1377,
    "deepnote_cell_type": "code"
   },
   "source": [
    "# original_dataset = pd.read_csv('http://139.91.190.186/tei/bioinformatics/Golub.txt', sep='\\t')\n",
    "from sklearn.svm import SVC\n",
    "\n",
    "original_dataset = pd.read_csv('Golub.txt', sep='\\t')\n",
    "original_dataset"
   ],
   "execution_count": 2,
   "outputs": [
    {
     "data": {
      "text/plain": "               Genes   ALL  ALL.1  ALL.2  ALL.3  ALL.4  ALL.5  ALL.6  ALL.7  \\\n0     AFFX-BioB-5_at  -342    -87     22   -243   -130   -256    -62     86   \n1     AFFX-BioB-M_at  -200   -248   -153   -218   -177   -249    -23    -36   \n2     AFFX-BioB-3_at    41    262     17   -163    -28   -410     -7   -141   \n3     AFFX-BioC-5_at   328    295    276    182    266     24    142    252   \n4     AFFX-BioC-3_at  -224   -226   -211   -289   -170   -535   -233   -201   \n...              ...   ...    ...    ...    ...    ...    ...    ...    ...   \n7124       X83863_at  1074     67    893    722    612   1950    245   1235   \n7125       Z17240_at   475    263    297    170    370    906    164      9   \n7126     L49218_f_at    48    -33      6      0     29     79     84      7   \n7127     M71243_f_at   168    -33   1971    510    333    170    100   1545   \n7128     Z78285_f_at   -70    -21    -42    -73    -19    -64    -18    -81   \n\n      ALL.8  ...  AML.15  AML.16  AML.17  AML.18  AML.19  AML.20  AML.21  \\\n0      -146  ...       7    -213     -25     -72      -4      15    -318   \n1       -74  ...    -100    -252     -20    -139    -116    -114    -192   \n2       170  ...     -57     136     124      -1    -125       2     -95   \n3       174  ...     132     318     325     392     241     193     312   \n4       -32  ...    -377    -209    -396    -324    -191     -51    -139   \n...     ...  ...     ...     ...     ...     ...     ...     ...     ...   \n7124    354  ...     752    1293    1733    1567     987     279     737   \n7125    -42  ...     295     342     304     627     279      51     227   \n7126   -100  ...      28      26      12      21      22       6      -9   \n7127     45  ...    1558     246    3193    2520     662    2484     371   \n7128   -108  ...     -67      23     -33       0     -46      -2     -31   \n\n      AML.22  AML.23  AML.24  \n0        -32    -124    -135  \n1        -49     -79    -186  \n2         49     -37     -70  \n3        230     330     337  \n4       -367    -188    -407  \n...      ...     ...     ...  \n7124     588    1170    2315  \n7125     361     284     250  \n7126     -26      39     -12  \n7127     133     298     790  \n7128     -32      -3     -10  \n\n[7129 rows x 73 columns]",
      "text/html": "<div>\n<style scoped>\n    .dataframe tbody tr th:only-of-type {\n        vertical-align: middle;\n    }\n\n    .dataframe tbody tr th {\n        vertical-align: top;\n    }\n\n    .dataframe thead th {\n        text-align: right;\n    }\n</style>\n<table border=\"1\" class=\"dataframe\">\n  <thead>\n    <tr style=\"text-align: right;\">\n      <th></th>\n      <th>Genes</th>\n      <th>ALL</th>\n      <th>ALL.1</th>\n      <th>ALL.2</th>\n      <th>ALL.3</th>\n      <th>ALL.4</th>\n      <th>ALL.5</th>\n      <th>ALL.6</th>\n      <th>ALL.7</th>\n      <th>ALL.8</th>\n      <th>...</th>\n      <th>AML.15</th>\n      <th>AML.16</th>\n      <th>AML.17</th>\n      <th>AML.18</th>\n      <th>AML.19</th>\n      <th>AML.20</th>\n      <th>AML.21</th>\n      <th>AML.22</th>\n      <th>AML.23</th>\n      <th>AML.24</th>\n    </tr>\n  </thead>\n  <tbody>\n    <tr>\n      <th>0</th>\n      <td>AFFX-BioB-5_at</td>\n      <td>-342</td>\n      <td>-87</td>\n      <td>22</td>\n      <td>-243</td>\n      <td>-130</td>\n      <td>-256</td>\n      <td>-62</td>\n      <td>86</td>\n      <td>-146</td>\n      <td>...</td>\n      <td>7</td>\n      <td>-213</td>\n      <td>-25</td>\n      <td>-72</td>\n      <td>-4</td>\n      <td>15</td>\n      <td>-318</td>\n      <td>-32</td>\n      <td>-124</td>\n      <td>-135</td>\n    </tr>\n    <tr>\n      <th>1</th>\n      <td>AFFX-BioB-M_at</td>\n      <td>-200</td>\n      <td>-248</td>\n      <td>-153</td>\n      <td>-218</td>\n      <td>-177</td>\n      <td>-249</td>\n      <td>-23</td>\n      <td>-36</td>\n      <td>-74</td>\n      <td>...</td>\n      <td>-100</td>\n      <td>-252</td>\n      <td>-20</td>\n      <td>-139</td>\n      <td>-116</td>\n      <td>-114</td>\n      <td>-192</td>\n      <td>-49</td>\n      <td>-79</td>\n      <td>-186</td>\n    </tr>\n    <tr>\n      <th>2</th>\n      <td>AFFX-BioB-3_at</td>\n      <td>41</td>\n      <td>262</td>\n      <td>17</td>\n      <td>-163</td>\n      <td>-28</td>\n      <td>-410</td>\n      <td>-7</td>\n      <td>-141</td>\n      <td>170</td>\n      <td>...</td>\n      <td>-57</td>\n      <td>136</td>\n      <td>124</td>\n      <td>-1</td>\n      <td>-125</td>\n      <td>2</td>\n      <td>-95</td>\n      <td>49</td>\n      <td>-37</td>\n      <td>-70</td>\n    </tr>\n    <tr>\n      <th>3</th>\n      <td>AFFX-BioC-5_at</td>\n      <td>328</td>\n      <td>295</td>\n      <td>276</td>\n      <td>182</td>\n      <td>266</td>\n      <td>24</td>\n      <td>142</td>\n      <td>252</td>\n      <td>174</td>\n      <td>...</td>\n      <td>132</td>\n      <td>318</td>\n      <td>325</td>\n      <td>392</td>\n      <td>241</td>\n      <td>193</td>\n      <td>312</td>\n      <td>230</td>\n      <td>330</td>\n      <td>337</td>\n    </tr>\n    <tr>\n      <th>4</th>\n      <td>AFFX-BioC-3_at</td>\n      <td>-224</td>\n      <td>-226</td>\n      <td>-211</td>\n      <td>-289</td>\n      <td>-170</td>\n      <td>-535</td>\n      <td>-233</td>\n      <td>-201</td>\n      <td>-32</td>\n      <td>...</td>\n      <td>-377</td>\n      <td>-209</td>\n      <td>-396</td>\n      <td>-324</td>\n      <td>-191</td>\n      <td>-51</td>\n      <td>-139</td>\n      <td>-367</td>\n      <td>-188</td>\n      <td>-407</td>\n    </tr>\n    <tr>\n      <th>...</th>\n      <td>...</td>\n      <td>...</td>\n      <td>...</td>\n      <td>...</td>\n      <td>...</td>\n      <td>...</td>\n      <td>...</td>\n      <td>...</td>\n      <td>...</td>\n      <td>...</td>\n      <td>...</td>\n      <td>...</td>\n      <td>...</td>\n      <td>...</td>\n      <td>...</td>\n      <td>...</td>\n      <td>...</td>\n      <td>...</td>\n      <td>...</td>\n      <td>...</td>\n      <td>...</td>\n    </tr>\n    <tr>\n      <th>7124</th>\n      <td>X83863_at</td>\n      <td>1074</td>\n      <td>67</td>\n      <td>893</td>\n      <td>722</td>\n      <td>612</td>\n      <td>1950</td>\n      <td>245</td>\n      <td>1235</td>\n      <td>354</td>\n      <td>...</td>\n      <td>752</td>\n      <td>1293</td>\n      <td>1733</td>\n      <td>1567</td>\n      <td>987</td>\n      <td>279</td>\n      <td>737</td>\n      <td>588</td>\n      <td>1170</td>\n      <td>2315</td>\n    </tr>\n    <tr>\n      <th>7125</th>\n      <td>Z17240_at</td>\n      <td>475</td>\n      <td>263</td>\n      <td>297</td>\n      <td>170</td>\n      <td>370</td>\n      <td>906</td>\n      <td>164</td>\n      <td>9</td>\n      <td>-42</td>\n      <td>...</td>\n      <td>295</td>\n      <td>342</td>\n      <td>304</td>\n      <td>627</td>\n      <td>279</td>\n      <td>51</td>\n      <td>227</td>\n      <td>361</td>\n      <td>284</td>\n      <td>250</td>\n    </tr>\n    <tr>\n      <th>7126</th>\n      <td>L49218_f_at</td>\n      <td>48</td>\n      <td>-33</td>\n      <td>6</td>\n      <td>0</td>\n      <td>29</td>\n      <td>79</td>\n      <td>84</td>\n      <td>7</td>\n      <td>-100</td>\n      <td>...</td>\n      <td>28</td>\n      <td>26</td>\n      <td>12</td>\n      <td>21</td>\n      <td>22</td>\n      <td>6</td>\n      <td>-9</td>\n      <td>-26</td>\n      <td>39</td>\n      <td>-12</td>\n    </tr>\n    <tr>\n      <th>7127</th>\n      <td>M71243_f_at</td>\n      <td>168</td>\n      <td>-33</td>\n      <td>1971</td>\n      <td>510</td>\n      <td>333</td>\n      <td>170</td>\n      <td>100</td>\n      <td>1545</td>\n      <td>45</td>\n      <td>...</td>\n      <td>1558</td>\n      <td>246</td>\n      <td>3193</td>\n      <td>2520</td>\n      <td>662</td>\n      <td>2484</td>\n      <td>371</td>\n      <td>133</td>\n      <td>298</td>\n      <td>790</td>\n    </tr>\n    <tr>\n      <th>7128</th>\n      <td>Z78285_f_at</td>\n      <td>-70</td>\n      <td>-21</td>\n      <td>-42</td>\n      <td>-73</td>\n      <td>-19</td>\n      <td>-64</td>\n      <td>-18</td>\n      <td>-81</td>\n      <td>-108</td>\n      <td>...</td>\n      <td>-67</td>\n      <td>23</td>\n      <td>-33</td>\n      <td>0</td>\n      <td>-46</td>\n      <td>-2</td>\n      <td>-31</td>\n      <td>-32</td>\n      <td>-3</td>\n      <td>-10</td>\n    </tr>\n  </tbody>\n</table>\n<p>7129 rows × 73 columns</p>\n</div>"
     },
     "execution_count": 2,
     "metadata": {},
     "output_type": "execute_result"
    }
   ]
  },
  {
   "cell_type": "markdown",
   "source": [
    "## Process data"
   ],
   "metadata": {
    "collapsed": false,
    "cell_id": "00006-a486028f-5dc5-4777-bfe0-0b707b1439f1",
    "deepnote_cell_type": "markdown"
   }
  },
  {
   "cell_type": "code",
   "metadata": {
    "pycharm": {
     "name": "#%%\n"
    },
    "cell_id": "00007-09a566aa-a129-413c-9336-147d294b1edb",
    "deepnote_to_be_reexecuted": false,
    "source_hash": "e79f10d2",
    "execution_start": 1622628078625,
    "execution_millis": 285,
    "deepnote_cell_type": "code"
   },
   "source": [
    "def process_data(dataset: pd.DataFrame) -> [pd.Series, pd.Series, pd.DataFrame]:\n",
    "    \"\"\"To process read datasets.\n",
    "    Firstly, returns gene names as a pd.Series object.\n",
    "    Secondly, returns label names as a pd.Series object without Gene label and numbers at the end of ALL and AML columns.\n",
    "    Thirdly, returns a processed dataset in the following ways:\n",
    "        -   Its columns are renamed by the dataset_labels list.\n",
    "        -   It gets transposed.\n",
    "    Args:\n",
    "        dataset(pd.DataFrame): Read dataset.\n",
    "    Returns:\n",
    "        [np.array, np.array, np.array]: Returns a tuple containing dataset genes, dataset labels and processed dataset as np.arrays.\n",
    "    \"\"\"\n",
    "    altered_dataset = dataset\n",
    "    dataset_genes = altered_dataset.iloc[:, 0]\n",
    "    dataset_labels = pd.Series(\n",
    "        [\n",
    "            'ALL' if 'ALL' in dataset_column else 'AML' if 'AML' in dataset_column else dataset_column\n",
    "            for dataset_column in list(altered_dataset.columns)\n",
    "        ]\n",
    "    )\n",
    "    altered_dataset = altered_dataset.set_axis(dataset_labels, axis='columns').T.iloc[1:]\n",
    "    return [dataset_genes, dataset_labels[1:], altered_dataset]\n",
    "\n",
    "\n",
    "genes, features, labels = process_data(original_dataset)"
   ],
   "execution_count": 3,
   "outputs": []
  },
  {
   "cell_type": "markdown",
   "source": [
    "## Split dataset to train and test data subsets"
   ],
   "metadata": {
    "collapsed": false,
    "pycharm": {
     "name": "#%% md\n"
    },
    "cell_id": "00008-a567e3b4-467c-4506-88c3-a3777c163e5e",
    "deepnote_cell_type": "markdown"
   }
  },
  {
   "cell_type": "code",
   "metadata": {
    "collapsed": false,
    "pycharm": {
     "name": "#%%\n"
    },
    "cell_id": "00009-2d1fd538-ac38-4c3c-821e-9f680bfc98e3",
    "deepnote_to_be_reexecuted": false,
    "source_hash": "94b0cd64",
    "execution_start": 1622628078923,
    "execution_millis": 3,
    "deepnote_cell_type": "code"
   },
   "source": [
    "train_labels, test_labels, train_features, test_features = train_test_split(features, labels, train_size=0.75)"
   ],
   "execution_count": 4,
   "outputs": []
  },
  {
   "cell_type": "markdown",
   "source": [
    "#   Data analysis"
   ],
   "metadata": {
    "collapsed": false,
    "cell_id": "00010-89af665a-3cdf-4259-91ec-f77ae1767ee6",
    "deepnote_cell_type": "markdown"
   }
  },
  {
   "cell_type": "markdown",
   "source": [
    "##  SVM-RFE"
   ],
   "metadata": {
    "collapsed": false,
    "cell_id": "00011-28a8bb53-4444-4c4c-b2c7-10b328946de9",
    "deepnote_cell_type": "markdown"
   }
  },
  {
   "cell_type": "markdown",
   "source": [
    "### Train"
   ],
   "metadata": {
    "collapsed": false,
    "cell_id": "00012-74005332-7dc4-4aee-8d6e-b0b848c8f450",
    "deepnote_cell_type": "markdown"
   }
  },
  {
   "cell_type": "code",
   "metadata": {
    "collapsed": false,
    "pycharm": {
     "name": "#%%\n"
    },
    "cell_id": "00013-7afbed81-87b9-4651-bbcb-14f3db9ccdba",
    "deepnote_to_be_reexecuted": true,
    "source_hash": "5b8ce754",
    "execution_start": 1622628078933,
    "execution_millis": 123501,
    "deepnote_cell_type": "code"
   },
   "source": [
    "tic = time.perf_counter()\n",
    "\n",
    "svm = SVC(kernel='linear').fit(train_features, train_labels)\n",
    "svm_rfe = RFE(estimator=svm).fit(train_features, train_labels)\n",
    "\n",
    "toc = time.perf_counter()\n",
    "toc - tic"
   ],
   "outputs": [
    {
     "data": {
      "text/plain": "18.748268666999998"
     },
     "execution_count": 5,
     "metadata": {},
     "output_type": "execute_result"
    }
   ],
   "execution_count": 5
  },
  {
   "cell_type": "markdown",
   "source": [
    "### Accuracy"
   ],
   "metadata": {
    "collapsed": false,
    "pycharm": {
     "name": "#%% md\n"
    },
    "cell_id": "00014-37d4814c-1163-4e11-a8b7-c61dc7d85a52",
    "deepnote_cell_type": "markdown"
   }
  },
  {
   "cell_type": "code",
   "metadata": {
    "collapsed": false,
    "pycharm": {
     "name": "#%%\n"
    },
    "cell_id": "00015-118b75d1-286d-46c7-a715-94756ac83de7",
    "deepnote_to_be_reexecuted": true,
    "source_hash": "395eafe3",
    "execution_start": 1622627582211,
    "execution_millis": 99,
    "deepnote_cell_type": "code"
   },
   "source": [
    "svm_rfe.score(train_features, train_labels)\n",
    "# should return 1.0"
   ],
   "outputs": [
    {
     "data": {
      "text/plain": "1.0"
     },
     "execution_count": 6,
     "metadata": {},
     "output_type": "execute_result"
    }
   ],
   "execution_count": 6
  },
  {
   "cell_type": "code",
   "metadata": {
    "collapsed": false,
    "pycharm": {
     "name": "#%%\n"
    },
    "cell_id": "00016-3e76959b-542c-41ee-8fa8-9d254a9374a3",
    "deepnote_to_be_reexecuted": true,
    "source_hash": "54075026",
    "execution_start": 1622627582307,
    "execution_millis": 34,
    "deepnote_cell_type": "code"
   },
   "source": [
    "svm_rfe_accuracy = svm_rfe.score(test_features, test_labels)\n",
    "# sometimes it achieves score of 1.0; might need some kernel restarts and re-runs\n",
    "svm_rfe_accuracy"
   ],
   "outputs": [
    {
     "data": {
      "text/plain": "0.9444444444444444"
     },
     "execution_count": 7,
     "metadata": {},
     "output_type": "execute_result"
    }
   ],
   "execution_count": 7
  },
  {
   "cell_type": "markdown",
   "source": [
    "### Prediction"
   ],
   "metadata": {
    "collapsed": false,
    "pycharm": {
     "name": "#%% md\n"
    },
    "cell_id": "00017-2630f63a-17cd-4017-857e-e50ceb94e4ea",
    "deepnote_cell_type": "markdown"
   }
  },
  {
   "cell_type": "code",
   "metadata": {
    "collapsed": false,
    "pycharm": {
     "name": "#%%\n"
    },
    "cell_id": "00018-48558d74-119c-4071-9a5d-0f0b403d2b28",
    "deepnote_to_be_reexecuted": true,
    "source_hash": "6b06e468",
    "execution_start": 1622627582394,
    "execution_millis": 7,
    "deepnote_cell_type": "code"
   },
   "source": [
    "list(svm_rfe.predict(train_features) == train_labels).count(True)\n",
    "# should return 54"
   ],
   "outputs": [
    {
     "data": {
      "text/plain": "54"
     },
     "execution_count": 14,
     "metadata": {},
     "output_type": "execute_result"
    }
   ],
   "execution_count": 14
  },
  {
   "cell_type": "code",
   "metadata": {
    "collapsed": false,
    "pycharm": {
     "name": "#%%\n"
    },
    "cell_id": "00019-a8ae553e-c232-4a24-aeaf-3df98847fcd1",
    "deepnote_to_be_reexecuted": true,
    "source_hash": "343fce44",
    "execution_start": 1622627582438,
    "execution_millis": 5,
    "deepnote_cell_type": "code"
   },
   "source": [
    "svm_rfe_prediction = svm_rfe.predict(test_features)\n",
    "svm_rfe_test_prediction = list(test_labels == svm_rfe_prediction)\n",
    "f'{svm_rfe_test_prediction.count(True)} labels correct out of {len(svm_rfe_prediction)}'\n",
    "# sometimes it achieves 18 out of 18; might need some kernel restarts and re-runs"
   ],
   "outputs": [
    {
     "data": {
      "text/plain": "'17 labels correct out of 18'"
     },
     "execution_count": 9,
     "metadata": {},
     "output_type": "execute_result"
    }
   ],
   "execution_count": 9
  },
  {
   "cell_type": "markdown",
   "source": [
    "### Notes\n",
    "\n",
    "Sometimes the SVM-RFE model achieves"
   ],
   "metadata": {
    "collapsed": false,
    "pycharm": {
     "name": "#%% md\n"
    }
   }
  },
  {
   "cell_type": "markdown",
   "source": [
    "## MIGS-Pruning"
   ],
   "metadata": {
    "collapsed": false,
    "pycharm": {
     "name": "#%% md\n"
    }
   }
  },
  {
   "cell_type": "markdown",
   "source": [
    "### Implementation"
   ],
   "metadata": {
    "tags": [],
    "cell_id": "00021-36f25cab-b559-4dc9-80e9-5af03c4b24ae",
    "deepnote_cell_type": "markdown",
    "pycharm": {
     "name": "#%% md\n"
    }
   }
  },
  {
   "cell_type": "code",
   "execution_count": 10,
   "outputs": [
    {
     "name": "stderr",
     "output_type": "stream",
     "text": [
      "<ipython-input-10-fa9192884ce7>:1: RuntimeWarning: overflow encountered in exp\n",
      "  ns = np.vectorize(lambda x: 1 / (1 + np.exp(-x)))(np.array(train_features.T)).tolist()\n"
     ]
    }
   ],
   "source": [
    "ns = np.vectorize(lambda x: 1 / (1 + np.exp(-x)))(np.array(train_features.T)).tolist()\n",
    "# applied sigmoid function because negative values later result in ValueError\n",
    "# while a sparse array results in all MIs to be 0\n",
    "s = []"
   ],
   "metadata": {
    "collapsed": false,
    "pycharm": {
     "name": "#%%\n"
    }
   }
  },
  {
   "cell_type": "code",
   "execution_count": 11,
   "outputs": [],
   "source": [
    "#   Initialization\n",
    "MI = [\n",
    "    pyinform.conditional_entropy(\n",
    "        pyinform.dist.Dist(ns[i]),\n",
    "        pyinform.dist.Dist(ns[i + 1])\n",
    "    )\n",
    "    for i in range(len(ns) - 1)\n",
    "]"
   ],
   "metadata": {
    "collapsed": false,
    "pycharm": {
     "name": "#%%\n"
    }
   }
  },
  {
   "cell_type": "markdown",
   "source": [
    "**The following cell will not stop running when executed for a second time without a kernel restart.**"
   ],
   "metadata": {
    "collapsed": false,
    "pycharm": {
     "name": "#%% md\n"
    }
   }
  },
  {
   "cell_type": "code",
   "execution_count": 12,
   "outputs": [],
   "source": [
    "#   Iterative selection procedure\n",
    "\n",
    "# for k in range(1, len(MI)):\n",
    "#     s.append(np.argmax(MI[k]))\n",
    "#     MI[k] = 0\n",
    "#     for i in range(1, len(ns) - k):\n",
    "#         MI[i] = min([\n",
    "#             MI[i],\n",
    "#             pyinform.conditional_entropy(\n",
    "#                 pyinform.dist.Dist(ns[i]),\n",
    "#                 pyinform.dist.Dist(ns[i] * s[k])\n",
    "#             )\n",
    "#         ])"
   ],
   "metadata": {
    "collapsed": false,
    "pycharm": {
     "name": "#%%\n"
    }
   }
  }
 ],
 "nbformat": 4,
 "nbformat_minor": 2,
 "metadata": {
  "language_info": {
   "codemirror_mode": {
    "name": "ipython",
    "version": 3
   },
   "file_extension": ".py",
   "mimetype": "text/x-python",
   "name": "python",
   "nbconvert_exporter": "python",
   "pygments_lexer": "ipython3",
   "version": "3.8.5"
  },
  "orig_nbformat": 2,
  "kernelspec": {
   "name": "python385jvsc74a57bd0f058aeb1758ada1a7de5f5ba217300728d151518e4300feaaa8035dbc87e5e92",
   "language": "python",
   "display_name": "Python 3.8.5 64-bit ('anaconda3': virtualenv)"
  },
  "deepnote_notebook_id": "b5a50df2-2173-4bc9-8a34-8766250367eb",
  "deepnote": {
   "is_reactive": false
  },
  "deepnote_execution_queue": [
   {
    "cellId": "00013-7afbed81-87b9-4651-bbcb-14f3db9ccdba",
    "sessionId": "b299d3ba-d2c1-4899-810e-f4badb26be22",
    "msgId": "c75d37fb-2501-4096-8e12-5975d4787ef7"
   },
   {
    "cellId": "00015-118b75d1-286d-46c7-a715-94756ac83de7",
    "sessionId": "b299d3ba-d2c1-4899-810e-f4badb26be22",
    "msgId": "f192ba53-bcb6-439f-9df0-fe7025c17d49"
   },
   {
    "cellId": "00016-3e76959b-542c-41ee-8fa8-9d254a9374a3",
    "sessionId": "b299d3ba-d2c1-4899-810e-f4badb26be22",
    "msgId": "0d4512dc-937c-4a5b-971e-44f8f4bc4956"
   },
   {
    "cellId": "00018-48558d74-119c-4071-9a5d-0f0b403d2b28",
    "sessionId": "b299d3ba-d2c1-4899-810e-f4badb26be22",
    "msgId": "e8fbf962-b677-4089-955a-d230d4febfd5"
   },
   {
    "cellId": "00019-a8ae553e-c232-4a24-aeaf-3df98847fcd1",
    "sessionId": "b299d3ba-d2c1-4899-810e-f4badb26be22",
    "msgId": "836031c1-0b2b-46bd-9335-e64ee2261ddf"
   },
   {
    "cellId": "00022-7a3578ab-172e-47cc-add4-b10b99e7c415",
    "sessionId": "b299d3ba-d2c1-4899-810e-f4badb26be22",
    "msgId": "0b23ca12-3b45-4454-9c2d-2c6651f6830f"
   }
  ],
  "metadata": {
   "interpreter": {
    "hash": "f058aeb1758ada1a7de5f5ba217300728d151518e4300feaaa8035dbc87e5e92"
   }
  }
 }
}